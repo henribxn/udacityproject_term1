{
 "cells": [
  {
   "cell_type": "markdown",
   "metadata": {},
   "source": [
    "# Project: Identify Customer Segments\n",
    "\n",
    "In this project, you will apply unsupervised learning techniques to identify segments of the population that form the core customer base for a mail-order sales company in Germany. These segments can then be used to direct marketing campaigns towards audiences that will have the highest expected rate of returns. The data that you will use has been provided by our partners at Bertelsmann Arvato Analytics, and represents a real-life data science task.\n",
    "\n",
    "This notebook will help you complete this task by providing a framework within which you will perform your analysis steps. In each step of the project, you will see some text describing the subtask that you will perform, followed by one or more code cells for you to complete your work. **Feel free to add additional code and markdown cells as you go along so that you can explore everything in precise chunks.** The code cells provided in the base template will outline only the major tasks, and will usually not be enough to cover all of the minor tasks that comprise it.\n",
    "\n",
    "It should be noted that while there will be precise guidelines on how you should handle certain tasks in the project, there will also be places where an exact specification is not provided. **There will be times in the project where you will need to make and justify your own decisions on how to treat the data.** These are places where there may not be only one way to handle the data. In real-life tasks, there may be many valid ways to approach an analysis task. One of the most important things you can do is clearly document your approach so that other scientists can understand the decisions you've made.\n",
    "\n",
    "At the end of most sections, there will be a Markdown cell labeled **Discussion**. In these cells, you will report your findings for the completed section, as well as document the decisions that you made in your approach to each subtask. **Your project will be evaluated not just on the code used to complete the tasks outlined, but also your communication about your observations and conclusions at each stage.**"
   ]
  },
  {
   "cell_type": "code",
   "execution_count": 1,
   "metadata": {},
   "outputs": [],
   "source": [
    "# import libraries here; add more as necessary\n",
    "import numpy as np\n",
    "import pandas as pd\n",
    "import matplotlib.pyplot as plt\n",
    "import seaborn as sns\n",
    "\n",
    "# added libraries\n",
    "from time import time\n",
    "from IPython.display import display # Allows the use of display() for DataFrames\n",
    "\n",
    "# magic word for producing visualizations in notebook\n",
    "%matplotlib inline"
   ]
  },
  {
   "cell_type": "markdown",
   "metadata": {},
   "source": [
    "### Step 0: Load the Data\n",
    "\n",
    "There are four files associated with this project (not including this one):\n",
    "\n",
    "- `Udacity_AZDIAS_Subset.csv`: Demographics data for the general population of Germany; 891211 persons (rows) x 85 features (columns).\n",
    "- `Udacity_CUSTOMERS_Subset.csv`: Demographics data for customers of a mail-order company; 191652 persons (rows) x 85 features (columns).\n",
    "- `Data_Dictionary.md`: Detailed information file about the features in the provided datasets.\n",
    "- `AZDIAS_Feature_Summary.csv`: Summary of feature attributes for demographics data; 85 features (rows) x 4 columns\n",
    "\n",
    "Each row of the demographics files represents a single person, but also includes information outside of individuals, including information about their household, building, and neighborhood. You will use this information to cluster the general population into groups with similar demographic properties. Then, you will see how the people in the customers dataset fit into those created clusters. The hope here is that certain clusters are over-represented in the customers data, as compared to the general population; those over-represented clusters will be assumed to be part of the core userbase. This information can then be used for further applications, such as targeting for a marketing campaign.\n",
    "\n",
    "To start off with, load in the demographics data for the general population into a pandas DataFrame, and do the same for the feature attributes summary. Note for all of the `.csv` data files in this project: they're semicolon (`;`) delimited, so you'll need an additional argument in your [`read_csv()`](https://pandas.pydata.org/pandas-docs/stable/generated/pandas.read_csv.html) call to read in the data properly. Also, considering the size of the main dataset, it may take some time for it to load completely.\n",
    "\n",
    "Once the dataset is loaded, it's recommended that you take a little bit of time just browsing the general structure of the dataset and feature summary file. You'll be getting deep into the innards of the cleaning in the first major step of the project, so gaining some general familiarity can help you get your bearings."
   ]
  },
  {
   "cell_type": "code",
   "execution_count": 2,
   "metadata": {},
   "outputs": [],
   "source": [
    "# Load in the general demographics data.\n",
    "azdias = pd.read_csv(\"Udacity_AZDIAS_Subset.csv\", sep = \";\")\n",
    "\n",
    "# Load in the feature summary file.\n",
    "feat_info = pd.read_csv(\"AZDIAS_Feature_Summary.csv\",sep = \";\")"
   ]
  },
  {
   "cell_type": "code",
   "execution_count": 3,
   "metadata": {},
   "outputs": [
    {
     "name": "stdout",
     "output_type": "stream",
     "text": [
      "(891221, 85)\n"
     ]
    },
    {
     "data": {
      "text/html": [
       "<div>\n",
       "<style scoped>\n",
       "    .dataframe tbody tr th:only-of-type {\n",
       "        vertical-align: middle;\n",
       "    }\n",
       "\n",
       "    .dataframe tbody tr th {\n",
       "        vertical-align: top;\n",
       "    }\n",
       "\n",
       "    .dataframe thead th {\n",
       "        text-align: right;\n",
       "    }\n",
       "</style>\n",
       "<table border=\"1\" class=\"dataframe\">\n",
       "  <thead>\n",
       "    <tr style=\"text-align: right;\">\n",
       "      <th></th>\n",
       "      <th>AGER_TYP</th>\n",
       "      <th>ALTERSKATEGORIE_GROB</th>\n",
       "      <th>ANREDE_KZ</th>\n",
       "      <th>CJT_GESAMTTYP</th>\n",
       "      <th>FINANZ_MINIMALIST</th>\n",
       "      <th>FINANZ_SPARER</th>\n",
       "      <th>FINANZ_VORSORGER</th>\n",
       "      <th>FINANZ_ANLEGER</th>\n",
       "      <th>FINANZ_UNAUFFAELLIGER</th>\n",
       "      <th>FINANZ_HAUSBAUER</th>\n",
       "      <th>...</th>\n",
       "      <th>PLZ8_ANTG1</th>\n",
       "      <th>PLZ8_ANTG2</th>\n",
       "      <th>PLZ8_ANTG3</th>\n",
       "      <th>PLZ8_ANTG4</th>\n",
       "      <th>PLZ8_BAUMAX</th>\n",
       "      <th>PLZ8_HHZ</th>\n",
       "      <th>PLZ8_GBZ</th>\n",
       "      <th>ARBEIT</th>\n",
       "      <th>ORTSGR_KLS9</th>\n",
       "      <th>RELAT_AB</th>\n",
       "    </tr>\n",
       "  </thead>\n",
       "  <tbody>\n",
       "    <tr>\n",
       "      <th>0</th>\n",
       "      <td>-1</td>\n",
       "      <td>2</td>\n",
       "      <td>1</td>\n",
       "      <td>2.0</td>\n",
       "      <td>3</td>\n",
       "      <td>4</td>\n",
       "      <td>3</td>\n",
       "      <td>5</td>\n",
       "      <td>5</td>\n",
       "      <td>3</td>\n",
       "      <td>...</td>\n",
       "      <td>NaN</td>\n",
       "      <td>NaN</td>\n",
       "      <td>NaN</td>\n",
       "      <td>NaN</td>\n",
       "      <td>NaN</td>\n",
       "      <td>NaN</td>\n",
       "      <td>NaN</td>\n",
       "      <td>NaN</td>\n",
       "      <td>NaN</td>\n",
       "      <td>NaN</td>\n",
       "    </tr>\n",
       "    <tr>\n",
       "      <th>1</th>\n",
       "      <td>-1</td>\n",
       "      <td>1</td>\n",
       "      <td>2</td>\n",
       "      <td>5.0</td>\n",
       "      <td>1</td>\n",
       "      <td>5</td>\n",
       "      <td>2</td>\n",
       "      <td>5</td>\n",
       "      <td>4</td>\n",
       "      <td>5</td>\n",
       "      <td>...</td>\n",
       "      <td>2.0</td>\n",
       "      <td>3.0</td>\n",
       "      <td>2.0</td>\n",
       "      <td>1.0</td>\n",
       "      <td>1.0</td>\n",
       "      <td>5.0</td>\n",
       "      <td>4.0</td>\n",
       "      <td>3.0</td>\n",
       "      <td>5.0</td>\n",
       "      <td>4.0</td>\n",
       "    </tr>\n",
       "    <tr>\n",
       "      <th>2</th>\n",
       "      <td>-1</td>\n",
       "      <td>3</td>\n",
       "      <td>2</td>\n",
       "      <td>3.0</td>\n",
       "      <td>1</td>\n",
       "      <td>4</td>\n",
       "      <td>1</td>\n",
       "      <td>2</td>\n",
       "      <td>3</td>\n",
       "      <td>5</td>\n",
       "      <td>...</td>\n",
       "      <td>3.0</td>\n",
       "      <td>3.0</td>\n",
       "      <td>1.0</td>\n",
       "      <td>0.0</td>\n",
       "      <td>1.0</td>\n",
       "      <td>4.0</td>\n",
       "      <td>4.0</td>\n",
       "      <td>3.0</td>\n",
       "      <td>5.0</td>\n",
       "      <td>2.0</td>\n",
       "    </tr>\n",
       "    <tr>\n",
       "      <th>3</th>\n",
       "      <td>2</td>\n",
       "      <td>4</td>\n",
       "      <td>2</td>\n",
       "      <td>2.0</td>\n",
       "      <td>4</td>\n",
       "      <td>2</td>\n",
       "      <td>5</td>\n",
       "      <td>2</td>\n",
       "      <td>1</td>\n",
       "      <td>2</td>\n",
       "      <td>...</td>\n",
       "      <td>2.0</td>\n",
       "      <td>2.0</td>\n",
       "      <td>2.0</td>\n",
       "      <td>0.0</td>\n",
       "      <td>1.0</td>\n",
       "      <td>3.0</td>\n",
       "      <td>4.0</td>\n",
       "      <td>2.0</td>\n",
       "      <td>3.0</td>\n",
       "      <td>3.0</td>\n",
       "    </tr>\n",
       "    <tr>\n",
       "      <th>4</th>\n",
       "      <td>-1</td>\n",
       "      <td>3</td>\n",
       "      <td>1</td>\n",
       "      <td>5.0</td>\n",
       "      <td>4</td>\n",
       "      <td>3</td>\n",
       "      <td>4</td>\n",
       "      <td>1</td>\n",
       "      <td>3</td>\n",
       "      <td>2</td>\n",
       "      <td>...</td>\n",
       "      <td>2.0</td>\n",
       "      <td>4.0</td>\n",
       "      <td>2.0</td>\n",
       "      <td>1.0</td>\n",
       "      <td>2.0</td>\n",
       "      <td>3.0</td>\n",
       "      <td>3.0</td>\n",
       "      <td>4.0</td>\n",
       "      <td>6.0</td>\n",
       "      <td>5.0</td>\n",
       "    </tr>\n",
       "  </tbody>\n",
       "</table>\n",
       "<p>5 rows × 85 columns</p>\n",
       "</div>"
      ],
      "text/plain": [
       "   AGER_TYP  ALTERSKATEGORIE_GROB  ANREDE_KZ  CJT_GESAMTTYP  \\\n",
       "0        -1                     2          1            2.0   \n",
       "1        -1                     1          2            5.0   \n",
       "2        -1                     3          2            3.0   \n",
       "3         2                     4          2            2.0   \n",
       "4        -1                     3          1            5.0   \n",
       "\n",
       "   FINANZ_MINIMALIST  FINANZ_SPARER  FINANZ_VORSORGER  FINANZ_ANLEGER  \\\n",
       "0                  3              4                 3               5   \n",
       "1                  1              5                 2               5   \n",
       "2                  1              4                 1               2   \n",
       "3                  4              2                 5               2   \n",
       "4                  4              3                 4               1   \n",
       "\n",
       "   FINANZ_UNAUFFAELLIGER  FINANZ_HAUSBAUER    ...     PLZ8_ANTG1  PLZ8_ANTG2  \\\n",
       "0                      5                 3    ...            NaN         NaN   \n",
       "1                      4                 5    ...            2.0         3.0   \n",
       "2                      3                 5    ...            3.0         3.0   \n",
       "3                      1                 2    ...            2.0         2.0   \n",
       "4                      3                 2    ...            2.0         4.0   \n",
       "\n",
       "   PLZ8_ANTG3  PLZ8_ANTG4  PLZ8_BAUMAX  PLZ8_HHZ  PLZ8_GBZ  ARBEIT  \\\n",
       "0         NaN         NaN          NaN       NaN       NaN     NaN   \n",
       "1         2.0         1.0          1.0       5.0       4.0     3.0   \n",
       "2         1.0         0.0          1.0       4.0       4.0     3.0   \n",
       "3         2.0         0.0          1.0       3.0       4.0     2.0   \n",
       "4         2.0         1.0          2.0       3.0       3.0     4.0   \n",
       "\n",
       "   ORTSGR_KLS9  RELAT_AB  \n",
       "0          NaN       NaN  \n",
       "1          5.0       4.0  \n",
       "2          5.0       2.0  \n",
       "3          3.0       3.0  \n",
       "4          6.0       5.0  \n",
       "\n",
       "[5 rows x 85 columns]"
      ]
     },
     "metadata": {},
     "output_type": "display_data"
    }
   ],
   "source": [
    "# Check the structure of the data after it's loaded (e.g. print the number of\n",
    "# rows and columns, print the first few rows).\n",
    "print(azdias.shape) # 891221 persons, 85 features\n",
    "display(azdias.head())"
   ]
  },
  {
   "cell_type": "markdown",
   "metadata": {},
   "source": [
    "> **Tip**: Add additional cells to keep everything in reasonably-sized chunks! Keyboard shortcut `esc --> a` (press escape to enter command mode, then press the 'A' key) adds a new cell before the active cell, and `esc --> b` adds a new cell after the active cell. If you need to convert an active cell to a markdown cell, use `esc --> m` and to convert to a code cell, use `esc --> y`. \n",
    "\n",
    "## Step 1: Preprocessing\n",
    "\n",
    "### Step 1.1: Assess Missing Data\n",
    "\n",
    "The feature summary file contains a summary of properties for each demographics data column. You will use this file to help you make cleaning decisions during this stage of the project. First of all, you should assess the demographics data in terms of missing data. Pay attention to the following points as you perform your analysis, and take notes on what you observe. Make sure that you fill in the **Discussion** cell with your findings and decisions at the end of each step that has one!\n",
    "\n",
    "#### Step 1.1.1: Convert Missing Value Codes to NaNs\n",
    "The fourth column of the feature attributes summary (loaded in above as `feat_info`) documents the codes from the data dictionary that indicate missing or unknown data. While the file encodes this as a list (e.g. `[-1,0]`), this will get read in as a string object. You'll need to do a little bit of parsing to make use of it to identify and clean the data. Convert data that matches a 'missing' or 'unknown' value code into a numpy NaN value. You might want to see how much data takes on a 'missing' or 'unknown' code, and how much data is naturally missing, as a point of interest.\n",
    "\n",
    "**As one more reminder, you are encouraged to add additional cells to break up your analysis into manageable chunks.**"
   ]
  },
  {
   "cell_type": "code",
   "execution_count": 4,
   "metadata": {},
   "outputs": [
    {
     "name": "stdout",
     "output_type": "stream",
     "text": [
      "AGER_TYP                   0\n",
      "ALTERSKATEGORIE_GROB       0\n",
      "ANREDE_KZ                  0\n",
      "CJT_GESAMTTYP           4854\n",
      "FINANZ_MINIMALIST          0\n",
      "dtype: int64\n"
     ]
    }
   ],
   "source": [
    "# Get naturally missing data \n",
    "missing_values = azdias.apply(lambda x : sum(x.isna()==True), axis = 0)\n",
    "print(missing_values.head())"
   ]
  },
  {
   "cell_type": "code",
   "execution_count": 5,
   "metadata": {},
   "outputs": [
    {
     "name": "stdout",
     "output_type": "stream",
     "text": [
      "{'[-1,9]', '[XX]', '[-1,0,9]', '[-1,XX]', '[-1,0]', '[-1,X]', '[0]', '[]', '[-1]'}\n"
     ]
    }
   ],
   "source": [
    "# Get the set of all possible missing or unknown values\n",
    "set_missing_values= set(list(feat_info[\"missing_or_unknown\"]))\n",
    "print(set_missing_values)"
   ]
  },
  {
   "cell_type": "code",
   "execution_count": 6,
   "metadata": {},
   "outputs": [],
   "source": [
    "def parse_missing_elements(t):\n",
    "    '''\n",
    "    This function sparse the \"missing_or_unknown\" elements \n",
    "    \n",
    "    INPUT : a given line of feat_info[\"missing_or_unknown\"]\n",
    "    OUTPUT : a list of the different elements to be replaced with Nans\n",
    "    \n",
    "    '''\n",
    "\n",
    "    t1 = t.split(\",\")\n",
    "    len_missing = len(t1) \n",
    "    \n",
    "    # Distinct the different cases depending on the length of feat_info[\"missing_or_unknown\"]\n",
    "    if len_missing == 1:\n",
    "        element1 = t1[0].split(\"[\")[1].split(\"]\")[0]\n",
    "        try:\n",
    "            element1=int(element1)\n",
    "        except:\n",
    "            pass\n",
    "        missing_element = [element1]\n",
    "\n",
    "    if len_missing == 2:\n",
    "        element1 = t1[0].split(\"[\")[1]\n",
    "        try:\n",
    "            element1=int(element1)\n",
    "        except:\n",
    "            pass\n",
    "        element2 = t1[1].split(\"]\")[0]\n",
    "        try:\n",
    "            element2=int(element2)\n",
    "        except:\n",
    "            pass\n",
    "        missing_element = [element1,element2]\n",
    "\n",
    "    # Case when len_missing==3\n",
    "    if len_missing == 3:\n",
    "        element1 = t1[0].split(\"[\")[1]\n",
    "        try:\n",
    "            element1=int(element1)\n",
    "        except:\n",
    "            pass\n",
    "        element2 = t1[1]\n",
    "        try:\n",
    "            element2=int(element2)\n",
    "        except:\n",
    "            pass\n",
    "\n",
    "        element3 = t1[2].split(\"]\")[0]\n",
    "        try:\n",
    "            element3=int(element3)\n",
    "        except:\n",
    "            pass\n",
    "        missing_element = [element1,element2,element3]\n",
    "    \n",
    "    return(missing_element)"
   ]
  },
  {
   "cell_type": "code",
   "execution_count": 7,
   "metadata": {},
   "outputs": [
    {
     "name": "stderr",
     "output_type": "stream",
     "text": [
      "/anaconda3/lib/python3.6/site-packages/ipykernel_launcher.py:5: SettingWithCopyWarning: \n",
      "A value is trying to be set on a copy of a slice from a DataFrame.\n",
      "Try using .loc[row_indexer,col_indexer] = value instead\n",
      "\n",
      "See the caveats in the documentation: http://pandas.pydata.org/pandas-docs/stable/indexing.html#indexing-view-versus-copy\n",
      "  \"\"\"\n"
     ]
    },
    {
     "data": {
      "text/html": [
       "<div>\n",
       "<style scoped>\n",
       "    .dataframe tbody tr th:only-of-type {\n",
       "        vertical-align: middle;\n",
       "    }\n",
       "\n",
       "    .dataframe tbody tr th {\n",
       "        vertical-align: top;\n",
       "    }\n",
       "\n",
       "    .dataframe thead th {\n",
       "        text-align: right;\n",
       "    }\n",
       "</style>\n",
       "<table border=\"1\" class=\"dataframe\">\n",
       "  <thead>\n",
       "    <tr style=\"text-align: right;\">\n",
       "      <th></th>\n",
       "      <th>attribute</th>\n",
       "      <th>information_level</th>\n",
       "      <th>type</th>\n",
       "      <th>missing_or_unknown</th>\n",
       "      <th>parse_missing_elements</th>\n",
       "    </tr>\n",
       "  </thead>\n",
       "  <tbody>\n",
       "    <tr>\n",
       "      <th>0</th>\n",
       "      <td>AGER_TYP</td>\n",
       "      <td>person</td>\n",
       "      <td>categorical</td>\n",
       "      <td>[-1,0]</td>\n",
       "      <td>[-1, 0]</td>\n",
       "    </tr>\n",
       "    <tr>\n",
       "      <th>1</th>\n",
       "      <td>ALTERSKATEGORIE_GROB</td>\n",
       "      <td>person</td>\n",
       "      <td>ordinal</td>\n",
       "      <td>[-1,0,9]</td>\n",
       "      <td>[-1, 0, 9]</td>\n",
       "    </tr>\n",
       "    <tr>\n",
       "      <th>2</th>\n",
       "      <td>ANREDE_KZ</td>\n",
       "      <td>person</td>\n",
       "      <td>categorical</td>\n",
       "      <td>[-1,0]</td>\n",
       "      <td>[-1, 0]</td>\n",
       "    </tr>\n",
       "    <tr>\n",
       "      <th>3</th>\n",
       "      <td>CJT_GESAMTTYP</td>\n",
       "      <td>person</td>\n",
       "      <td>categorical</td>\n",
       "      <td>[0]</td>\n",
       "      <td>[0]</td>\n",
       "    </tr>\n",
       "    <tr>\n",
       "      <th>4</th>\n",
       "      <td>FINANZ_MINIMALIST</td>\n",
       "      <td>person</td>\n",
       "      <td>ordinal</td>\n",
       "      <td>[-1]</td>\n",
       "      <td>[-1]</td>\n",
       "    </tr>\n",
       "  </tbody>\n",
       "</table>\n",
       "</div>"
      ],
      "text/plain": [
       "              attribute information_level         type missing_or_unknown  \\\n",
       "0              AGER_TYP            person  categorical             [-1,0]   \n",
       "1  ALTERSKATEGORIE_GROB            person      ordinal           [-1,0,9]   \n",
       "2             ANREDE_KZ            person  categorical             [-1,0]   \n",
       "3         CJT_GESAMTTYP            person  categorical                [0]   \n",
       "4     FINANZ_MINIMALIST            person      ordinal               [-1]   \n",
       "\n",
       "  parse_missing_elements  \n",
       "0                [-1, 0]  \n",
       "1             [-1, 0, 9]  \n",
       "2                [-1, 0]  \n",
       "3                    [0]  \n",
       "4                   [-1]  "
      ]
     },
     "execution_count": 7,
     "metadata": {},
     "output_type": "execute_result"
    }
   ],
   "source": [
    "# Identify features where missing values must be corrected\n",
    "feat_info_missingvalues = feat_info[feat_info[\"missing_or_unknown\"]!='[]']\n",
    "\n",
    "# Add a column with the list of missing values to be replaced with Nans\n",
    "feat_info_missingvalues [\"parse_missing_elements\"] = feat_info_missingvalues[\"missing_or_unknown\"].apply(lambda x: parse_missing_elements(x))\n",
    "feat_info_missingvalues.head()"
   ]
  },
  {
   "cell_type": "code",
   "execution_count": 8,
   "metadata": {},
   "outputs": [
    {
     "name": "stderr",
     "output_type": "stream",
     "text": [
      "/anaconda3/lib/python3.6/site-packages/pandas/core/indexing.py:189: SettingWithCopyWarning: \n",
      "A value is trying to be set on a copy of a slice from a DataFrame\n",
      "\n",
      "See the caveats in the documentation: http://pandas.pydata.org/pandas-docs/stable/indexing.html#indexing-view-versus-copy\n",
      "  self._setitem_with_indexer(indexer, value)\n"
     ]
    }
   ],
   "source": [
    "# Replace missing or unkwown value with Nans\n",
    "azdias_new= pd.DataFrame(data = azdias)\n",
    "\n",
    "# Identify columns with missing values to be replaced\n",
    "missingvalues = list(feat_info_missingvalues[\"attribute\"])\n",
    "\n",
    "# For each features where missing values must be corrected, replace missing values\n",
    "for attribute in missingvalues:\n",
    "    \n",
    "    # for a given feature, get the list of missing elements \n",
    "    missing_elements = feat_info_missingvalues.loc[feat_info_missingvalues[\"attribute\"]==attribute,\"parse_missing_elements\"].iloc[0]\n",
    "    \n",
    "    # set the missing elements to nan\n",
    "    azdias_new[attribute].loc[np.where(azdias_new[attribute].isin(missing_elements))] = np.nan"
   ]
  },
  {
   "cell_type": "code",
   "execution_count": 9,
   "metadata": {},
   "outputs": [],
   "source": [
    "# For a reason I can not explain, azdias dataframe change its value to the one of azdias\n",
    "azdias = pd.read_csv(\"Udacity_AZDIAS_Subset.csv\", sep = \";\")"
   ]
  },
  {
   "cell_type": "markdown",
   "metadata": {},
   "source": [
    "#### Step 1.1.2: Assess Missing Data in Each Column\n",
    "\n",
    "How much missing data is present in each column? There are a few columns that are outliers in terms of the proportion of values that are missing. You will want to use matplotlib's [`hist()`](https://matplotlib.org/api/_as_gen/matplotlib.pyplot.hist.html) function to visualize the distribution of missing value counts to find these columns. Identify and document these columns. While some of these columns might have justifications for keeping or re-encoding the data, for this project you should just remove them from the dataframe. (Feel free to make remarks about these outlier columns in the discussion, however!)\n",
    "\n",
    "For the remaining features, are there any patterns in which columns have, or share, missing data?"
   ]
  },
  {
   "cell_type": "code",
   "execution_count": 10,
   "metadata": {},
   "outputs": [
    {
     "name": "stdout",
     "output_type": "stream",
     "text": [
      "AGER_TYP                685843\n",
      "ALTERSKATEGORIE_GROB      2881\n",
      "ANREDE_KZ                    0\n",
      "CJT_GESAMTTYP             4854\n",
      "FINANZ_MINIMALIST            0\n",
      "dtype: int64\n"
     ]
    }
   ],
   "source": [
    "# Perform an assessment of how much missing data there is in each column of the\n",
    "# dataset.\n",
    "\n",
    "# Count missing values\n",
    "missing_values = azdias_new.apply(lambda x : sum(x.isna()==True), axis = 0)\n",
    "print(missing_values.head())"
   ]
  },
  {
   "cell_type": "code",
   "execution_count": 62,
   "metadata": {},
   "outputs": [
    {
     "name": "stdout",
     "output_type": "stream",
     "text": [
      "[0, nan]\n",
      "392318\n",
      "0\n"
     ]
    }
   ],
   "source": [
    "# Make a coherence check for different lengths of missing value \n",
    "\n",
    "attribute = \"CAMEO_INTL_2015\"\n",
    "missing_value = [-1, \"XX\"]\n",
    "\n",
    "#attribute = \"CAMEO_DEU_2015\"\n",
    "#missing_value = [\"XX\"]\n",
    "\n",
    "attribute=\"GEBURTSJAHR\"\n",
    "missing_value = [0]\n",
    "\n",
    "#attribute = \"FINANZ_MINIMALIST\"\n",
    "#missing_value = [-1]\n",
    "\n",
    "#attribute = \"CJT_GESAMTTYP\"\n",
    "#missing_value = [0]\n",
    "\n",
    "#attribute = \"ALTERSKATEGORIE_GROB\"\n",
    "#missing_value = [-1,0,9]\n",
    "\n",
    "#attribute = \"GFK_URLAUBERTYP\"\n",
    "#missing_value = []\n",
    "\n",
    "missing_value.append(np.nan)\n",
    "print(missing_value)\n",
    "\n",
    "total_missing_values = len(np.where(azdias[attribute].isin(missing_value))[0])\n",
    "print(total_missing_values)\n",
    "check = missing_values[attribute] - total_missing_values\n",
    "print(check)"
   ]
  },
  {
   "cell_type": "code",
   "execution_count": 12,
   "metadata": {},
   "outputs": [
    {
     "data": {
      "image/png": "[encoded data removed]",
      "text/plain": [
       "<Figure size 1440x576 with 1 Axes>"
      ]
     },
     "metadata": {
      "needs_background": "light"
     },
     "output_type": "display_data"
    }
   ],
   "source": [
    "# Plot histogram of missing values\n",
    "plt.subplots(figsize = (20,8))\n",
    "plt.hist(missing_values, bins = 50)\n",
    "plt.show()"
   ]
  },
  {
   "cell_type": "code",
   "execution_count": 50,
   "metadata": {},
   "outputs": [
    {
     "data": {
      "text/html": [
       "<div>\n",
       "<style scoped>\n",
       "    .dataframe tbody tr th:only-of-type {\n",
       "        vertical-align: middle;\n",
       "    }\n",
       "\n",
       "    .dataframe tbody tr th {\n",
       "        vertical-align: top;\n",
       "    }\n",
       "\n",
       "    .dataframe thead th {\n",
       "        text-align: right;\n",
       "    }\n",
       "</style>\n",
       "<table border=\"1\" class=\"dataframe\">\n",
       "  <thead>\n",
       "    <tr style=\"text-align: right;\">\n",
       "      <th></th>\n",
       "      <th>features</th>\n",
       "      <th>number_of_features</th>\n",
       "      <th>number_of_missing_value</th>\n",
       "    </tr>\n",
       "  </thead>\n",
       "  <tbody>\n",
       "    <tr>\n",
       "      <th>21</th>\n",
       "      <td>[TITEL_KZ]</td>\n",
       "      <td>1</td>\n",
       "      <td>889061</td>\n",
       "    </tr>\n",
       "    <tr>\n",
       "      <th>2</th>\n",
       "      <td>[AGER_TYP]</td>\n",
       "      <td>1</td>\n",
       "      <td>685843</td>\n",
       "    </tr>\n",
       "    <tr>\n",
       "      <th>9</th>\n",
       "      <td>[KK_KUNDENTYP]</td>\n",
       "      <td>1</td>\n",
       "      <td>584612</td>\n",
       "    </tr>\n",
       "    <tr>\n",
       "      <th>23</th>\n",
       "      <td>[KBA05_BAUMAX]</td>\n",
       "      <td>1</td>\n",
       "      <td>476524</td>\n",
       "    </tr>\n",
       "    <tr>\n",
       "      <th>30</th>\n",
       "      <td>[GEBURTSJAHR]</td>\n",
       "      <td>1</td>\n",
       "      <td>392318</td>\n",
       "    </tr>\n",
       "    <tr>\n",
       "      <th>29</th>\n",
       "      <td>[ALTER_HH]</td>\n",
       "      <td>1</td>\n",
       "      <td>310267</td>\n",
       "    </tr>\n",
       "    <tr>\n",
       "      <th>26</th>\n",
       "      <td>[KKK, REGIOTYP]</td>\n",
       "      <td>2</td>\n",
       "      <td>158064</td>\n",
       "    </tr>\n",
       "    <tr>\n",
       "      <th>3</th>\n",
       "      <td>[W_KEIT_KIND_HH]</td>\n",
       "      <td>1</td>\n",
       "      <td>147988</td>\n",
       "    </tr>\n",
       "    <tr>\n",
       "      <th>14</th>\n",
       "      <td>[KBA05_ANTG1, KBA05_ANTG2, KBA05_ANTG3, KBA05_...</td>\n",
       "      <td>6</td>\n",
       "      <td>133324</td>\n",
       "    </tr>\n",
       "    <tr>\n",
       "      <th>8</th>\n",
       "      <td>[PLZ8_ANTG1, PLZ8_ANTG2, PLZ8_ANTG3, PLZ8_ANTG...</td>\n",
       "      <td>7</td>\n",
       "      <td>116515</td>\n",
       "    </tr>\n",
       "    <tr>\n",
       "      <th>16</th>\n",
       "      <td>[HEALTH_TYP, SHOPPER_TYP, VERS_TYP]</td>\n",
       "      <td>3</td>\n",
       "      <td>111196</td>\n",
       "    </tr>\n",
       "    <tr>\n",
       "      <th>7</th>\n",
       "      <td>[NATIONALITAET_KZ]</td>\n",
       "      <td>1</td>\n",
       "      <td>108315</td>\n",
       "    </tr>\n",
       "    <tr>\n",
       "      <th>1</th>\n",
       "      <td>[PRAEGENDE_JUGENDJAHRE]</td>\n",
       "      <td>1</td>\n",
       "      <td>108164</td>\n",
       "    </tr>\n",
       "    <tr>\n",
       "      <th>13</th>\n",
       "      <td>[KBA13_ANZAHL_PKW]</td>\n",
       "      <td>1</td>\n",
       "      <td>105800</td>\n",
       "    </tr>\n",
       "    <tr>\n",
       "      <th>6</th>\n",
       "      <td>[ANZ_HAUSHALTE_AKTIV]</td>\n",
       "      <td>1</td>\n",
       "      <td>99611</td>\n",
       "    </tr>\n",
       "    <tr>\n",
       "      <th>4</th>\n",
       "      <td>[CAMEO_DEUG_2015, CAMEO_DEU_2015, CAMEO_INTL_2...</td>\n",
       "      <td>3</td>\n",
       "      <td>99352</td>\n",
       "    </tr>\n",
       "    <tr>\n",
       "      <th>18</th>\n",
       "      <td>[LP_LEBENSPHASE_FEIN]</td>\n",
       "      <td>1</td>\n",
       "      <td>97632</td>\n",
       "    </tr>\n",
       "    <tr>\n",
       "      <th>17</th>\n",
       "      <td>[ARBEIT, RELAT_AB]</td>\n",
       "      <td>2</td>\n",
       "      <td>97375</td>\n",
       "    </tr>\n",
       "    <tr>\n",
       "      <th>28</th>\n",
       "      <td>[ORTSGR_KLS9]</td>\n",
       "      <td>1</td>\n",
       "      <td>97274</td>\n",
       "    </tr>\n",
       "    <tr>\n",
       "      <th>24</th>\n",
       "      <td>[ANZ_HH_TITEL]</td>\n",
       "      <td>1</td>\n",
       "      <td>97008</td>\n",
       "    </tr>\n",
       "  </tbody>\n",
       "</table>\n",
       "</div>"
      ],
      "text/plain": [
       "                                             features  number_of_features  \\\n",
       "21                                         [TITEL_KZ]                   1   \n",
       "2                                          [AGER_TYP]                   1   \n",
       "9                                      [KK_KUNDENTYP]                   1   \n",
       "23                                     [KBA05_BAUMAX]                   1   \n",
       "30                                      [GEBURTSJAHR]                   1   \n",
       "29                                         [ALTER_HH]                   1   \n",
       "26                                    [KKK, REGIOTYP]                   2   \n",
       "3                                    [W_KEIT_KIND_HH]                   1   \n",
       "14  [KBA05_ANTG1, KBA05_ANTG2, KBA05_ANTG3, KBA05_...                   6   \n",
       "8   [PLZ8_ANTG1, PLZ8_ANTG2, PLZ8_ANTG3, PLZ8_ANTG...                   7   \n",
       "16                [HEALTH_TYP, SHOPPER_TYP, VERS_TYP]                   3   \n",
       "7                                  [NATIONALITAET_KZ]                   1   \n",
       "1                             [PRAEGENDE_JUGENDJAHRE]                   1   \n",
       "13                                 [KBA13_ANZAHL_PKW]                   1   \n",
       "6                               [ANZ_HAUSHALTE_AKTIV]                   1   \n",
       "4   [CAMEO_DEUG_2015, CAMEO_DEU_2015, CAMEO_INTL_2...                   3   \n",
       "18                              [LP_LEBENSPHASE_FEIN]                   1   \n",
       "17                                 [ARBEIT, RELAT_AB]                   2   \n",
       "28                                      [ORTSGR_KLS9]                   1   \n",
       "24                                     [ANZ_HH_TITEL]                   1   \n",
       "\n",
       "    number_of_missing_value  \n",
       "21                   889061  \n",
       "2                    685843  \n",
       "9                    584612  \n",
       "23                   476524  \n",
       "30                   392318  \n",
       "29                   310267  \n",
       "26                   158064  \n",
       "3                    147988  \n",
       "14                   133324  \n",
       "8                    116515  \n",
       "16                   111196  \n",
       "7                    108315  \n",
       "1                    108164  \n",
       "13                   105800  \n",
       "6                     99611  \n",
       "4                     99352  \n",
       "18                    97632  \n",
       "17                    97375  \n",
       "28                    97274  \n",
       "24                    97008  "
      ]
     },
     "execution_count": 50,
     "metadata": {},
     "output_type": "execute_result"
    }
   ],
   "source": [
    "# Identify patterns of missing values between features\n",
    "\n",
    "missing_values_pattern = []\n",
    "\n",
    "for number in list(set(missing_values)):\n",
    "    missing_values_pattern.append({\n",
    "        \"number_of_missing_value\": number,\n",
    "         \"number_of_features\": len(list(missing_values[(missing_values == number)].index.values)),\n",
    "         \"features\":list(missing_values[(missing_values == number)].index.values)\n",
    "    })\n",
    "\n",
    "df_missing_values_pattern= pd.DataFrame(data=missing_values_pattern)\n",
    "df_missing_values_pattern.sort_values(\"number_of_missing_value\",ascending = False).head(20)"
   ]
  },
  {
   "cell_type": "code",
   "execution_count": 25,
   "metadata": {},
   "outputs": [
    {
     "name": "stdout",
     "output_type": "stream",
     "text": [
      "['KKK', 'REGIOTYP']\n",
      "['KBA05_ANTG1', 'KBA05_ANTG2', 'KBA05_ANTG3', 'KBA05_ANTG4', 'KBA05_GBZ', 'MOBI_REGIO']\n",
      "['PLZ8_ANTG1', 'PLZ8_ANTG2', 'PLZ8_ANTG3', 'PLZ8_ANTG4', 'PLZ8_BAUMAX', 'PLZ8_HHZ', 'PLZ8_GBZ']\n",
      "['HEALTH_TYP', 'SHOPPER_TYP', 'VERS_TYP']\n"
     ]
    }
   ],
   "source": [
    "# Import missing values patterns \n",
    "\n",
    "print(df_missing_values_pattern.iloc[26][\"features\"]) # Purchasing power in region, Neighborhood typology\n",
    "print(df_missing_values_pattern.iloc[14][\"features\"]) # Number of X family houses in the microcell, Number of buildings in the microcell\n",
    "print(df_missing_values_pattern.iloc[8][\"features\"]) # Number of X family houses in the PLZ8 region, Most common building, households and buildings type within the PLZ8 region \n",
    "print(df_missing_values_pattern.iloc[16][\"features\"]) # Health, shopper and insurance typology\n",
    "\n",
    "# Check the number of missing values for a given feature\n",
    "#missing_values.loc[missing_values.index==\"ZABEOTYP\"]\n"
   ]
  },
  {
   "cell_type": "code",
   "execution_count": 57,
   "metadata": {},
   "outputs": [
    {
     "name": "stdout",
     "output_type": "stream",
     "text": [
      "In order to keep every feature without less than 22.4 % of missing data\n",
      "\n",
      "The features to drop are Index(['AGER_TYP', 'GEBURTSJAHR', 'TITEL_KZ', 'ALTER_HH', 'KK_KUNDENTYP',\n",
      "       'KBA05_BAUMAX'],\n",
      "      dtype='object')\n",
      "The number of features to drop are 6\n",
      "The ratio of features to drop is of 7.1 %\n"
     ]
    }
   ],
   "source": [
    "# Remove the outlier columns from the dataset. (You'll perform other data\n",
    "# engineering tasks such as re-encoding and imputation later.)\n",
    "\n",
    "# Identify colums to drop\n",
    "treshold = 200000\n",
    "treshold_ratio=round(treshold/azdias_new.shape[0]*100,1)\n",
    "columns_to_drop = missing_values[missing_values>treshold]\n",
    "\n",
    "# Compute ratio of removed columns\n",
    "ratio= round(len(columns_to_drop)/len(missing_values)*100,1)\n",
    "\n",
    "print(\"In order to keep every feature without less than {} % of missing data\".format(treshold_ratio))\n",
    "print(\"\")\n",
    "print(\"The features to drop are {}\".format(columns_to_drop.index))\n",
    "print(\"The number of features to drop are {}\".format(len(columns_to_drop)))\n",
    "print(\"The ratio of features to drop is of {} %\".format(ratio))\n",
    "\n",
    "# AGER_TYP: Best-ager typology\n",
    "# GEBURTSJAHR: Year of birth\n",
    "# TITEL_KZ: Academic title flag\n",
    "# ALTER_HH: Birthdate of head of household\n",
    "# KK_KUNDENTYP : Consumer pattern over past 12 months\n",
    "# KBA05_BAUMAX: most common building type within the microcell"
   ]
  },
  {
   "cell_type": "code",
   "execution_count": 58,
   "metadata": {},
   "outputs": [
    {
     "name": "stdout",
     "output_type": "stream",
     "text": [
      "(891221, 79)\n"
     ]
    },
    {
     "data": {
      "text/html": [
       "<div>\n",
       "<style scoped>\n",
       "    .dataframe tbody tr th:only-of-type {\n",
       "        vertical-align: middle;\n",
       "    }\n",
       "\n",
       "    .dataframe tbody tr th {\n",
       "        vertical-align: top;\n",
       "    }\n",
       "\n",
       "    .dataframe thead th {\n",
       "        text-align: right;\n",
       "    }\n",
       "</style>\n",
       "<table border=\"1\" class=\"dataframe\">\n",
       "  <thead>\n",
       "    <tr style=\"text-align: right;\">\n",
       "      <th></th>\n",
       "      <th>ALTERSKATEGORIE_GROB</th>\n",
       "      <th>ANREDE_KZ</th>\n",
       "      <th>CJT_GESAMTTYP</th>\n",
       "      <th>FINANZ_MINIMALIST</th>\n",
       "      <th>FINANZ_SPARER</th>\n",
       "      <th>FINANZ_VORSORGER</th>\n",
       "      <th>FINANZ_ANLEGER</th>\n",
       "      <th>FINANZ_UNAUFFAELLIGER</th>\n",
       "      <th>FINANZ_HAUSBAUER</th>\n",
       "      <th>FINANZTYP</th>\n",
       "      <th>...</th>\n",
       "      <th>PLZ8_ANTG1</th>\n",
       "      <th>PLZ8_ANTG2</th>\n",
       "      <th>PLZ8_ANTG3</th>\n",
       "      <th>PLZ8_ANTG4</th>\n",
       "      <th>PLZ8_BAUMAX</th>\n",
       "      <th>PLZ8_HHZ</th>\n",
       "      <th>PLZ8_GBZ</th>\n",
       "      <th>ARBEIT</th>\n",
       "      <th>ORTSGR_KLS9</th>\n",
       "      <th>RELAT_AB</th>\n",
       "    </tr>\n",
       "  </thead>\n",
       "  <tbody>\n",
       "    <tr>\n",
       "      <th>0</th>\n",
       "      <td>2.0</td>\n",
       "      <td>1.0</td>\n",
       "      <td>2.0</td>\n",
       "      <td>3.0</td>\n",
       "      <td>4.0</td>\n",
       "      <td>3.0</td>\n",
       "      <td>5.0</td>\n",
       "      <td>5.0</td>\n",
       "      <td>3.0</td>\n",
       "      <td>4.0</td>\n",
       "      <td>...</td>\n",
       "      <td>NaN</td>\n",
       "      <td>NaN</td>\n",
       "      <td>NaN</td>\n",
       "      <td>NaN</td>\n",
       "      <td>NaN</td>\n",
       "      <td>NaN</td>\n",
       "      <td>NaN</td>\n",
       "      <td>NaN</td>\n",
       "      <td>NaN</td>\n",
       "      <td>NaN</td>\n",
       "    </tr>\n",
       "    <tr>\n",
       "      <th>1</th>\n",
       "      <td>1.0</td>\n",
       "      <td>2.0</td>\n",
       "      <td>5.0</td>\n",
       "      <td>1.0</td>\n",
       "      <td>5.0</td>\n",
       "      <td>2.0</td>\n",
       "      <td>5.0</td>\n",
       "      <td>4.0</td>\n",
       "      <td>5.0</td>\n",
       "      <td>1.0</td>\n",
       "      <td>...</td>\n",
       "      <td>2.0</td>\n",
       "      <td>3.0</td>\n",
       "      <td>2.0</td>\n",
       "      <td>1.0</td>\n",
       "      <td>1.0</td>\n",
       "      <td>5.0</td>\n",
       "      <td>4.0</td>\n",
       "      <td>3.0</td>\n",
       "      <td>5.0</td>\n",
       "      <td>4.0</td>\n",
       "    </tr>\n",
       "    <tr>\n",
       "      <th>2</th>\n",
       "      <td>3.0</td>\n",
       "      <td>2.0</td>\n",
       "      <td>3.0</td>\n",
       "      <td>1.0</td>\n",
       "      <td>4.0</td>\n",
       "      <td>1.0</td>\n",
       "      <td>2.0</td>\n",
       "      <td>3.0</td>\n",
       "      <td>5.0</td>\n",
       "      <td>1.0</td>\n",
       "      <td>...</td>\n",
       "      <td>3.0</td>\n",
       "      <td>3.0</td>\n",
       "      <td>1.0</td>\n",
       "      <td>0.0</td>\n",
       "      <td>1.0</td>\n",
       "      <td>4.0</td>\n",
       "      <td>4.0</td>\n",
       "      <td>3.0</td>\n",
       "      <td>5.0</td>\n",
       "      <td>2.0</td>\n",
       "    </tr>\n",
       "    <tr>\n",
       "      <th>3</th>\n",
       "      <td>4.0</td>\n",
       "      <td>2.0</td>\n",
       "      <td>2.0</td>\n",
       "      <td>4.0</td>\n",
       "      <td>2.0</td>\n",
       "      <td>5.0</td>\n",
       "      <td>2.0</td>\n",
       "      <td>1.0</td>\n",
       "      <td>2.0</td>\n",
       "      <td>6.0</td>\n",
       "      <td>...</td>\n",
       "      <td>2.0</td>\n",
       "      <td>2.0</td>\n",
       "      <td>2.0</td>\n",
       "      <td>0.0</td>\n",
       "      <td>1.0</td>\n",
       "      <td>3.0</td>\n",
       "      <td>4.0</td>\n",
       "      <td>2.0</td>\n",
       "      <td>3.0</td>\n",
       "      <td>3.0</td>\n",
       "    </tr>\n",
       "    <tr>\n",
       "      <th>4</th>\n",
       "      <td>3.0</td>\n",
       "      <td>1.0</td>\n",
       "      <td>5.0</td>\n",
       "      <td>4.0</td>\n",
       "      <td>3.0</td>\n",
       "      <td>4.0</td>\n",
       "      <td>1.0</td>\n",
       "      <td>3.0</td>\n",
       "      <td>2.0</td>\n",
       "      <td>5.0</td>\n",
       "      <td>...</td>\n",
       "      <td>2.0</td>\n",
       "      <td>4.0</td>\n",
       "      <td>2.0</td>\n",
       "      <td>1.0</td>\n",
       "      <td>2.0</td>\n",
       "      <td>3.0</td>\n",
       "      <td>3.0</td>\n",
       "      <td>4.0</td>\n",
       "      <td>6.0</td>\n",
       "      <td>5.0</td>\n",
       "    </tr>\n",
       "  </tbody>\n",
       "</table>\n",
       "<p>5 rows × 79 columns</p>\n",
       "</div>"
      ],
      "text/plain": [
       "   ALTERSKATEGORIE_GROB  ANREDE_KZ  CJT_GESAMTTYP  FINANZ_MINIMALIST  \\\n",
       "0                   2.0        1.0            2.0                3.0   \n",
       "1                   1.0        2.0            5.0                1.0   \n",
       "2                   3.0        2.0            3.0                1.0   \n",
       "3                   4.0        2.0            2.0                4.0   \n",
       "4                   3.0        1.0            5.0                4.0   \n",
       "\n",
       "   FINANZ_SPARER  FINANZ_VORSORGER  FINANZ_ANLEGER  FINANZ_UNAUFFAELLIGER  \\\n",
       "0            4.0               3.0             5.0                    5.0   \n",
       "1            5.0               2.0             5.0                    4.0   \n",
       "2            4.0               1.0             2.0                    3.0   \n",
       "3            2.0               5.0             2.0                    1.0   \n",
       "4            3.0               4.0             1.0                    3.0   \n",
       "\n",
       "   FINANZ_HAUSBAUER  FINANZTYP    ...     PLZ8_ANTG1  PLZ8_ANTG2  PLZ8_ANTG3  \\\n",
       "0               3.0        4.0    ...            NaN         NaN         NaN   \n",
       "1               5.0        1.0    ...            2.0         3.0         2.0   \n",
       "2               5.0        1.0    ...            3.0         3.0         1.0   \n",
       "3               2.0        6.0    ...            2.0         2.0         2.0   \n",
       "4               2.0        5.0    ...            2.0         4.0         2.0   \n",
       "\n",
       "   PLZ8_ANTG4  PLZ8_BAUMAX  PLZ8_HHZ  PLZ8_GBZ  ARBEIT  ORTSGR_KLS9  RELAT_AB  \n",
       "0         NaN          NaN       NaN       NaN     NaN          NaN       NaN  \n",
       "1         1.0          1.0       5.0       4.0     3.0          5.0       4.0  \n",
       "2         0.0          1.0       4.0       4.0     3.0          5.0       2.0  \n",
       "3         0.0          1.0       3.0       4.0     2.0          3.0       3.0  \n",
       "4         1.0          2.0       3.0       3.0     4.0          6.0       5.0  \n",
       "\n",
       "[5 rows x 79 columns]"
      ]
     },
     "metadata": {},
     "output_type": "display_data"
    }
   ],
   "source": [
    "# Remove outliers features\n",
    "azdias_without_out= pd.DataFrame(data = azdias_new)\n",
    "azdias_without_out = azdias_without_out.drop(list(columns_to_drop.index),axis=1)\n",
    "print(azdias_without_out.shape)\n",
    "display(azdias_without_out.head())"
   ]
  },
  {
   "cell_type": "code",
   "execution_count": 60,
   "metadata": {},
   "outputs": [],
   "source": [
    "#Create a dummy column in feat_info\n",
    "feat_info[\"is_removed\"]= feat_info[\"attribute\"].apply(lambda x: sum(columns_to_drop.index == x))"
   ]
  },
  {
   "cell_type": "code",
   "execution_count": 61,
   "metadata": {},
   "outputs": [
    {
     "data": {
      "text/html": [
       "<div>\n",
       "<style scoped>\n",
       "    .dataframe tbody tr th:only-of-type {\n",
       "        vertical-align: middle;\n",
       "    }\n",
       "\n",
       "    .dataframe tbody tr th {\n",
       "        vertical-align: top;\n",
       "    }\n",
       "\n",
       "    .dataframe thead th {\n",
       "        text-align: right;\n",
       "    }\n",
       "</style>\n",
       "<table border=\"1\" class=\"dataframe\">\n",
       "  <thead>\n",
       "    <tr style=\"text-align: right;\">\n",
       "      <th></th>\n",
       "      <th>attribute</th>\n",
       "      <th>information_level</th>\n",
       "      <th>type</th>\n",
       "      <th>missing_or_unknown</th>\n",
       "      <th>is_removed</th>\n",
       "    </tr>\n",
       "  </thead>\n",
       "  <tbody>\n",
       "    <tr>\n",
       "      <th>0</th>\n",
       "      <td>AGER_TYP</td>\n",
       "      <td>person</td>\n",
       "      <td>categorical</td>\n",
       "      <td>[-1,0]</td>\n",
       "      <td>1</td>\n",
       "    </tr>\n",
       "    <tr>\n",
       "      <th>1</th>\n",
       "      <td>ALTERSKATEGORIE_GROB</td>\n",
       "      <td>person</td>\n",
       "      <td>ordinal</td>\n",
       "      <td>[-1,0,9]</td>\n",
       "      <td>0</td>\n",
       "    </tr>\n",
       "    <tr>\n",
       "      <th>2</th>\n",
       "      <td>ANREDE_KZ</td>\n",
       "      <td>person</td>\n",
       "      <td>categorical</td>\n",
       "      <td>[-1,0]</td>\n",
       "      <td>0</td>\n",
       "    </tr>\n",
       "    <tr>\n",
       "      <th>3</th>\n",
       "      <td>CJT_GESAMTTYP</td>\n",
       "      <td>person</td>\n",
       "      <td>categorical</td>\n",
       "      <td>[0]</td>\n",
       "      <td>0</td>\n",
       "    </tr>\n",
       "    <tr>\n",
       "      <th>4</th>\n",
       "      <td>FINANZ_MINIMALIST</td>\n",
       "      <td>person</td>\n",
       "      <td>ordinal</td>\n",
       "      <td>[-1]</td>\n",
       "      <td>0</td>\n",
       "    </tr>\n",
       "  </tbody>\n",
       "</table>\n",
       "</div>"
      ],
      "text/plain": [
       "              attribute information_level         type missing_or_unknown  \\\n",
       "0              AGER_TYP            person  categorical             [-1,0]   \n",
       "1  ALTERSKATEGORIE_GROB            person      ordinal           [-1,0,9]   \n",
       "2             ANREDE_KZ            person  categorical             [-1,0]   \n",
       "3         CJT_GESAMTTYP            person  categorical                [0]   \n",
       "4     FINANZ_MINIMALIST            person      ordinal               [-1]   \n",
       "\n",
       "   is_removed  \n",
       "0           1  \n",
       "1           0  \n",
       "2           0  \n",
       "3           0  \n",
       "4           0  "
      ]
     },
     "execution_count": 61,
     "metadata": {},
     "output_type": "execute_result"
    }
   ],
   "source": [
    "feat_info.head()"
   ]
  },
  {
   "cell_type": "markdown",
   "metadata": {},
   "source": [
    "#### Discussion 1.1.2: Assess Missing Data in Each Column\n",
    "\n",
    "1) Are there any patterns in missing values? \n",
    "\n",
    "The missing patterns are detailed in df_missing_values_pattern. We focus on important patterns i.e. for patterns having a high number of missing data which is important. \n",
    "\n",
    "The important pattern we observe regarding some missing data is that the number of missing data is consistent between similar features. \n",
    "- For example if we are interested in the number of family houses in the PLZ8 region, we have many features PLZ8_ANTG1, PLZ8_ANTG2, PLZ8_ANTG3 and PLZ8_ANTG4 that are similar in the sense that they just encode different ranges of the variable of interest. \n",
    "- If for a given person, we do not have the number of households, then we will not have the different four features as well. That is why the number of missing values will be the same.\n",
    "\n",
    "=> We observe such important patterns for PLZ8_ANTG and KBA05_ANTG. \n",
    "\n",
    "2) Which columns were removed from the dataset?\n",
    "\n",
    "We remove colums that are outliers in terms of the proportion of values that are missing. According to the histogram, we notice that there is 6 features with more than 200,000 of missing values. We therefore decide to remove theses features since they lead to more a proportion of more than 20% of missing data.\n",
    "\n",
    "The removed features are : \n",
    "\n",
    "- AGER_TYP: Best-ager typology, \n",
    "- GEBURTSJAHR: Year of birth\n",
    "- TITEL_KZ: Academic title flag\n",
    "- ALTER_HH: Birthdate of head of household\n",
    "- KK_KUNDENTYP : Consumer pattern over past 12 months\n",
    "- KBA05_BAUMAX: most common building type within the microcell"
   ]
  },
  {
   "cell_type": "markdown",
   "metadata": {},
   "source": [
    "#### Step 1.1.3: Assess Missing Data in Each Row\n",
    "\n",
    "Now, you'll perform a similar assessment for the rows of the dataset. How much data is missing in each row? As with the columns, you should see some groups of points that have a very different numbers of missing values. Divide the data into two subsets: one for data points that are above some threshold for missing values, and a second subset for points below that threshold.\n",
    "\n",
    "In order to know what to do with the outlier rows, we should see if the distribution of data values on columns that are not missing data (or are missing very little data) are similar or different between the two groups. Select at least five of these columns and compare the distribution of values.\n",
    "- You can use seaborn's [`countplot()`](https://seaborn.pydata.org/generated/seaborn.countplot.html) function to create a bar chart of code frequencies and matplotlib's [`subplot()`](https://matplotlib.org/api/_as_gen/matplotlib.pyplot.subplot.html) function to put bar charts for the two subplots side by side.\n",
    "- To reduce repeated code, you might want to write a function that can perform this comparison, taking as one of its arguments a column to be compared.\n",
    "\n",
    "Depending on what you observe in your comparison, this will have implications on how you approach your conclusions later in the analysis. If the distributions of non-missing features look similar between the data with many missing values and the data with few or no missing values, then we could argue that simply dropping those points from the analysis won't present a major issue. On the other hand, if the data with many missing values looks very different from the data with few or no missing values, then we should make a note on those data as special. We'll revisit these data later on. **Either way, you should continue your analysis for now using just the subset of the data with few or no missing values.**"
   ]
  },
  {
   "cell_type": "code",
   "execution_count": 63,
   "metadata": {},
   "outputs": [
    {
     "name": "stdout",
     "output_type": "stream",
     "text": [
      "0    43\n",
      "1     0\n",
      "2     0\n",
      "3     7\n",
      "4     0\n",
      "dtype: int64\n"
     ]
    }
   ],
   "source": [
    "# How much data is missing in each row of the dataset?\n",
    "\n",
    "# Count missing data for each row: !!!!! very long to turn !!!!!!\n",
    "missing_values_row = azdias_without_out.apply(lambda x : sum(x.isna()==True), axis = 1)\n",
    "print(missing_values_row.head())"
   ]
  },
  {
   "cell_type": "code",
   "execution_count": 64,
   "metadata": {},
   "outputs": [
    {
     "data": {
      "image/png": "[encoded data removed]",
      "text/plain": [
       "<Figure size 1440x576 with 1 Axes>"
      ]
     },
     "metadata": {
      "needs_background": "light"
     },
     "output_type": "display_data"
    }
   ],
   "source": [
    "# Plot histogram of missing values\n",
    "plt.subplots(figsize = (20,8))\n",
    "plt.hist(missing_values_row, bins = 50)\n",
    "plt.show()"
   ]
  },
  {
   "cell_type": "code",
   "execution_count": 66,
   "metadata": {},
   "outputs": [
    {
     "name": "stdout",
     "output_type": "stream",
     "text": [
      "(797077, 79)\n",
      "(94144, 79)\n"
     ]
    }
   ],
   "source": [
    "# Write code to divide the data into two subsets based on the number of missing\n",
    "# values in each row.\n",
    "\n",
    "# Select treshold\n",
    "treshold = 20\n",
    "rows_to_keep = missing_values_row[missing_values_row<treshold]\n",
    "rows_to_drop = missing_values_row[missing_values_row>=treshold]\n",
    "\n",
    "# Divide data into two subests\n",
    "azdias_without_out_sub1 = azdias_without_out.loc[list(rows_to_keep.index)]\n",
    "azdias_without_out_sub2 = azdias_without_out.loc[list(rows_to_drop.index)]\n",
    "print(azdias_without_out_sub1.shape)\n",
    "print(azdias_without_out_sub2.shape)"
   ]
  },
  {
   "cell_type": "code",
   "execution_count": 91,
   "metadata": {},
   "outputs": [
    {
     "data": {
      "text/plain": [
       "(891221, 79)"
      ]
     },
     "execution_count": 91,
     "metadata": {},
     "output_type": "execute_result"
    }
   ],
   "source": [
    "azdias_without_out.shape"
   ]
  },
  {
   "cell_type": "code",
   "execution_count": 94,
   "metadata": {},
   "outputs": [
    {
     "name": "stdout",
     "output_type": "stream",
     "text": [
      "0.10563485375681228\n"
     ]
    }
   ],
   "source": [
    "ratio_to_drop = azdias_without_out_sub2.shape[0]/azdias_without_out.shape[0]\n",
    "print(ratio_to_drop)"
   ]
  },
  {
   "cell_type": "code",
   "execution_count": 79,
   "metadata": {},
   "outputs": [],
   "source": [
    "# Compare the distribution of values for at least five columns where there are\n",
    "# no or few missing values, between the two subsets.\n",
    "\n",
    "def distribution_comparison(feature):\n",
    "    plt.subplots(figsize = (20,8))\n",
    "    plt.subplot(121)\n",
    "    plt.hist(azdias_without_out_sub1[feature], bins = 50)\n",
    "    plt.title(\"Distribution of feature {} in susbsample 1\".format(feature))\n",
    "\n",
    "    plt.subplot(122)\n",
    "    plt.hist(azdias_without_out_sub2[feature], bins = 50)\n",
    "    plt.title(\"Distribution of feature {} in susbsample 2\".format(feature))\n",
    "    plt.show()  "
   ]
  },
  {
   "cell_type": "code",
   "execution_count": 83,
   "metadata": {},
   "outputs": [
    {
     "data": {
      "image/png": "[encoded data removed]",
      "text/plain": [
       "<Figure size 1440x576 with 2 Axes>"
      ]
     },
     "metadata": {
      "needs_background": "light"
     },
     "output_type": "display_data"
    }
   ],
   "source": [
    "feature = \"SHOPPER_TYP\" # Shoper type\n",
    "distribution_comparison(feature)"
   ]
  },
  {
   "cell_type": "code",
   "execution_count": 81,
   "metadata": {},
   "outputs": [
    {
     "name": "stderr",
     "output_type": "stream",
     "text": [
      "/anaconda3/lib/python3.6/site-packages/numpy/lib/function_base.py:780: RuntimeWarning: invalid value encountered in greater_equal\n",
      "  keep = (tmp_a >= first_edge)\n",
      "/anaconda3/lib/python3.6/site-packages/numpy/lib/function_base.py:781: RuntimeWarning: invalid value encountered in less_equal\n",
      "  keep &= (tmp_a <= last_edge)\n"
     ]
    },
    {
     "data": {
      "image/png": "[encoded data removed]",
      "text/plain": [
       "<Figure size 1440x576 with 2 Axes>"
      ]
     },
     "metadata": {
      "needs_background": "light"
     },
     "output_type": "display_data"
    }
   ],
   "source": [
    "feature = \"CJT_GESAMTTYP\" # Customer-Journey-Typology\n",
    "distribution_comparison(feature)"
   ]
  },
  {
   "cell_type": "code",
   "execution_count": 82,
   "metadata": {},
   "outputs": [
    {
     "data": {
      "image/png": "[encoded data removed]",
      "text/plain": [
       "<Figure size 1440x576 with 2 Axes>"
      ]
     },
     "metadata": {
      "needs_background": "light"
     },
     "output_type": "display_data"
    }
   ],
   "source": [
    "feature = \"LP_STATUS_GROB\" # Social status\n",
    "distribution_comparison(feature)"
   ]
  },
  {
   "cell_type": "code",
   "execution_count": 84,
   "metadata": {},
   "outputs": [
    {
     "data": {
      "image/png": "[encoded data removed]",
      "text/plain": [
       "<Figure size 1440x576 with 2 Axes>"
      ]
     },
     "metadata": {
      "needs_background": "light"
     },
     "output_type": "display_data"
    }
   ],
   "source": [
    "feature = \"ONLINE_AFFINITAET\" # Online affinity\n",
    "distribution_comparison(feature)"
   ]
  },
  {
   "cell_type": "code",
   "execution_count": 85,
   "metadata": {},
   "outputs": [
    {
     "data": {
      "image/png": "[encoded data removed]",
      "text/plain": [
       "<Figure size 1440x576 with 2 Axes>"
      ]
     },
     "metadata": {
      "needs_background": "light"
     },
     "output_type": "display_data"
    }
   ],
   "source": [
    "feature = \"INNENSTADT\" # Distance to city centers\n",
    "distribution_comparison(feature)"
   ]
  },
  {
   "cell_type": "code",
   "execution_count": 104,
   "metadata": {},
   "outputs": [
    {
     "data": {
      "text/plain": [
       "(797077, 79)"
      ]
     },
     "execution_count": 104,
     "metadata": {},
     "output_type": "execute_result"
    }
   ],
   "source": [
    "# Remove the subsest of the data with many missing data\n",
    "azdias_final= pd.DataFrame(data = azdias_without_out_sub1)\n",
    "azdias_final.shape"
   ]
  },
  {
   "cell_type": "markdown",
   "metadata": {},
   "source": [
    "#### Discussion 1.1.3: Assess Missing Data in Each Row\n",
    "\n",
    "1) Which rows were removed from the dataset?\n",
    "\n",
    "We remove rows that are outliers in terms of the proportion of features that have missing values. According to the histogram, we notice that some rows have more than 20 missing features among the 79 remaining features We therefore decide to remove theses rows which represents 10% of the dataset\n",
    "\n",
    "2) Are the data with lots of missing values are qualitatively different from data with few or no missing values?\n",
    "\n",
    "The comparison for five different features bettween the distribution of subsample 1 (sample with few missing features) and the distribution of subsample 2 (sample with missing features above tresholds) shows that they are qualitatively different for all the features tested except \"INNENSTADT\""
   ]
  },
  {
   "cell_type": "markdown",
   "metadata": {},
   "source": [
    "### Step 1.2: Select and Re-Encode Features\n",
    "\n",
    "Checking for missing data isn't the only way in which you can prepare a dataset for analysis. Since the unsupervised learning techniques to be used will only work on data that is encoded numerically, you need to make a few encoding changes or additional assumptions to be able to make progress. In addition, while almost all of the values in the dataset are encoded using numbers, not all of them represent numeric values. Check the third column of the feature summary (`feat_info`) for a summary of types of measurement.\n",
    "- For numeric and interval data, these features can be kept without changes.\n",
    "- Most of the variables in the dataset are ordinal in nature. While ordinal values may technically be non-linear in spacing, make the simplifying assumption that the ordinal variables can be treated as being interval in nature (that is, kept without any changes).\n",
    "- Special handling may be necessary for the remaining two variable types: categorical, and 'mixed'.\n",
    "\n",
    "In the first two parts of this sub-step, you will perform an investigation of the categorical and mixed-type features and make a decision on each of them, whether you will keep, drop, or re-encode each. Then, in the last part, you will create a new data frame with only the selected and engineered columns.\n",
    "\n",
    "Data wrangling is often the trickiest part of the data analysis process, and there's a lot of it to be done here. But stick with it: once you're done with this step, you'll be ready to get to the machine learning parts of the project!"
   ]
  },
  {
   "cell_type": "code",
   "execution_count": 105,
   "metadata": {},
   "outputs": [
    {
     "data": {
      "text/plain": [
       "type\n",
       "categorical    21\n",
       "interval        1\n",
       "mixed           7\n",
       "numeric         7\n",
       "ordinal        49\n",
       "Name: attribute, dtype: int64"
      ]
     },
     "execution_count": 105,
     "metadata": {},
     "output_type": "execute_result"
    }
   ],
   "source": [
    "# How many features are there for each data type?\n",
    "feat_info.groupby(\"type\").count()[\"attribute\"]"
   ]
  },
  {
   "cell_type": "markdown",
   "metadata": {},
   "source": [
    "#### Step 1.2.1: Re-Encode Categorical Features\n",
    "\n",
    "For categorical data, you would ordinarily need to encode the levels as dummy variables. Depending on the number of categories, perform one of the following:\n",
    "- For binary (two-level) categoricals that take numeric values, you can keep them without needing to do anything.\n",
    "- There is one binary variable that takes on non-numeric values. For this one, you need to re-encode the values as numbers or create a dummy variable.\n",
    "- For multi-level categoricals (three or more values), you can choose to encode the values using multiple dummy variables (e.g. via [OneHotEncoder](http://scikit-learn.org/stable/modules/generated/sklearn.preprocessing.OneHotEncoder.html)), or (to keep things straightforward) just drop them from the analysis. As always, document your choices in the Discussion section."
   ]
  },
  {
   "cell_type": "code",
   "execution_count": 106,
   "metadata": {},
   "outputs": [
    {
     "data": {
      "text/html": [
       "<div>\n",
       "<style scoped>\n",
       "    .dataframe tbody tr th:only-of-type {\n",
       "        vertical-align: middle;\n",
       "    }\n",
       "\n",
       "    .dataframe tbody tr th {\n",
       "        vertical-align: top;\n",
       "    }\n",
       "\n",
       "    .dataframe thead th {\n",
       "        text-align: right;\n",
       "    }\n",
       "</style>\n",
       "<table border=\"1\" class=\"dataframe\">\n",
       "  <thead>\n",
       "    <tr style=\"text-align: right;\">\n",
       "      <th></th>\n",
       "      <th>categories</th>\n",
       "      <th>count_categories</th>\n",
       "      <th>variable</th>\n",
       "    </tr>\n",
       "  </thead>\n",
       "  <tbody>\n",
       "    <tr>\n",
       "      <th>0</th>\n",
       "      <td>[2.0, 1.0]</td>\n",
       "      <td>2</td>\n",
       "      <td>ANREDE_KZ</td>\n",
       "    </tr>\n",
       "    <tr>\n",
       "      <th>1</th>\n",
       "      <td>[5.0, 3.0, 2.0, 4.0, 1.0, 6.0, nan]</td>\n",
       "      <td>7</td>\n",
       "      <td>CJT_GESAMTTYP</td>\n",
       "    </tr>\n",
       "    <tr>\n",
       "      <th>2</th>\n",
       "      <td>[1.0, 6.0, 5.0, 2.0, 4.0, 3.0]</td>\n",
       "      <td>6</td>\n",
       "      <td>FINANZTYP</td>\n",
       "    </tr>\n",
       "    <tr>\n",
       "      <th>3</th>\n",
       "      <td>[10.0, 1.0, 5.0, 12.0, 9.0, 3.0, 8.0, 11.0, 4....</td>\n",
       "      <td>13</td>\n",
       "      <td>GFK_URLAUBERTYP</td>\n",
       "    </tr>\n",
       "    <tr>\n",
       "      <th>4</th>\n",
       "      <td>[0, 1]</td>\n",
       "      <td>2</td>\n",
       "      <td>GREEN_AVANTGARDE</td>\n",
       "    </tr>\n",
       "    <tr>\n",
       "      <th>5</th>\n",
       "      <td>[5.0, 1.0, nan, 10.0, 2.0, 7.0, 11.0, 8.0, 4.0...</td>\n",
       "      <td>12</td>\n",
       "      <td>LP_FAMILIE_FEIN</td>\n",
       "    </tr>\n",
       "    <tr>\n",
       "      <th>6</th>\n",
       "      <td>[3.0, 1.0, nan, 5.0, 2.0, 4.0]</td>\n",
       "      <td>6</td>\n",
       "      <td>LP_FAMILIE_GROB</td>\n",
       "    </tr>\n",
       "    <tr>\n",
       "      <th>7</th>\n",
       "      <td>[2.0, 3.0, 9.0, 4.0, 1.0, 10.0, 5.0, 8.0, 6.0,...</td>\n",
       "      <td>11</td>\n",
       "      <td>LP_STATUS_FEIN</td>\n",
       "    </tr>\n",
       "    <tr>\n",
       "      <th>8</th>\n",
       "      <td>[1.0, 2.0, 4.0, 5.0, 3.0, nan]</td>\n",
       "      <td>6</td>\n",
       "      <td>LP_STATUS_GROB</td>\n",
       "    </tr>\n",
       "    <tr>\n",
       "      <th>9</th>\n",
       "      <td>[1.0, 3.0, 2.0, nan]</td>\n",
       "      <td>4</td>\n",
       "      <td>NATIONALITAET_KZ</td>\n",
       "    </tr>\n",
       "    <tr>\n",
       "      <th>10</th>\n",
       "      <td>[3.0, 2.0, 1.0, 0.0, nan]</td>\n",
       "      <td>5</td>\n",
       "      <td>SHOPPER_TYP</td>\n",
       "    </tr>\n",
       "    <tr>\n",
       "      <th>11</th>\n",
       "      <td>[1.0, 0.0]</td>\n",
       "      <td>2</td>\n",
       "      <td>SOHO_KZ</td>\n",
       "    </tr>\n",
       "    <tr>\n",
       "      <th>12</th>\n",
       "      <td>[2.0, 1.0, nan]</td>\n",
       "      <td>3</td>\n",
       "      <td>VERS_TYP</td>\n",
       "    </tr>\n",
       "    <tr>\n",
       "      <th>13</th>\n",
       "      <td>[5.0, 3.0, 4.0, 1.0, 6.0, 2.0]</td>\n",
       "      <td>6</td>\n",
       "      <td>ZABEOTYP</td>\n",
       "    </tr>\n",
       "    <tr>\n",
       "      <th>14</th>\n",
       "      <td>[8.0, 1.0, 3.0, 2.0, 6.0, 4.0, 5.0]</td>\n",
       "      <td>7</td>\n",
       "      <td>GEBAEUDETYP</td>\n",
       "    </tr>\n",
       "    <tr>\n",
       "      <th>15</th>\n",
       "      <td>[0, 1]</td>\n",
       "      <td>2</td>\n",
       "      <td>OST_WEST_KZ</td>\n",
       "    </tr>\n",
       "    <tr>\n",
       "      <th>16</th>\n",
       "      <td>[8, 4, 2, 6, 1, 9, 5, 7, nan, 3]</td>\n",
       "      <td>10</td>\n",
       "      <td>CAMEO_DEUG_2015</td>\n",
       "    </tr>\n",
       "    <tr>\n",
       "      <th>17</th>\n",
       "      <td>[8A, 4C, 2A, 6B, 8C, 4A, 2D, 1A, 1E, 9D, 5C, 8...</td>\n",
       "      <td>45</td>\n",
       "      <td>CAMEO_DEU_2015</td>\n",
       "    </tr>\n",
       "  </tbody>\n",
       "</table>\n",
       "</div>"
      ],
      "text/plain": [
       "                                           categories  count_categories  \\\n",
       "0                                          [2.0, 1.0]                 2   \n",
       "1                 [5.0, 3.0, 2.0, 4.0, 1.0, 6.0, nan]                 7   \n",
       "2                      [1.0, 6.0, 5.0, 2.0, 4.0, 3.0]                 6   \n",
       "3   [10.0, 1.0, 5.0, 12.0, 9.0, 3.0, 8.0, 11.0, 4....                13   \n",
       "4                                              [0, 1]                 2   \n",
       "5   [5.0, 1.0, nan, 10.0, 2.0, 7.0, 11.0, 8.0, 4.0...                12   \n",
       "6                      [3.0, 1.0, nan, 5.0, 2.0, 4.0]                 6   \n",
       "7   [2.0, 3.0, 9.0, 4.0, 1.0, 10.0, 5.0, 8.0, 6.0,...                11   \n",
       "8                      [1.0, 2.0, 4.0, 5.0, 3.0, nan]                 6   \n",
       "9                                [1.0, 3.0, 2.0, nan]                 4   \n",
       "10                          [3.0, 2.0, 1.0, 0.0, nan]                 5   \n",
       "11                                         [1.0, 0.0]                 2   \n",
       "12                                    [2.0, 1.0, nan]                 3   \n",
       "13                     [5.0, 3.0, 4.0, 1.0, 6.0, 2.0]                 6   \n",
       "14                [8.0, 1.0, 3.0, 2.0, 6.0, 4.0, 5.0]                 7   \n",
       "15                                             [0, 1]                 2   \n",
       "16                   [8, 4, 2, 6, 1, 9, 5, 7, nan, 3]                10   \n",
       "17  [8A, 4C, 2A, 6B, 8C, 4A, 2D, 1A, 1E, 9D, 5C, 8...                45   \n",
       "\n",
       "            variable  \n",
       "0          ANREDE_KZ  \n",
       "1      CJT_GESAMTTYP  \n",
       "2          FINANZTYP  \n",
       "3    GFK_URLAUBERTYP  \n",
       "4   GREEN_AVANTGARDE  \n",
       "5    LP_FAMILIE_FEIN  \n",
       "6    LP_FAMILIE_GROB  \n",
       "7     LP_STATUS_FEIN  \n",
       "8     LP_STATUS_GROB  \n",
       "9   NATIONALITAET_KZ  \n",
       "10       SHOPPER_TYP  \n",
       "11           SOHO_KZ  \n",
       "12          VERS_TYP  \n",
       "13          ZABEOTYP  \n",
       "14       GEBAEUDETYP  \n",
       "15       OST_WEST_KZ  \n",
       "16   CAMEO_DEUG_2015  \n",
       "17    CAMEO_DEU_2015  "
      ]
     },
     "metadata": {},
     "output_type": "display_data"
    }
   ],
   "source": [
    "# Assess categorical variables: which are binary, which are multi-level, and\n",
    "# which one needs to be re-encoded?\n",
    "\n",
    "# Select categorical variable\n",
    "categorical_variable = list(feat_info.loc[\n",
    "(feat_info[\"type\"]==\"categorical\") & (feat_info[\"is_removed\"]==0),\"attribute\"]\n",
    "                           )\n",
    "\n",
    "# For each categorical variable, assess the categories\n",
    "categorical_variable_df = []\n",
    "for variable in categorical_variable:\n",
    "    categorical_variable_df.append({\n",
    "        \"variable\":variable,\n",
    "        \"categories\":azdias_final[variable].unique(),\n",
    "        \"count_categories\":len(azdias_final[variable].unique())\n",
    "    })\n",
    "categorical_variable_df=pd.DataFrame(categorical_variable_df)\n",
    "display(categorical_variable_df)"
   ]
  },
  {
   "cell_type": "code",
   "execution_count": 193,
   "metadata": {},
   "outputs": [
    {
     "name": "stdout",
     "output_type": "stream",
     "text": [
      "['CJT_GESAMTTYP', 'FINANZTYP', 'GFK_URLAUBERTYP', 'LP_FAMILIE_FEIN', 'LP_FAMILIE_GROB', 'LP_STATUS_FEIN', 'LP_STATUS_GROB', 'NATIONALITAET_KZ', 'SHOPPER_TYP', 'VERS_TYP', 'ZABEOTYP', 'GEBAEUDETYP', 'CAMEO_DEUG_2015', 'CAMEO_DEU_2015']\n"
     ]
    }
   ],
   "source": [
    "azdias_final_encoding = pd.DataFrame(data = azdias_final)\n",
    "\n",
    "# Re-encode categorical variable(s) to be kept in the analysis.\n",
    "\n",
    "# Re-encode \"OST_WEST_KZ\" variable (dummy non-numeric variable)\n",
    "azdias_final_encoding[\"OST_WEST_KZ\"]=pd.get_dummies(azdias_final[\"OST_WEST_KZ\"])\n",
    "\n",
    "# One-hot encoding of multi-levels categorical: \"CAMEO_DEU_2015\" only\n",
    "\n",
    "multi_level_categorical = list(categorical_variable_df.loc[categorical_variable_df[\"count_categories\"]>2,\"variable\"])\n",
    "print(multi_level_categorical)\n",
    "#azdias_final_encoding = pd.get_dummies(data= azdias_final_encoding, columns=multi_level_categorical)\n",
    "\n",
    "azdias_final_encoding= pd.get_dummies(data = azdias_final_encoding, columns= [\"CAMEO_DEU_2015\"])\n"
   ]
  },
  {
   "cell_type": "code",
   "execution_count": 194,
   "metadata": {},
   "outputs": [
    {
     "name": "stdout",
     "output_type": "stream",
     "text": [
      "['CJT_GESAMTTYP', 'FINANZTYP', 'GFK_URLAUBERTYP', 'LP_FAMILIE_FEIN', 'LP_FAMILIE_GROB', 'LP_STATUS_FEIN', 'LP_STATUS_GROB', 'NATIONALITAET_KZ', 'SHOPPER_TYP', 'VERS_TYP', 'ZABEOTYP', 'GEBAEUDETYP', 'CAMEO_DEUG_2015']\n"
     ]
    }
   ],
   "source": [
    "multi_level_categorical_without_CAMEO_DEU_2015 = [x for x in multi_level_categorical if x!=\"CAMEO_DEU_2015\"]\n",
    "print(multi_level_categorical_without_CAMEO_DEU_2015)"
   ]
  },
  {
   "cell_type": "code",
   "execution_count": 195,
   "metadata": {},
   "outputs": [
    {
     "data": {
      "text/plain": [
       "array(['ALTERSKATEGORIE_GROB', 'ANREDE_KZ', 'CJT_GESAMTTYP',\n",
       "       'FINANZ_MINIMALIST', 'FINANZ_SPARER', 'FINANZ_VORSORGER',\n",
       "       'FINANZ_ANLEGER', 'FINANZ_UNAUFFAELLIGER', 'FINANZ_HAUSBAUER',\n",
       "       'FINANZTYP', 'GFK_URLAUBERTYP', 'GREEN_AVANTGARDE', 'HEALTH_TYP',\n",
       "       'LP_LEBENSPHASE_FEIN', 'LP_LEBENSPHASE_GROB', 'LP_FAMILIE_FEIN',\n",
       "       'LP_FAMILIE_GROB', 'LP_STATUS_FEIN', 'LP_STATUS_GROB',\n",
       "       'NATIONALITAET_KZ', 'PRAEGENDE_JUGENDJAHRE', 'RETOURTYP_BK_S',\n",
       "       'SEMIO_SOZ', 'SEMIO_FAM', 'SEMIO_REL', 'SEMIO_MAT', 'SEMIO_VERT',\n",
       "       'SEMIO_LUST', 'SEMIO_ERL', 'SEMIO_KULT', 'SEMIO_RAT', 'SEMIO_KRIT',\n",
       "       'SEMIO_DOM', 'SEMIO_KAEM', 'SEMIO_PFLICHT', 'SEMIO_TRADV',\n",
       "       'SHOPPER_TYP', 'SOHO_KZ', 'VERS_TYP', 'ZABEOTYP', 'ANZ_PERSONEN',\n",
       "       'ANZ_TITEL', 'HH_EINKOMMEN_SCORE', 'W_KEIT_KIND_HH',\n",
       "       'WOHNDAUER_2008', 'ANZ_HAUSHALTE_AKTIV', 'ANZ_HH_TITEL',\n",
       "       'GEBAEUDETYP', 'KONSUMNAEHE', 'MIN_GEBAEUDEJAHR', 'OST_WEST_KZ',\n",
       "       'WOHNLAGE', 'CAMEO_DEUG_2015', 'CAMEO_INTL_2015', 'KBA05_ANTG1',\n",
       "       'KBA05_ANTG2', 'KBA05_ANTG3', 'KBA05_ANTG4', 'KBA05_GBZ',\n",
       "       'BALLRAUM', 'EWDICHTE', 'INNENSTADT', 'GEBAEUDETYP_RASTER', 'KKK',\n",
       "       'MOBI_REGIO', 'ONLINE_AFFINITAET', 'REGIOTYP', 'KBA13_ANZAHL_PKW',\n",
       "       'PLZ8_ANTG1', 'PLZ8_ANTG2', 'PLZ8_ANTG3', 'PLZ8_ANTG4',\n",
       "       'PLZ8_BAUMAX', 'PLZ8_HHZ', 'PLZ8_GBZ', 'ARBEIT', 'ORTSGR_KLS9',\n",
       "       'RELAT_AB', 'CAMEO_DEU_2015_0', 'CAMEO_DEU_2015_1'], dtype=object)"
      ]
     },
     "execution_count": 195,
     "metadata": {},
     "output_type": "execute_result"
    }
   ],
   "source": [
    "# Overview of all the features\n",
    "azdias_final_encoding.columns.values"
   ]
  },
  {
   "cell_type": "markdown",
   "metadata": {},
   "source": [
    "#### Discussion 1.2.1: Re-Encode Categorical Features\n",
    "\n",
    "Which ones did you keep, which did you drop, and what engineering steps did you perform?\n",
    "\n",
    "- The different type of categorical features are listed in categorical_variable_df\n",
    "- Following the instructions, we turn the non numerical dummy variable \"OST_WEST_KZ\" into a dummy variable\n",
    "- We also turn the multi-level categorial features CAMEO_DEU_2015 into dummy variables (CAMEO_DEU_2015_0 and CAMEO_DEU_2015_1)\n",
    "- Regarding the multi-level numerical feautures, if we want to implement a clean analysis, we would need to ask for each variable if its ordinal sense makes sense. If this is the case, then we would not change the variable, if not we would one-hot encode it. As suggested in instructions and to keep things straightforward, we choose to drop them of the analysis. "
   ]
  },
  {
   "cell_type": "markdown",
   "metadata": {},
   "source": [
    "#### Step 1.2.2: Engineer Mixed-Type Features\n",
    "\n",
    "There are a handful of features that are marked as \"mixed\" in the feature summary that require special treatment in order to be included in the analysis. There are two in particular that deserve attention; the handling of the rest are up to your own choices:\n",
    "- \"PRAEGENDE_JUGENDJAHRE\" combines information on three dimensions: generation by decade, movement (mainstream vs. avantgarde), and nation (east vs. west). While there aren't enough levels to disentangle east from west, you should create two new variables to capture the other two dimensions: an interval-type variable for decade, and a binary variable for movement.\n",
    "- \"CAMEO_INTL_2015\" combines information on two axes: wealth and life stage. Break up the two-digit codes by their 'tens'-place and 'ones'-place digits into two new ordinal variables (which, for the purposes of this project, is equivalent to just treating them as their raw numeric values).\n",
    "- If you decide to keep or engineer new features around the other mixed-type features, make sure you note your steps in the Discussion section.\n",
    "\n",
    "Be sure to check `Data_Dictionary.md` for the details needed to finish these tasks."
   ]
  },
  {
   "cell_type": "code",
   "execution_count": 196,
   "metadata": {},
   "outputs": [],
   "source": [
    "# Investigate \"PRAEGENDE_JUGENDJAHRE\" and engineer two new variables.\n",
    "\n",
    "# Nation : keep the variable \"PRAEGENDE_JUGENDJAHRE\"\n",
    "\n",
    "# Decade: create an interval-type variable\n",
    "decade_dict = {\n",
    "    1:4,2:4, #40s\n",
    "    3:5,4:5,#50s\n",
    "    5:6,6:6,7:6,#60s\n",
    "    8:7,9:7,#70s\n",
    "    10:8,11:8,12:8,13:8,#80s\n",
    "    14:9,15:9 #90s\n",
    "}\n",
    "\n",
    "azdias_final_encoding[\"PRAEGENDE_JUGENDJAHRE_1\"]=azdias_final_encoding[\"PRAEGENDE_JUGENDJAHRE\"].map(decade_dict)\n",
    "#print(azdias_final_encoding[\"PRAEGENDE_JUGENDJAHRE_1\"].head())\n",
    "\n",
    "# Movement (avantgarde vs. mainstream): binary variable\n",
    "avantgarde_list=[2,4,6,7,9,11,13,15] # 1 for avantgarde\n",
    "mainstream_list=[1,3,5,8,10,12,14] # 0 else\n",
    "\n",
    "azdias_final_encoding[\"PRAEGENDE_JUGENDJAHRE_2\"]= azdias_final_encoding[\"PRAEGENDE_JUGENDJAHRE\"].isin(avantgarde_list)*1\n",
    "#print(azdias_final_encoding[\"PRAEGENDE_JUGENDJAHRE_2\"].head())\n",
    "    "
   ]
  },
  {
   "cell_type": "code",
   "execution_count": 197,
   "metadata": {},
   "outputs": [],
   "source": [
    "# Investigate \"CAMEO_INTL_2015\" and engineer two new variables.\n",
    "# Initialization\n",
    "azdias_final_encoding[\"CAMEO_INTL_2015_1\"]=azdias_final_encoding[\"CAMEO_INTL_2015\"] # wealth level\n",
    "azdias_final_encoding[\"CAMEO_INTL_2015_2\"]=azdias_final_encoding[\"CAMEO_INTL_2015\"] # life stage\n",
    "\n",
    "# Identification of non-nan value\n",
    "idx = np.where(azdias_final_encoding[\"CAMEO_INTL_2015\"].isna()==False)\n",
    "\n",
    "# For non-nan value extraction of the first and second digit\n",
    "azdias_final_encoding[\"CAMEO_INTL_2015_1\"].iloc[idx]= azdias_final_encoding[\"CAMEO_INTL_2015_1\"].iloc[idx].apply(lambda x: int(x[0]))\n",
    "azdias_final_encoding[\"CAMEO_INTL_2015_2\"].iloc[idx]= azdias_final_encoding[\"CAMEO_INTL_2015_2\"].iloc[idx].apply(lambda x: int(x[1]))\n"
   ]
  },
  {
   "cell_type": "code",
   "execution_count": 198,
   "metadata": {},
   "outputs": [
    {
     "name": "stdout",
     "output_type": "stream",
     "text": [
      "['LP_LEBENSPHASE_FEIN', 'LP_LEBENSPHASE_GROB', 'PRAEGENDE_JUGENDJAHRE', 'WOHNLAGE', 'CAMEO_INTL_2015', 'PLZ8_BAUMAX']\n"
     ]
    }
   ],
   "source": [
    "# Handling of the rest ?\n",
    "\n",
    "# Select mixed variable\n",
    "mixed_variable = list(feat_info.loc[\n",
    "(feat_info[\"type\"]==\"mixed\") & (feat_info[\"is_removed\"]==0),\"attribute\"]\n",
    "                           )\n",
    "print(mixed_variable)\n",
    "\n",
    "# Handling of the rest : LP_LEBENSPHASE_FEIN\n",
    "# Combines information on two axes: Life stage, fine scale. However, no simple decomposition of the two digits\n",
    "\n",
    "# Handling of the rest : LP_LEBENSPHASE_GROB\n",
    "# Combines information on two axes: Life stage, rough scale. However, no simple decomposition of the two digits\n",
    "\n",
    "# Handling of the rest : WOHNLAGE\n",
    "# Mixed of the quality of the Neighborhood or a rural flag when Neighborhood is not applicable\n",
    "# We differentiate quality of Neighborhood and the rural flag\n",
    "\n",
    "quality_list=[0,1,2,3,4,5] # treated as interval numerical feature\n",
    "rural_flag = [7,8] # treated as two dummies variable\n",
    "\n",
    "azdias_final_encoding[\"WOHNLAGE_1\"]=azdias_final_encoding[\"WOHNLAGE\"].isin(quality_list)*azdias_final_encoding[\"WOHNLAGE\"]\n",
    "#print(list(set(azdias_final_encoding[\"WOHNLAGE_1\"])))\n",
    "\n",
    "azdias_final_encoding[\"WOHNLAGE_2\"]=azdias_final_encoding[\"WOHNLAGE\"].isin(rural_flag)*azdias_final_encoding[\"WOHNLAGE\"]\n",
    "azdias_final_encoding= pd.get_dummies(data = azdias_final_encoding, columns= [\"WOHNLAGE_2\"])\n",
    "\n",
    "# Handling of the rest : PLZ8_BAUMAX\n",
    "# Mixed the number of family houses vs. business buildings\n",
    "\n",
    "family_list = [1,2,3,4] # # treated as interval numerical feature\n",
    "business_buildings = [5] # treated as a dummy variable: 1 if business buildings, 0 else\n",
    "\n",
    "azdias_final_encoding[\"PLZ8_BAUMAX_1\"] = azdias_final_encoding[\"PLZ8_BAUMAX\"].isin(family_list)*azdias_final_encoding[\"PLZ8_BAUMAX\"]\n",
    "#list(set(azdias_final_encoding[\"PLZ8_BAUMAX_1\"]))\n",
    "\n",
    "azdias_final_encoding[\"PLZ8_BAUMAX_2\"] = azdias_final_encoding[\"PLZ8_BAUMAX\"].isin(business_buildings)*1\n",
    "\n"
   ]
  },
  {
   "cell_type": "code",
   "execution_count": 203,
   "metadata": {},
   "outputs": [
    {
     "data": {
      "text/plain": [
       "1"
      ]
     },
     "execution_count": 203,
     "metadata": {},
     "output_type": "execute_result"
    }
   ],
   "source": [
    "sum(azdias_final_encoding.columns.values == \"PLZ8_BAUMAX_2\")\n"
   ]
  },
  {
   "cell_type": "markdown",
   "metadata": {},
   "source": [
    "#### Discussion 1.2.2: Engineer Mixed-Type Features\n",
    "\n",
    "Which ones did you keep, which did you drop, and what engineering steps did you perform?\n",
    "\n",
    "- There are 6 mixed variables: 'LP_LEBENSPHASE_FEIN', 'LP_LEBENSPHASE_GROB', 'PRAEGENDE_JUGENDJAHRE', 'WOHNLAGE', 'CAMEO_INTL_2015', 'PLZ8_BAUMAX'\n",
    "- For \"PRAEGENDE_JUGENDJAHRE\" and \"CAMEO_INTL_2015\", we follow the above instructions.\n",
    "- We drop LP_LEBENSPHASE_GROB and LP_LEBENSPHASE_FEIN. Indeed, as they are multi-level numerical features mixing two undistinguishable information, we would need to OneHotEncode such features hence resulting in a high number of variables. As suggested in instructions in order to keep things straightforward, we choose to drop them of the analysis . \n",
    "- For \"WOHNLAGE\", we create an interval numerical feature for the quality feature (WOHNLAGE_1) and two dummies variable for the rural flag (WOHNLAGE_2_7.0,WOHNLAGE_2_8.0)\n",
    "- For \"PLZ8_BAUMAX\", we create an interval numerical feature for the number of families feature (PLZ8_BAUMAX_1) and a dummy variable for the business (PLZ8_BAUMAX_2)"
   ]
  },
  {
   "cell_type": "markdown",
   "metadata": {},
   "source": [
    "#### Step 1.2.3: Complete Feature Selection\n",
    "\n",
    "In order to finish this step up, you need to make sure that your data frame now only has the columns that you want to keep. To summarize, the dataframe should consist of the following:\n",
    "- All numeric, interval, and ordinal type columns from the original dataset.\n",
    "- Binary categorical features (all numerically-encoded).\n",
    "- Engineered features from other multi-level categorical features and mixed features.\n",
    "\n",
    "Make sure that for any new columns that you have engineered, that you've excluded the original columns from the final dataset. Otherwise, their values will interfere with the analysis later on the project. For example, you should not keep \"PRAEGENDE_JUGENDJAHRE\", since its values won't be useful for the algorithm: only the values derived from it in the engineered features you created should be retained. As a reminder, your data should only be from **the subset with few or no missing values**."
   ]
  },
  {
   "cell_type": "code",
   "execution_count": 204,
   "metadata": {},
   "outputs": [],
   "source": [
    "# If there are other re-engineering tasks you need to perform, make sure you\n",
    "# take care of them here. (Dealing with missing data will come in step 2.1.)\n",
    "\n",
    "azdias_final_encoding=azdias_final_encoding.drop(multi_level_categorical_without_CAMEO_DEU_2015,axis = 1)"
   ]
  },
  {
   "cell_type": "code",
   "execution_count": 205,
   "metadata": {},
   "outputs": [],
   "source": [
    "# Do whatever you need to in order to ensure that the dataframe only contains\n",
    "# the columns that should be passed to the algorithm functions.\n",
    "\n",
    "\n",
    "other_features_to_drop =[\"PRAEGENDE_JUGENDJAHRE\",\"CAMEO_INTL_2015\",\"LP_LEBENSPHASE_FEIN\",\"LP_LEBENSPHASE_GROB\",\"WOHNLAGE\"]\n",
    "\n",
    "azdias_final_encoding=azdias_final_encoding.drop(other_features_to_drop, axis = 1)\n"
   ]
  },
  {
   "cell_type": "markdown",
   "metadata": {},
   "source": [
    "### Step 1.3: Create a Cleaning Function\n",
    "\n",
    "Even though you've finished cleaning up the general population demographics data, it's important to look ahead to the future and realize that you'll need to perform the same cleaning steps on the customer demographics data. In this substep, complete the function below to execute the main feature selection, encoding, and re-engineering steps you performed above. Then, when it comes to looking at the customer data in Step 3, you can just run this function on that DataFrame to get the trimmed dataset in a single step."
   ]
  },
  {
   "cell_type": "code",
   "execution_count": 384,
   "metadata": {},
   "outputs": [],
   "source": [
    "def clean_data(df,feat_info, columns_to_drop,treshold_raw):\n",
    "\n",
    "    \"\"\"\n",
    "    Perform feature trimming, re-encoding, and engineering for demographics\n",
    "    data\n",
    "    \n",
    "    INPUT: Demographics DataFrame\n",
    "    OUTPUT: Trimmed and cleaned demographics DataFrame\n",
    "    \"\"\"\n",
    "   \n",
    "    # 1. Put in code here to execute all main cleaning steps:\n",
    "    # convert missing value codes into NaNs, ...\n",
    "    \n",
    "    #1.1: Identify columns where missing values must be corrected, and parse the \"missing or unknown\" value\n",
    "    feat_info_missingvalues = feat_info[feat_info[\"missing_or_unknown\"]!='[]']\n",
    "    feat_info_missingvalues [\"parse_missing_elements\"] = feat_info_missingvalues[\"missing_or_unknown\"].apply(lambda x: parse_missing_elements(x))\n",
    "    \n",
    "    #1.2 : Replace missing or unkwown value with Nans\n",
    "    azdias_new= pd.DataFrame(data = df)\n",
    "\n",
    "    # Identify columns with missing values to be replaced\n",
    "    missingvalues = list(feat_info_missingvalues[\"attribute\"])\n",
    "\n",
    "    # In each colums of features, replace missing value\n",
    "    for attribute in missingvalues:\n",
    "        # Get the list of missing elements for a given feature\n",
    "        missing_elements = feat_info_missingvalues.loc[feat_info_missingvalues[\"attribute\"]==attribute,\"parse_missing_elements\"].iloc[0]\n",
    "        azdias_new[attribute].loc[np.where(azdias_new[attribute].isin(missing_elements))] = np.nan\n",
    "\n",
    "    \n",
    "    # 2. remove selected columns and rows, ...\n",
    "    \n",
    "    #2.1 remove columns with two many missing values\n",
    "    # Remove outliers columns\n",
    "    azdias_without_out= pd.DataFrame(data = azdias_new)\n",
    "    azdias_without_out = azdias_without_out.drop(list(columns_to_drop.index),axis=1)\n",
    "    feat_info[\"is_removed\"]= feat_info[\"attribute\"].apply(lambda x: sum(columns_to_drop.index == x))\n",
    "    \n",
    "    #2.2 remove rows with two many missing values\n",
    "    missing_values_row = azdias_without_out.apply(lambda x : sum(x.isna()==True), axis = 1)\n",
    "    rows_to_keep = missing_values_row[missing_values_row<treshold_raw]\n",
    "    azdias_final = azdias_without_out.loc[list(rows_to_keep.index)]\n",
    "    \n",
    "    \n",
    "    # 3. select, re-encode, and engineer column values.\n",
    "    \n",
    "    # 3.1 : categorical colum\n",
    "    \n",
    "    # Select categorical variable\n",
    "    categorical_variable = list(feat_info.loc[\n",
    "    (feat_info[\"type\"]==\"categorical\") & (feat_info[\"is_removed\"]==0),\"attribute\"]\n",
    "                               )\n",
    "\n",
    "    # For each categorical variable, assess the categories\n",
    "    categorical_variable_df = []\n",
    "    for variable in categorical_variable:\n",
    "        categorical_variable_df.append({\n",
    "            \"variable\":variable,\n",
    "            \"categories\":azdias_final[variable].unique(),\n",
    "            \"count_categories\":len(azdias_final[variable].unique())\n",
    "        })\n",
    "    categorical_variable_df=pd.DataFrame(categorical_variable_df)\n",
    "    \n",
    "    azdias_final_encoding = pd.DataFrame(data = azdias_final)\n",
    "\n",
    "    # Re-encode categorical variable(s) to be kept in the analysis.\n",
    "    # Re-encode \"OST_WEST_KZ\" variable (dummy and non-numeric)\n",
    "    azdias_final_encoding[\"OST_WEST_KZ\"]=pd.get_dummies(azdias_final[\"OST_WEST_KZ\"])\n",
    "\n",
    "    # One-hot encode multi-levels categorical\n",
    "    \n",
    "    multi_level_categorical = list(categorical_variable_df.loc[categorical_variable_df[\"count_categories\"]>2,\"variable\"])\n",
    "    # from sklearn.preprocessing import OneHotEncoder\n",
    "    # azdias_final_encoding = pd.get_dummies(data= azdias_final_encoding, columns=multi_level_categorical)\n",
    "\n",
    "    # One-hot encoding of multi-levels categorical: \"CAMEO_DEU_2015\" only\n",
    "    azdias_final_encoding= pd.get_dummies(data = azdias_final_encoding, columns= [\"CAMEO_DEU_2015\"])\n",
    "\n",
    "    \n",
    "    #3.2 : mixed colums\n",
    "    #3.2.1 Investigate \"PRAEGENDE_JUGENDJAHRE\" and engineer two new variables.\n",
    "    # Decade: interval-type variable\n",
    "    decade_dict = {\n",
    "        1:4,2:4, #40s\n",
    "        3:5,4:5,#50s\n",
    "        5:6,6:6,7:6,#60s\n",
    "        8:7,9:7,#70s\n",
    "        10:8,11:8,12:8,13:8,#80s\n",
    "        14:9,15:9 #90s\n",
    "    }\n",
    "    azdias_final_encoding[\"PRAEGENDE_JUGENDJAHRE_1\"]=azdias_final_encoding[\"PRAEGENDE_JUGENDJAHRE\"].map(decade_dict)\n",
    "    # Movement (avantgarde vs. mainstream): binary variable\n",
    "    avantgarde_list=[2,4,6,7,9,11,13,15]\n",
    "    mainstream_list=[1,3,5,8,10,12,14]\n",
    "    azdias_final_encoding[\"PRAEGENDE_JUGENDJAHRE_2\"]= azdias_final_encoding[\"PRAEGENDE_JUGENDJAHRE\"].isin(avantgarde_list)*1\n",
    "\n",
    "    #3.2.2 Investigate \"CAMEO_INTL_2015\" and engineer two new variables.\n",
    "    # Initialization\n",
    "    azdias_final_encoding[\"CAMEO_INTL_2015_1\"]=azdias_final_encoding[\"CAMEO_INTL_2015\"]\n",
    "    azdias_final_encoding[\"CAMEO_INTL_2015_2\"]=azdias_final_encoding[\"CAMEO_INTL_2015\"]\n",
    "    # Identification of non-nan value\n",
    "    idx = np.where(azdias_final_encoding[\"CAMEO_INTL_2015\"].isna()==False)\n",
    "    # For non-nan value extraction of the first and second digit\n",
    "    azdias_final_encoding[\"CAMEO_INTL_2015_1\"].iloc[idx]= azdias_final_encoding[\"CAMEO_INTL_2015_1\"].iloc[idx].apply(lambda x: int(x[0]))\n",
    "    azdias_final_encoding[\"CAMEO_INTL_2015_2\"].iloc[idx]= azdias_final_encoding[\"CAMEO_INTL_2015_2\"].iloc[idx].apply(lambda x: int(x[1]))\n",
    "\n",
    "    \n",
    "    # Return the cleaned dataframe.\n",
    "    azdias_final_encoding=azdias_final_encoding.drop([\"PRAEGENDE_JUGENDJAHRE\",\"CAMEO_INTL_2015\"],axis = 1)\n",
    "    return(azdias_final_encoding)"
   ]
  },
  {
   "cell_type": "code",
   "execution_count": 188,
   "metadata": {},
   "outputs": [],
   "source": [
    "# Load in the general demographics data.\n",
    "azdias = pd.read_csv(\"Udacity_AZDIAS_Subset.csv\", sep = \";\")\n",
    "\n",
    "# Load in the feature summary file.\n",
    "feat_info = pd.read_csv(\"AZDIAS_Feature_Summary.csv\",sep = \";\")"
   ]
  },
  {
   "cell_type": "code",
   "execution_count": 211,
   "metadata": {},
   "outputs": [
    {
     "name": "stderr",
     "output_type": "stream",
     "text": [
      "/anaconda3/lib/python3.6/site-packages/ipykernel_launcher.py:16: SettingWithCopyWarning: \n",
      "A value is trying to be set on a copy of a slice from a DataFrame.\n",
      "Try using .loc[row_indexer,col_indexer] = value instead\n",
      "\n",
      "See the caveats in the documentation: http://pandas.pydata.org/pandas-docs/stable/indexing.html#indexing-view-versus-copy\n",
      "  app.launch_new_instance()\n",
      "/anaconda3/lib/python3.6/site-packages/pandas/core/indexing.py:189: SettingWithCopyWarning: \n",
      "A value is trying to be set on a copy of a slice from a DataFrame\n",
      "\n",
      "See the caveats in the documentation: http://pandas.pydata.org/pandas-docs/stable/indexing.html#indexing-view-versus-copy\n",
      "  self._setitem_with_indexer(indexer, value)\n"
     ]
    },
    {
     "name": "stdout",
     "output_type": "stream",
     "text": [
      "290.9277138710022\n"
     ]
    }
   ],
   "source": [
    "start = time()\n",
    "azdias_final_clean = clean_data(azdias,feat_info,columns_to_drop,20)\n",
    "end = time()\n",
    "duration = end-start\n",
    "print(duration) # almost 5 minutes"
   ]
  },
  {
   "cell_type": "code",
   "execution_count": 212,
   "metadata": {},
   "outputs": [
    {
     "data": {
      "text/plain": [
       "(797077, 197)"
      ]
     },
     "execution_count": 212,
     "metadata": {},
     "output_type": "execute_result"
    }
   ],
   "source": [
    "#azdias_final_clean.columns.values\n",
    "azdias_final_clean.shape"
   ]
  },
  {
   "cell_type": "code",
   "execution_count": 194,
   "metadata": {},
   "outputs": [
    {
     "data": {
      "text/html": [
       "<div>\n",
       "<style scoped>\n",
       "    .dataframe tbody tr th:only-of-type {\n",
       "        vertical-align: middle;\n",
       "    }\n",
       "\n",
       "    .dataframe tbody tr th {\n",
       "        vertical-align: top;\n",
       "    }\n",
       "\n",
       "    .dataframe thead th {\n",
       "        text-align: right;\n",
       "    }\n",
       "</style>\n",
       "<table border=\"1\" class=\"dataframe\">\n",
       "  <thead>\n",
       "    <tr style=\"text-align: right;\">\n",
       "      <th></th>\n",
       "      <th>ALTERSKATEGORIE_GROB</th>\n",
       "      <th>ANREDE_KZ</th>\n",
       "      <th>FINANZ_MINIMALIST</th>\n",
       "      <th>FINANZ_SPARER</th>\n",
       "      <th>FINANZ_VORSORGER</th>\n",
       "      <th>FINANZ_ANLEGER</th>\n",
       "      <th>FINANZ_UNAUFFAELLIGER</th>\n",
       "      <th>FINANZ_HAUSBAUER</th>\n",
       "      <th>GREEN_AVANTGARDE</th>\n",
       "      <th>HEALTH_TYP</th>\n",
       "      <th>...</th>\n",
       "      <th>CAMEO_DEU_2015_8B</th>\n",
       "      <th>CAMEO_DEU_2015_8C</th>\n",
       "      <th>CAMEO_DEU_2015_8D</th>\n",
       "      <th>CAMEO_DEU_2015_9A</th>\n",
       "      <th>CAMEO_DEU_2015_9B</th>\n",
       "      <th>CAMEO_DEU_2015_9C</th>\n",
       "      <th>CAMEO_DEU_2015_9D</th>\n",
       "      <th>CAMEO_DEU_2015_9E</th>\n",
       "      <th>PRAEGENDE_JUGENDJAHRE_1</th>\n",
       "      <th>PRAEGENDE_JUGENDJAHRE_2</th>\n",
       "    </tr>\n",
       "  </thead>\n",
       "  <tbody>\n",
       "    <tr>\n",
       "      <th>count</th>\n",
       "      <td>794304.000000</td>\n",
       "      <td>797077.000000</td>\n",
       "      <td>797077.000000</td>\n",
       "      <td>797077.000000</td>\n",
       "      <td>797077.000000</td>\n",
       "      <td>797077.000000</td>\n",
       "      <td>797077.000000</td>\n",
       "      <td>797077.000000</td>\n",
       "      <td>797077.000000</td>\n",
       "      <td>760739.000000</td>\n",
       "      <td>...</td>\n",
       "      <td>797077.000000</td>\n",
       "      <td>797077.000000</td>\n",
       "      <td>797077.000000</td>\n",
       "      <td>797077.000000</td>\n",
       "      <td>797077.000000</td>\n",
       "      <td>797077.000000</td>\n",
       "      <td>797077.000000</td>\n",
       "      <td>797077.000000</td>\n",
       "      <td>768753.000000</td>\n",
       "      <td>797077.000000</td>\n",
       "    </tr>\n",
       "    <tr>\n",
       "      <th>mean</th>\n",
       "      <td>2.795177</td>\n",
       "      <td>1.521377</td>\n",
       "      <td>3.058727</td>\n",
       "      <td>2.715815</td>\n",
       "      <td>3.432951</td>\n",
       "      <td>2.840685</td>\n",
       "      <td>2.656884</td>\n",
       "      <td>3.115607</td>\n",
       "      <td>0.219722</td>\n",
       "      <td>2.199332</td>\n",
       "      <td>...</td>\n",
       "      <td>0.041933</td>\n",
       "      <td>0.038865</td>\n",
       "      <td>0.022037</td>\n",
       "      <td>0.025765</td>\n",
       "      <td>0.034703</td>\n",
       "      <td>0.031347</td>\n",
       "      <td>0.035870</td>\n",
       "      <td>0.007983</td>\n",
       "      <td>7.331905</td>\n",
       "      <td>0.219722</td>\n",
       "    </tr>\n",
       "    <tr>\n",
       "      <th>std</th>\n",
       "      <td>1.018528</td>\n",
       "      <td>0.499543</td>\n",
       "      <td>1.377570</td>\n",
       "      <td>1.485032</td>\n",
       "      <td>1.376959</td>\n",
       "      <td>1.472527</td>\n",
       "      <td>1.399118</td>\n",
       "      <td>1.407806</td>\n",
       "      <td>0.414058</td>\n",
       "      <td>0.755127</td>\n",
       "      <td>...</td>\n",
       "      <td>0.200437</td>\n",
       "      <td>0.193272</td>\n",
       "      <td>0.146803</td>\n",
       "      <td>0.158435</td>\n",
       "      <td>0.183027</td>\n",
       "      <td>0.174254</td>\n",
       "      <td>0.185966</td>\n",
       "      <td>0.088990</td>\n",
       "      <td>1.457350</td>\n",
       "      <td>0.414058</td>\n",
       "    </tr>\n",
       "    <tr>\n",
       "      <th>min</th>\n",
       "      <td>1.000000</td>\n",
       "      <td>1.000000</td>\n",
       "      <td>1.000000</td>\n",
       "      <td>1.000000</td>\n",
       "      <td>1.000000</td>\n",
       "      <td>1.000000</td>\n",
       "      <td>1.000000</td>\n",
       "      <td>1.000000</td>\n",
       "      <td>0.000000</td>\n",
       "      <td>1.000000</td>\n",
       "      <td>...</td>\n",
       "      <td>0.000000</td>\n",
       "      <td>0.000000</td>\n",
       "      <td>0.000000</td>\n",
       "      <td>0.000000</td>\n",
       "      <td>0.000000</td>\n",
       "      <td>0.000000</td>\n",
       "      <td>0.000000</td>\n",
       "      <td>0.000000</td>\n",
       "      <td>4.000000</td>\n",
       "      <td>0.000000</td>\n",
       "    </tr>\n",
       "    <tr>\n",
       "      <th>25%</th>\n",
       "      <td>2.000000</td>\n",
       "      <td>1.000000</td>\n",
       "      <td>2.000000</td>\n",
       "      <td>1.000000</td>\n",
       "      <td>2.000000</td>\n",
       "      <td>1.000000</td>\n",
       "      <td>1.000000</td>\n",
       "      <td>2.000000</td>\n",
       "      <td>0.000000</td>\n",
       "      <td>2.000000</td>\n",
       "      <td>...</td>\n",
       "      <td>0.000000</td>\n",
       "      <td>0.000000</td>\n",
       "      <td>0.000000</td>\n",
       "      <td>0.000000</td>\n",
       "      <td>0.000000</td>\n",
       "      <td>0.000000</td>\n",
       "      <td>0.000000</td>\n",
       "      <td>0.000000</td>\n",
       "      <td>6.000000</td>\n",
       "      <td>0.000000</td>\n",
       "    </tr>\n",
       "    <tr>\n",
       "      <th>50%</th>\n",
       "      <td>3.000000</td>\n",
       "      <td>2.000000</td>\n",
       "      <td>3.000000</td>\n",
       "      <td>3.000000</td>\n",
       "      <td>4.000000</td>\n",
       "      <td>3.000000</td>\n",
       "      <td>2.000000</td>\n",
       "      <td>3.000000</td>\n",
       "      <td>0.000000</td>\n",
       "      <td>2.000000</td>\n",
       "      <td>...</td>\n",
       "      <td>0.000000</td>\n",
       "      <td>0.000000</td>\n",
       "      <td>0.000000</td>\n",
       "      <td>0.000000</td>\n",
       "      <td>0.000000</td>\n",
       "      <td>0.000000</td>\n",
       "      <td>0.000000</td>\n",
       "      <td>0.000000</td>\n",
       "      <td>7.000000</td>\n",
       "      <td>0.000000</td>\n",
       "    </tr>\n",
       "    <tr>\n",
       "      <th>75%</th>\n",
       "      <td>4.000000</td>\n",
       "      <td>2.000000</td>\n",
       "      <td>4.000000</td>\n",
       "      <td>4.000000</td>\n",
       "      <td>5.000000</td>\n",
       "      <td>4.000000</td>\n",
       "      <td>4.000000</td>\n",
       "      <td>4.000000</td>\n",
       "      <td>0.000000</td>\n",
       "      <td>3.000000</td>\n",
       "      <td>...</td>\n",
       "      <td>0.000000</td>\n",
       "      <td>0.000000</td>\n",
       "      <td>0.000000</td>\n",
       "      <td>0.000000</td>\n",
       "      <td>0.000000</td>\n",
       "      <td>0.000000</td>\n",
       "      <td>0.000000</td>\n",
       "      <td>0.000000</td>\n",
       "      <td>9.000000</td>\n",
       "      <td>0.000000</td>\n",
       "    </tr>\n",
       "    <tr>\n",
       "      <th>max</th>\n",
       "      <td>4.000000</td>\n",
       "      <td>2.000000</td>\n",
       "      <td>5.000000</td>\n",
       "      <td>5.000000</td>\n",
       "      <td>5.000000</td>\n",
       "      <td>5.000000</td>\n",
       "      <td>5.000000</td>\n",
       "      <td>5.000000</td>\n",
       "      <td>1.000000</td>\n",
       "      <td>3.000000</td>\n",
       "      <td>...</td>\n",
       "      <td>1.000000</td>\n",
       "      <td>1.000000</td>\n",
       "      <td>1.000000</td>\n",
       "      <td>1.000000</td>\n",
       "      <td>1.000000</td>\n",
       "      <td>1.000000</td>\n",
       "      <td>1.000000</td>\n",
       "      <td>1.000000</td>\n",
       "      <td>9.000000</td>\n",
       "      <td>1.000000</td>\n",
       "    </tr>\n",
       "  </tbody>\n",
       "</table>\n",
       "<p>8 rows × 195 columns</p>\n",
       "</div>"
      ],
      "text/plain": [
       "       ALTERSKATEGORIE_GROB      ANREDE_KZ  FINANZ_MINIMALIST  FINANZ_SPARER  \\\n",
       "count         794304.000000  797077.000000      797077.000000  797077.000000   \n",
       "mean               2.795177       1.521377           3.058727       2.715815   \n",
       "std                1.018528       0.499543           1.377570       1.485032   \n",
       "min                1.000000       1.000000           1.000000       1.000000   \n",
       "25%                2.000000       1.000000           2.000000       1.000000   \n",
       "50%                3.000000       2.000000           3.000000       3.000000   \n",
       "75%                4.000000       2.000000           4.000000       4.000000   \n",
       "max                4.000000       2.000000           5.000000       5.000000   \n",
       "\n",
       "       FINANZ_VORSORGER  FINANZ_ANLEGER  FINANZ_UNAUFFAELLIGER  \\\n",
       "count     797077.000000   797077.000000          797077.000000   \n",
       "mean           3.432951        2.840685               2.656884   \n",
       "std            1.376959        1.472527               1.399118   \n",
       "min            1.000000        1.000000               1.000000   \n",
       "25%            2.000000        1.000000               1.000000   \n",
       "50%            4.000000        3.000000               2.000000   \n",
       "75%            5.000000        4.000000               4.000000   \n",
       "max            5.000000        5.000000               5.000000   \n",
       "\n",
       "       FINANZ_HAUSBAUER  GREEN_AVANTGARDE     HEALTH_TYP  \\\n",
       "count     797077.000000     797077.000000  760739.000000   \n",
       "mean           3.115607          0.219722       2.199332   \n",
       "std            1.407806          0.414058       0.755127   \n",
       "min            1.000000          0.000000       1.000000   \n",
       "25%            2.000000          0.000000       2.000000   \n",
       "50%            3.000000          0.000000       2.000000   \n",
       "75%            4.000000          0.000000       3.000000   \n",
       "max            5.000000          1.000000       3.000000   \n",
       "\n",
       "                ...             CAMEO_DEU_2015_8B  CAMEO_DEU_2015_8C  \\\n",
       "count           ...                 797077.000000      797077.000000   \n",
       "mean            ...                      0.041933           0.038865   \n",
       "std             ...                      0.200437           0.193272   \n",
       "min             ...                      0.000000           0.000000   \n",
       "25%             ...                      0.000000           0.000000   \n",
       "50%             ...                      0.000000           0.000000   \n",
       "75%             ...                      0.000000           0.000000   \n",
       "max             ...                      1.000000           1.000000   \n",
       "\n",
       "       CAMEO_DEU_2015_8D  CAMEO_DEU_2015_9A  CAMEO_DEU_2015_9B  \\\n",
       "count      797077.000000      797077.000000      797077.000000   \n",
       "mean            0.022037           0.025765           0.034703   \n",
       "std             0.146803           0.158435           0.183027   \n",
       "min             0.000000           0.000000           0.000000   \n",
       "25%             0.000000           0.000000           0.000000   \n",
       "50%             0.000000           0.000000           0.000000   \n",
       "75%             0.000000           0.000000           0.000000   \n",
       "max             1.000000           1.000000           1.000000   \n",
       "\n",
       "       CAMEO_DEU_2015_9C  CAMEO_DEU_2015_9D  CAMEO_DEU_2015_9E  \\\n",
       "count      797077.000000      797077.000000      797077.000000   \n",
       "mean            0.031347           0.035870           0.007983   \n",
       "std             0.174254           0.185966           0.088990   \n",
       "min             0.000000           0.000000           0.000000   \n",
       "25%             0.000000           0.000000           0.000000   \n",
       "50%             0.000000           0.000000           0.000000   \n",
       "75%             0.000000           0.000000           0.000000   \n",
       "max             1.000000           1.000000           1.000000   \n",
       "\n",
       "       PRAEGENDE_JUGENDJAHRE_1  PRAEGENDE_JUGENDJAHRE_2  \n",
       "count            768753.000000            797077.000000  \n",
       "mean                  7.331905                 0.219722  \n",
       "std                   1.457350                 0.414058  \n",
       "min                   4.000000                 0.000000  \n",
       "25%                   6.000000                 0.000000  \n",
       "50%                   7.000000                 0.000000  \n",
       "75%                   9.000000                 0.000000  \n",
       "max                   9.000000                 1.000000  \n",
       "\n",
       "[8 rows x 195 columns]"
      ]
     },
     "execution_count": 194,
     "metadata": {},
     "output_type": "execute_result"
    }
   ],
   "source": [
    "azdias_final_clean.describe()"
   ]
  },
  {
   "cell_type": "code",
   "execution_count": 196,
   "metadata": {},
   "outputs": [],
   "source": [
    "missing_val = azdias_final_clean.apply(lambda x : sum(x.isna()==True), axis = 0)"
   ]
  },
  {
   "cell_type": "code",
   "execution_count": 197,
   "metadata": {},
   "outputs": [
    {
     "data": {
      "text/plain": [
       "ALTERSKATEGORIE_GROB    2773\n",
       "ANREDE_KZ                  0\n",
       "FINANZ_MINIMALIST          0\n",
       "FINANZ_SPARER              0\n",
       "FINANZ_VORSORGER           0\n",
       "dtype: int64"
      ]
     },
     "execution_count": 197,
     "metadata": {},
     "output_type": "execute_result"
    }
   ],
   "source": [
    "missing_val.head()"
   ]
  },
  {
   "cell_type": "markdown",
   "metadata": {},
   "source": [
    "## Step 2: Feature Transformation\n",
    "\n",
    "### Step 2.1: Apply Feature Scaling\n",
    "\n",
    "Before we apply dimensionality reduction techniques to the data, we need to perform feature scaling so that the principal component vectors are not influenced by the natural differences in scale for features. Starting from this part of the project, you'll want to keep an eye on the [API reference page for sklearn](http://scikit-learn.org/stable/modules/classes.html) to help you navigate to all of the classes and functions that you'll need. In this substep, you'll need to check the following:\n",
    "\n",
    "- sklearn requires that data not have missing values in order for its estimators to work properly. So, before applying the scaler to your data, make sure that you've cleaned the DataFrame of the remaining missing values. This can be as simple as just removing all data points with missing data, or applying an [Imputer](http://scikit-learn.org/stable/modules/generated/sklearn.preprocessing.Imputer.html) to replace all missing values. You might also try a more complicated procedure where you temporarily remove missing values in order to compute the scaling parameters before re-introducing those missing values and applying imputation. Think about how much missing data you have and what possible effects each approach might have on your analysis, and justify your decision in the discussion section below.\n",
    "- For the actual scaling function, a [StandardScaler](http://scikit-learn.org/stable/modules/generated/sklearn.preprocessing.StandardScaler.html) instance is suggested, scaling each feature to mean 0 and standard deviation 1.\n",
    "- For these classes, you can make use of the `.fit_transform()` method to both fit a procedure to the data as well as apply the transformation to the data at the same time. Don't forget to keep the fit sklearn objects handy, since you'll be applying them to the customer demographics data towards the end of the project."
   ]
  },
  {
   "cell_type": "code",
   "execution_count": 238,
   "metadata": {},
   "outputs": [
    {
     "data": {
      "text/plain": [
       "197"
      ]
     },
     "execution_count": 238,
     "metadata": {},
     "output_type": "execute_result"
    }
   ],
   "source": [
    "azdias_final_clean.shape[1]"
   ]
  },
  {
   "cell_type": "code",
   "execution_count": 214,
   "metadata": {},
   "outputs": [
    {
     "name": "stdout",
     "output_type": "stream",
     "text": [
      "(623209, 197)\n"
     ]
    }
   ],
   "source": [
    "# If you've not yet cleaned the dataset of all NaN values, then investigate and\n",
    "# do that now.\n",
    "\n",
    "# Methode 0: remove rows where at least one value is missing\n",
    "azdias_final_clean0 = azdias_final_clean.copy().dropna()\n",
    "print(azdias_final_clean0.shape)"
   ]
  },
  {
   "cell_type": "code",
   "execution_count": 216,
   "metadata": {},
   "outputs": [
    {
     "name": "stdout",
     "output_type": "stream",
     "text": [
      "(797077, 197)\n"
     ]
    }
   ],
   "source": [
    "# Method 1 : applying imputer to replace missing values with the mean for each column\n",
    "azdias_final_clean1 = azdias_final_clean.copy().fillna(value = azdias_final_clean.mean(),axis=0)\n",
    "print(azdias_final_clean1.shape)"
   ]
  },
  {
   "cell_type": "code",
   "execution_count": 376,
   "metadata": {},
   "outputs": [
    {
     "name": "stderr",
     "output_type": "stream",
     "text": [
      "/anaconda3/lib/python3.6/site-packages/sklearn/preprocessing/data.py:625: DataConversionWarning: Data with input dtype uint8, int64, float64 were all converted to float64 by StandardScaler.\n",
      "  return self.partial_fit(X, y)\n",
      "/anaconda3/lib/python3.6/site-packages/ipykernel_launcher.py:9: DataConversionWarning: Data with input dtype uint8, int64, float64 were all converted to float64 by StandardScaler.\n",
      "  if __name__ == '__main__':\n"
     ]
    }
   ],
   "source": [
    "# Apply feature scaling to the general population demographics data.\n",
    "final_data = azdias_final_clean1.copy()\n",
    "from sklearn.preprocessing import StandardScaler\n",
    "scaler = StandardScaler()\n",
    "\n",
    "features = list(final_data.columns.values)\n",
    "#final_data[features] = scaler.fit_transform(final_data[features])\n",
    "scaler = scaler.fit(final_data[features])\n",
    "final_data[features]= scaler.transform(final_data[features])"
   ]
  },
  {
   "cell_type": "code",
   "execution_count": 377,
   "metadata": {},
   "outputs": [
    {
     "data": {
      "text/html": [
       "<div>\n",
       "<style scoped>\n",
       "    .dataframe tbody tr th:only-of-type {\n",
       "        vertical-align: middle;\n",
       "    }\n",
       "\n",
       "    .dataframe tbody tr th {\n",
       "        vertical-align: top;\n",
       "    }\n",
       "\n",
       "    .dataframe thead th {\n",
       "        text-align: right;\n",
       "    }\n",
       "</style>\n",
       "<table border=\"1\" class=\"dataframe\">\n",
       "  <thead>\n",
       "    <tr style=\"text-align: right;\">\n",
       "      <th></th>\n",
       "      <th>ALTERSKATEGORIE_GROB</th>\n",
       "      <th>ANREDE_KZ</th>\n",
       "      <th>FINANZ_MINIMALIST</th>\n",
       "      <th>FINANZ_SPARER</th>\n",
       "      <th>FINANZ_VORSORGER</th>\n",
       "      <th>FINANZ_ANLEGER</th>\n",
       "      <th>FINANZ_UNAUFFAELLIGER</th>\n",
       "      <th>FINANZ_HAUSBAUER</th>\n",
       "      <th>GREEN_AVANTGARDE</th>\n",
       "      <th>HEALTH_TYP</th>\n",
       "      <th>...</th>\n",
       "      <th>CAMEO_DEU_2015_8D</th>\n",
       "      <th>CAMEO_DEU_2015_9A</th>\n",
       "      <th>CAMEO_DEU_2015_9B</th>\n",
       "      <th>CAMEO_DEU_2015_9C</th>\n",
       "      <th>CAMEO_DEU_2015_9D</th>\n",
       "      <th>CAMEO_DEU_2015_9E</th>\n",
       "      <th>PRAEGENDE_JUGENDJAHRE_1</th>\n",
       "      <th>PRAEGENDE_JUGENDJAHRE_2</th>\n",
       "      <th>CAMEO_INTL_2015_1</th>\n",
       "      <th>CAMEO_INTL_2015_2</th>\n",
       "    </tr>\n",
       "  </thead>\n",
       "  <tbody>\n",
       "    <tr>\n",
       "      <th>count</th>\n",
       "      <td>7.970770e+05</td>\n",
       "      <td>7.970770e+05</td>\n",
       "      <td>7.970770e+05</td>\n",
       "      <td>7.970770e+05</td>\n",
       "      <td>7.970770e+05</td>\n",
       "      <td>7.970770e+05</td>\n",
       "      <td>7.970770e+05</td>\n",
       "      <td>7.970770e+05</td>\n",
       "      <td>7.970770e+05</td>\n",
       "      <td>7.970770e+05</td>\n",
       "      <td>...</td>\n",
       "      <td>7.970770e+05</td>\n",
       "      <td>7.970770e+05</td>\n",
       "      <td>7.970770e+05</td>\n",
       "      <td>7.970770e+05</td>\n",
       "      <td>7.970770e+05</td>\n",
       "      <td>7.970770e+05</td>\n",
       "      <td>7.970770e+05</td>\n",
       "      <td>7.970770e+05</td>\n",
       "      <td>7.970770e+05</td>\n",
       "      <td>7.970770e+05</td>\n",
       "    </tr>\n",
       "    <tr>\n",
       "      <th>mean</th>\n",
       "      <td>7.290427e-16</td>\n",
       "      <td>1.937178e-16</td>\n",
       "      <td>-1.709506e-16</td>\n",
       "      <td>-7.889204e-18</td>\n",
       "      <td>1.460974e-16</td>\n",
       "      <td>7.380195e-17</td>\n",
       "      <td>-1.123387e-16</td>\n",
       "      <td>-6.234700e-17</td>\n",
       "      <td>-4.245462e-17</td>\n",
       "      <td>2.682508e-16</td>\n",
       "      <td>...</td>\n",
       "      <td>2.526328e-17</td>\n",
       "      <td>-5.134668e-18</td>\n",
       "      <td>-1.241770e-17</td>\n",
       "      <td>-6.013178e-17</td>\n",
       "      <td>8.506969e-17</td>\n",
       "      <td>-1.982553e-17</td>\n",
       "      <td>1.710718e-15</td>\n",
       "      <td>-4.245462e-17</td>\n",
       "      <td>3.705876e-16</td>\n",
       "      <td>-1.079011e-15</td>\n",
       "    </tr>\n",
       "    <tr>\n",
       "      <th>std</th>\n",
       "      <td>1.000001e+00</td>\n",
       "      <td>1.000001e+00</td>\n",
       "      <td>1.000001e+00</td>\n",
       "      <td>1.000001e+00</td>\n",
       "      <td>1.000001e+00</td>\n",
       "      <td>1.000001e+00</td>\n",
       "      <td>1.000001e+00</td>\n",
       "      <td>1.000001e+00</td>\n",
       "      <td>1.000001e+00</td>\n",
       "      <td>1.000001e+00</td>\n",
       "      <td>...</td>\n",
       "      <td>1.000001e+00</td>\n",
       "      <td>1.000001e+00</td>\n",
       "      <td>1.000001e+00</td>\n",
       "      <td>1.000001e+00</td>\n",
       "      <td>1.000001e+00</td>\n",
       "      <td>1.000001e+00</td>\n",
       "      <td>1.000001e+00</td>\n",
       "      <td>1.000001e+00</td>\n",
       "      <td>1.000001e+00</td>\n",
       "      <td>1.000001e+00</td>\n",
       "    </tr>\n",
       "    <tr>\n",
       "      <th>min</th>\n",
       "      <td>-1.765596e+00</td>\n",
       "      <td>-1.043709e+00</td>\n",
       "      <td>-1.494463e+00</td>\n",
       "      <td>-1.155407e+00</td>\n",
       "      <td>-1.766903e+00</td>\n",
       "      <td>-1.250019e+00</td>\n",
       "      <td>-1.184235e+00</td>\n",
       "      <td>-1.502770e+00</td>\n",
       "      <td>-5.306541e-01</td>\n",
       "      <td>-1.625745e+00</td>\n",
       "      <td>...</td>\n",
       "      <td>-1.501111e-01</td>\n",
       "      <td>-1.626247e-01</td>\n",
       "      <td>-1.896065e-01</td>\n",
       "      <td>-1.798929e-01</td>\n",
       "      <td>-1.928842e-01</td>\n",
       "      <td>-8.970595e-02</td>\n",
       "      <td>-2.328015e+00</td>\n",
       "      <td>-5.306541e-01</td>\n",
       "      <td>-1.550656e+00</td>\n",
       "      <td>-1.265981e+00</td>\n",
       "    </tr>\n",
       "    <tr>\n",
       "      <th>25%</th>\n",
       "      <td>-7.820739e-01</td>\n",
       "      <td>-1.043709e+00</td>\n",
       "      <td>-7.685472e-01</td>\n",
       "      <td>-1.155407e+00</td>\n",
       "      <td>-1.040664e+00</td>\n",
       "      <td>-1.250019e+00</td>\n",
       "      <td>-1.184235e+00</td>\n",
       "      <td>-7.924445e-01</td>\n",
       "      <td>-5.306541e-01</td>\n",
       "      <td>-2.702034e-01</td>\n",
       "      <td>...</td>\n",
       "      <td>-1.501111e-01</td>\n",
       "      <td>-1.626247e-01</td>\n",
       "      <td>-1.896065e-01</td>\n",
       "      <td>-1.798929e-01</td>\n",
       "      <td>-1.928842e-01</td>\n",
       "      <td>-8.970595e-02</td>\n",
       "      <td>-9.306072e-01</td>\n",
       "      <td>-5.306541e-01</td>\n",
       "      <td>-8.653183e-01</td>\n",
       "      <td>-1.265981e+00</td>\n",
       "    </tr>\n",
       "    <tr>\n",
       "      <th>50%</th>\n",
       "      <td>2.014483e-01</td>\n",
       "      <td>9.581212e-01</td>\n",
       "      <td>-4.263094e-02</td>\n",
       "      <td>1.913661e-01</td>\n",
       "      <td>4.118132e-01</td>\n",
       "      <td>1.081913e-01</td>\n",
       "      <td>-4.694988e-01</td>\n",
       "      <td>-8.211890e-02</td>\n",
       "      <td>-5.306541e-01</td>\n",
       "      <td>-2.702034e-01</td>\n",
       "      <td>...</td>\n",
       "      <td>-1.501111e-01</td>\n",
       "      <td>-1.626247e-01</td>\n",
       "      <td>-1.896065e-01</td>\n",
       "      <td>-1.798929e-01</td>\n",
       "      <td>-1.928842e-01</td>\n",
       "      <td>-8.970595e-02</td>\n",
       "      <td>1.861721e-15</td>\n",
       "      <td>-5.306541e-01</td>\n",
       "      <td>5.053576e-01</td>\n",
       "      <td>8.590573e-02</td>\n",
       "    </tr>\n",
       "    <tr>\n",
       "      <th>75%</th>\n",
       "      <td>1.184971e+00</td>\n",
       "      <td>9.581212e-01</td>\n",
       "      <td>6.832853e-01</td>\n",
       "      <td>8.647525e-01</td>\n",
       "      <td>1.138052e+00</td>\n",
       "      <td>7.872963e-01</td>\n",
       "      <td>9.599741e-01</td>\n",
       "      <td>6.282067e-01</td>\n",
       "      <td>-5.306541e-01</td>\n",
       "      <td>1.085338e+00</td>\n",
       "      <td>...</td>\n",
       "      <td>-1.501111e-01</td>\n",
       "      <td>-1.626247e-01</td>\n",
       "      <td>-1.896065e-01</td>\n",
       "      <td>-1.798929e-01</td>\n",
       "      <td>-1.928842e-01</td>\n",
       "      <td>-8.970595e-02</td>\n",
       "      <td>1.165504e+00</td>\n",
       "      <td>-5.306541e-01</td>\n",
       "      <td>1.190696e+00</td>\n",
       "      <td>7.618490e-01</td>\n",
       "    </tr>\n",
       "    <tr>\n",
       "      <th>max</th>\n",
       "      <td>1.184971e+00</td>\n",
       "      <td>9.581212e-01</td>\n",
       "      <td>1.409202e+00</td>\n",
       "      <td>1.538139e+00</td>\n",
       "      <td>1.138052e+00</td>\n",
       "      <td>1.466401e+00</td>\n",
       "      <td>1.674710e+00</td>\n",
       "      <td>1.338532e+00</td>\n",
       "      <td>1.884467e+00</td>\n",
       "      <td>1.085338e+00</td>\n",
       "      <td>...</td>\n",
       "      <td>6.661735e+00</td>\n",
       "      <td>6.149126e+00</td>\n",
       "      <td>5.274079e+00</td>\n",
       "      <td>5.558862e+00</td>\n",
       "      <td>5.184457e+00</td>\n",
       "      <td>1.114753e+01</td>\n",
       "      <td>1.165504e+00</td>\n",
       "      <td>1.884467e+00</td>\n",
       "      <td>1.190696e+00</td>\n",
       "      <td>1.437792e+00</td>\n",
       "    </tr>\n",
       "  </tbody>\n",
       "</table>\n",
       "<p>8 rows × 197 columns</p>\n",
       "</div>"
      ],
      "text/plain": [
       "       ALTERSKATEGORIE_GROB     ANREDE_KZ  FINANZ_MINIMALIST  FINANZ_SPARER  \\\n",
       "count          7.970770e+05  7.970770e+05       7.970770e+05   7.970770e+05   \n",
       "mean           7.290427e-16  1.937178e-16      -1.709506e-16  -7.889204e-18   \n",
       "std            1.000001e+00  1.000001e+00       1.000001e+00   1.000001e+00   \n",
       "min           -1.765596e+00 -1.043709e+00      -1.494463e+00  -1.155407e+00   \n",
       "25%           -7.820739e-01 -1.043709e+00      -7.685472e-01  -1.155407e+00   \n",
       "50%            2.014483e-01  9.581212e-01      -4.263094e-02   1.913661e-01   \n",
       "75%            1.184971e+00  9.581212e-01       6.832853e-01   8.647525e-01   \n",
       "max            1.184971e+00  9.581212e-01       1.409202e+00   1.538139e+00   \n",
       "\n",
       "       FINANZ_VORSORGER  FINANZ_ANLEGER  FINANZ_UNAUFFAELLIGER  \\\n",
       "count      7.970770e+05    7.970770e+05           7.970770e+05   \n",
       "mean       1.460974e-16    7.380195e-17          -1.123387e-16   \n",
       "std        1.000001e+00    1.000001e+00           1.000001e+00   \n",
       "min       -1.766903e+00   -1.250019e+00          -1.184235e+00   \n",
       "25%       -1.040664e+00   -1.250019e+00          -1.184235e+00   \n",
       "50%        4.118132e-01    1.081913e-01          -4.694988e-01   \n",
       "75%        1.138052e+00    7.872963e-01           9.599741e-01   \n",
       "max        1.138052e+00    1.466401e+00           1.674710e+00   \n",
       "\n",
       "       FINANZ_HAUSBAUER  GREEN_AVANTGARDE    HEALTH_TYP        ...          \\\n",
       "count      7.970770e+05      7.970770e+05  7.970770e+05        ...           \n",
       "mean      -6.234700e-17     -4.245462e-17  2.682508e-16        ...           \n",
       "std        1.000001e+00      1.000001e+00  1.000001e+00        ...           \n",
       "min       -1.502770e+00     -5.306541e-01 -1.625745e+00        ...           \n",
       "25%       -7.924445e-01     -5.306541e-01 -2.702034e-01        ...           \n",
       "50%       -8.211890e-02     -5.306541e-01 -2.702034e-01        ...           \n",
       "75%        6.282067e-01     -5.306541e-01  1.085338e+00        ...           \n",
       "max        1.338532e+00      1.884467e+00  1.085338e+00        ...           \n",
       "\n",
       "       CAMEO_DEU_2015_8D  CAMEO_DEU_2015_9A  CAMEO_DEU_2015_9B  \\\n",
       "count       7.970770e+05       7.970770e+05       7.970770e+05   \n",
       "mean        2.526328e-17      -5.134668e-18      -1.241770e-17   \n",
       "std         1.000001e+00       1.000001e+00       1.000001e+00   \n",
       "min        -1.501111e-01      -1.626247e-01      -1.896065e-01   \n",
       "25%        -1.501111e-01      -1.626247e-01      -1.896065e-01   \n",
       "50%        -1.501111e-01      -1.626247e-01      -1.896065e-01   \n",
       "75%        -1.501111e-01      -1.626247e-01      -1.896065e-01   \n",
       "max         6.661735e+00       6.149126e+00       5.274079e+00   \n",
       "\n",
       "       CAMEO_DEU_2015_9C  CAMEO_DEU_2015_9D  CAMEO_DEU_2015_9E  \\\n",
       "count       7.970770e+05       7.970770e+05       7.970770e+05   \n",
       "mean       -6.013178e-17       8.506969e-17      -1.982553e-17   \n",
       "std         1.000001e+00       1.000001e+00       1.000001e+00   \n",
       "min        -1.798929e-01      -1.928842e-01      -8.970595e-02   \n",
       "25%        -1.798929e-01      -1.928842e-01      -8.970595e-02   \n",
       "50%        -1.798929e-01      -1.928842e-01      -8.970595e-02   \n",
       "75%        -1.798929e-01      -1.928842e-01      -8.970595e-02   \n",
       "max         5.558862e+00       5.184457e+00       1.114753e+01   \n",
       "\n",
       "       PRAEGENDE_JUGENDJAHRE_1  PRAEGENDE_JUGENDJAHRE_2  CAMEO_INTL_2015_1  \\\n",
       "count             7.970770e+05             7.970770e+05       7.970770e+05   \n",
       "mean              1.710718e-15            -4.245462e-17       3.705876e-16   \n",
       "std               1.000001e+00             1.000001e+00       1.000001e+00   \n",
       "min              -2.328015e+00            -5.306541e-01      -1.550656e+00   \n",
       "25%              -9.306072e-01            -5.306541e-01      -8.653183e-01   \n",
       "50%               1.861721e-15            -5.306541e-01       5.053576e-01   \n",
       "75%               1.165504e+00            -5.306541e-01       1.190696e+00   \n",
       "max               1.165504e+00             1.884467e+00       1.190696e+00   \n",
       "\n",
       "       CAMEO_INTL_2015_2  \n",
       "count       7.970770e+05  \n",
       "mean       -1.079011e-15  \n",
       "std         1.000001e+00  \n",
       "min        -1.265981e+00  \n",
       "25%        -1.265981e+00  \n",
       "50%         8.590573e-02  \n",
       "75%         7.618490e-01  \n",
       "max         1.437792e+00  \n",
       "\n",
       "[8 rows x 197 columns]"
      ]
     },
     "execution_count": 377,
     "metadata": {},
     "output_type": "execute_result"
    }
   ],
   "source": [
    "final_data.describe()"
   ]
  },
  {
   "cell_type": "markdown",
   "metadata": {},
   "source": [
    "### Discussion 2.1: Apply Feature Scaling\n",
    "\n",
    "(Double-click this cell and replace this text with your own text, reporting your decisions regarding feature scaling.)\n",
    "\n",
    "[handling missing values](https://machinelearningmastery.com/handle-missing-data-python/)"
   ]
  },
  {
   "cell_type": "markdown",
   "metadata": {},
   "source": [
    "### Step 2.2: Perform Dimensionality Reduction\n",
    "\n",
    "On your scaled data, you are now ready to apply dimensionality reduction techniques.\n",
    "\n",
    "- Use sklearn's [PCA](http://scikit-learn.org/stable/modules/generated/sklearn.decomposition.PCA.html) class to apply principal component analysis on the data, thus finding the vectors of maximal variance in the data. To start, you should not set any parameters (so all components are computed) or set a number of components that is at least half the number of features (so there's enough features to see the general trend in variability).\n",
    "- Check out the ratio of variance explained by each principal component as well as the cumulative variance explained. Try plotting the cumulative or sequential values using matplotlib's [`plot()`](https://matplotlib.org/api/_as_gen/matplotlib.pyplot.plot.html) function. Based on what you find, select a value for the number of transformed features you'll retain for the clustering part of the project.\n",
    "- Once you've made a choice for the number of components to keep, make sure you re-fit a PCA instance to perform the decided-on transformation."
   ]
  },
  {
   "cell_type": "code",
   "execution_count": 237,
   "metadata": {},
   "outputs": [],
   "source": [
    "from sklearn.decomposition import PCA\n",
    "def do_pca(data,n_components):\n",
    "    '''\n",
    "    Transforms data using PCA to create n_components, and provides back the results of the\n",
    "    transformation.\n",
    "\n",
    "    INPUT: the data you would like to transform\n",
    "\n",
    "    OUTPUT: pca - the pca object created after fitting the data\n",
    "            X_pca - the transformed X matrix with new number of components\n",
    "    '''\n",
    "    pca = PCA(n_components)\n",
    "    X_pca = pca.fit_transform(data)\n",
    "    return pca, X_pca"
   ]
  },
  {
   "cell_type": "code",
   "execution_count": 264,
   "metadata": {},
   "outputs": [],
   "source": [
    "# Apply PCA to the data.\n",
    "#pca,data_pca = do_pca(final_data,round(final_data.shape[1]/2))\n",
    "pca,data_pca = do_pca(final_data,final_data.shape[1])"
   ]
  },
  {
   "cell_type": "code",
   "execution_count": 268,
   "metadata": {},
   "outputs": [],
   "source": [
    "# Investigate the variance accounted for by each principal component.\n",
    "\n",
    "def scree_plot_n(pca,num_components):\n",
    "    '''\n",
    "    Creates a scree plot associated with the principal components \n",
    "    \n",
    "    INPUT: pca - the result of instantian of PCA in scikit learn\n",
    "            \n",
    "    OUTPUT: Plot of the explained Variance per component and the cumulative\n",
    "            \n",
    "    '''\n",
    "    ind = np.arange(num_components)\n",
    "    vals = pca.explained_variance_ratio_[:num_components]\n",
    " \n",
    "    plt.figure(figsize=(10, 6))\n",
    "    ax = plt.subplot(111)\n",
    "    cumvals = np.cumsum(vals)\n",
    "    ax.bar(ind, vals)\n",
    "    ax.plot(ind, cumvals)\n",
    "    #for i in range(num_components):\n",
    "    #    ax.annotate(r\"%s%%\" % ((str(vals[i]*100)[:4])), (ind[i]+0.2, vals[i]), va=\"bottom\", ha=\"center\", fontsize=12)\n",
    " \n",
    "    ax.xaxis.set_tick_params(width=0)\n",
    "    ax.yaxis.set_tick_params(width=2, length=12)\n",
    " \n",
    "    ax.set_xlabel(\"Principal Component\")\n",
    "    ax.set_ylabel(\"Variance Explained (%)\")\n",
    "    plt.title('Explained Variance Per Principal Component')\n",
    "    return(cumvals)\n"
   ]
  },
  {
   "cell_type": "code",
   "execution_count": 270,
   "metadata": {},
   "outputs": [
    {
     "data": {
      "image/png": "[encoded data removed]",
      "text/plain": [
       "<Figure size 720x432 with 1 Axes>"
      ]
     },
     "metadata": {
      "needs_background": "light"
     },
     "output_type": "display_data"
    }
   ],
   "source": [
    "num_components=len(pca.explained_variance_ratio_)\n",
    "#num_components = 90\n",
    "cumvals = scree_plot_n(pca,num_components)"
   ]
  },
  {
   "cell_type": "code",
   "execution_count": 279,
   "metadata": {},
   "outputs": [],
   "source": [
    "# Select number of components to retain\n",
    "cumvals[cumvals<0.80].shape\n",
    "\n",
    "num_components_to_retain = 85"
   ]
  },
  {
   "cell_type": "code",
   "execution_count": 280,
   "metadata": {},
   "outputs": [],
   "source": [
    "# Re-apply PCA to the data while selecting for number of components to retain.\n",
    "pca,data_pca = do_pca(final_data,num_components_to_retain)"
   ]
  },
  {
   "cell_type": "code",
   "execution_count": 485,
   "metadata": {},
   "outputs": [],
   "source": [
    "# Save PCA Model to disk:\n",
    "# save the model to disk\n",
    "import pickle\n",
    "filename = 'finalized_PCA.sav'\n",
    "pickle.dump(pca, open(filename, 'wb'))"
   ]
  },
  {
   "cell_type": "code",
   "execution_count": null,
   "metadata": {},
   "outputs": [],
   "source": [
    "# load the model from disk\n",
    "filename = 'finalized_PCA.sav'\n",
    "pca = pickle.load(open(filename, 'rb'))"
   ]
  },
  {
   "cell_type": "markdown",
   "metadata": {},
   "source": [
    "### Discussion 2.2: Perform Dimensionality Reduction\n",
    "\n",
    "(Double-click this cell and replace this text with your own text, reporting your findings and decisions regarding dimensionality reduction. How many principal components / transformed features are you retaining for the next step of the analysis?)"
   ]
  },
  {
   "cell_type": "markdown",
   "metadata": {},
   "source": [
    "### Step 2.3: Interpret Principal Components\n",
    "\n",
    "Now that we have our transformed principal components, it's a nice idea to check out the weight of each variable on the first few components to see if they can be interpreted in some fashion.\n",
    "\n",
    "As a reminder, each principal component is a unit vector that points in the direction of highest variance (after accounting for the variance captured by earlier principal components). The further a weight is from zero, the more the principal component is in the direction of the corresponding feature. If two features have large weights of the same sign (both positive or both negative), then increases in one tend expect to be associated with increases in the other. To contrast, features with different signs can be expected to show a negative correlation: increases in one variable should result in a decrease in the other.\n",
    "\n",
    "- To investigate the features, you should map each weight to their corresponding feature name, then sort the features according to weight. The most interesting features for each principal component, then, will be those at the beginning and end of the sorted list. Use the data dictionary document to help you understand these most prominent features, their relationships, and what a positive or negative value on the principal component might indicate.\n",
    "- You should investigate and interpret feature associations from the first three principal components in this substep. To help facilitate this, you should write a function that you can call at any time to print the sorted list of feature weights, for the *i*-th principal component. This might come in handy in the next step of the project, when you interpret the tendencies of the discovered clusters."
   ]
  },
  {
   "cell_type": "code",
   "execution_count": 342,
   "metadata": {},
   "outputs": [],
   "source": [
    "def pca_feature_weights(final_data,pca,number,number_top_features):\n",
    "    '''\n",
    "    Print the sorted list of features weights for the i-th principal component\n",
    "    Input : \n",
    "        data: dataset \n",
    "        pca : the result of instantian of PCA in scikit learn\n",
    "        number: the i-th principal component\n",
    "        \n",
    "    Output : sorted list of feature weights, for the i-th principal component\n",
    "    '''\n",
    "    # Dimension indexing: the components are sorted by explained variance ratio\n",
    "    dimensions = dimensions = ['Dimension {}'.format(i) for i in range(1,len(pca.components_)+1)]\n",
    "    # PCA components decomposition in the feature space\n",
    "    components = pd.DataFrame(np.round(pca.components_, 4), columns = final_data.keys())\n",
    "    components.index = dimensions\n",
    "    \n",
    "    # Select the component\n",
    "    components_select=components.iloc[number-1].sort_values(ascending = False)\n",
    "    \n",
    "    #Extract features with the highest weights\n",
    "    components_extract = pd.DataFrame()\n",
    "    components_extract[\"weight\"]=components_select\n",
    "    components_extract[\"abs_weight\"]=components_select.apply(lambda x: abs(x))\n",
    "    components_extract=components_extract.sort_values(\"abs_weight\",ascending = False)\n",
    "    \n",
    "    fig, ax = plt.subplots(figsize = (20,8))\n",
    "    components_extract[\"weight\"][0:number_top_features].plot(ax = ax, kind = 'bar')\n",
    "    ax.set_ylabel(\"Feature Weights\")\n",
    "    plt.show()\n",
    "    return(components_select)"
   ]
  },
  {
   "cell_type": "code",
   "execution_count": 346,
   "metadata": {},
   "outputs": [
    {
     "data": {
      "image/png": "[encoded data removed]",
      "text/plain": [
       "<Figure size 1440x576 with 1 Axes>"
      ]
     },
     "metadata": {
      "needs_background": "light"
     },
     "output_type": "display_data"
    },
    {
     "data": {
      "text/plain": [
       "LP_STATUS_GROB_1.0    0.1888\n",
       "HH_EINKOMMEN_SCORE    0.1801\n",
       "CAMEO_INTL_2015_1     0.1798\n",
       "PLZ8_ANTG3            0.1791\n",
       "PLZ8_ANTG4            0.1740\n",
       "Name: Dimension 1, dtype: float64"
      ]
     },
     "execution_count": 346,
     "metadata": {},
     "output_type": "execute_result"
    }
   ],
   "source": [
    "# Map weights for the first principal component to corresponding feature names\n",
    "# and then print the linked values, sorted by weight.\n",
    "# HINT: Try defining a function here or in a new cell that you can reuse in the\n",
    "# other cells.\n",
    "\n",
    "component_sorted = pca_feature_weights(final_data,pca,1,10)\n",
    "component_sorted.head()"
   ]
  },
  {
   "cell_type": "code",
   "execution_count": 344,
   "metadata": {},
   "outputs": [
    {
     "data": {
      "image/png": "[encoded data removed]",
      "text/plain": [
       "<Figure size 1440x576 with 1 Axes>"
      ]
     },
     "metadata": {
      "needs_background": "light"
     },
     "output_type": "display_data"
    },
    {
     "data": {
      "text/plain": [
       "ALTERSKATEGORIE_GROB    0.2373\n",
       "FINANZ_VORSORGER        0.2236\n",
       "ZABEOTYP_3.0            0.1991\n",
       "SEMIO_ERL               0.1808\n",
       "SEMIO_LUST              0.1660\n",
       "Name: Dimension 2, dtype: float64"
      ]
     },
     "execution_count": 344,
     "metadata": {},
     "output_type": "execute_result"
    }
   ],
   "source": [
    "# Map weights for the second principal component to corresponding feature names\n",
    "# and then print the linked values, sorted by weight.\n",
    "\n",
    "component_sorted = pca_feature_weights(final_data,pca,2,10)\n",
    "component_sorted.head()"
   ]
  },
  {
   "cell_type": "code",
   "execution_count": 345,
   "metadata": {},
   "outputs": [
    {
     "data": {
      "image/png": "[encoded data removed]",
      "text/plain": [
       "<Figure size 1440x576 with 1 Axes>"
      ]
     },
     "metadata": {
      "needs_background": "light"
     },
     "output_type": "display_data"
    },
    {
     "data": {
      "text/plain": [
       "SEMIO_VERT       0.3144\n",
       "SEMIO_FAM        0.2554\n",
       "SEMIO_SOZ        0.2542\n",
       "SEMIO_KULT       0.2469\n",
       "FINANZTYP_5.0    0.1370\n",
       "Name: Dimension 3, dtype: float64"
      ]
     },
     "execution_count": 345,
     "metadata": {},
     "output_type": "execute_result"
    }
   ],
   "source": [
    "# Map weights for the third principal component to corresponding feature names\n",
    "# and then print the linked values, sorted by weight.\n",
    "\n",
    "component_sorted = pca_feature_weights(final_data,pca,3,10)\n",
    "component_sorted.head()"
   ]
  },
  {
   "cell_type": "markdown",
   "metadata": {},
   "source": [
    "### Discussion 2.3: Interpret Principal Components\n",
    "\n",
    "(Double-click this cell and replace this text with your own text, reporting your observations from detailed investigation of the first few principal components generated. Can we interpret positive and negative values from them in a meaningful way?)"
   ]
  },
  {
   "cell_type": "markdown",
   "metadata": {},
   "source": [
    "## Step 3: Clustering\n",
    "\n",
    "### Step 3.1: Apply Clustering to General Population\n",
    "\n",
    "You've assessed and cleaned the demographics data, then scaled and transformed them. Now, it's time to see how the data clusters in the principal components space. In this substep, you will apply k-means clustering to the dataset and use the average within-cluster distances from each point to their assigned cluster's centroid to decide on a number of clusters to keep.\n",
    "\n",
    "- Use sklearn's [KMeans](http://scikit-learn.org/stable/modules/generated/sklearn.cluster.KMeans.html#sklearn.cluster.KMeans) class to perform k-means clustering on the PCA-transformed data.\n",
    "- Then, compute the average difference from each point to its assigned cluster's center. **Hint**: The KMeans object's `.score()` method might be useful here, but note that in sklearn, scores tend to be defined so that larger is better. Try applying it to a small, toy dataset, or use an internet search to help your understanding.\n",
    "- Perform the above two steps for a number of different cluster counts. You can then see how the average distance decreases with an increasing number of clusters. However, each additional cluster provides a smaller net benefit. Use this fact to select a final number of clusters in which to group the data. **Warning**: because of the large size of the dataset, it can take a long time for the algorithm to resolve. The more clusters to fit, the longer the algorithm will take. You should test for cluster counts through at least 10 clusters to get the full picture, but you shouldn't need to test for a number of clusters above about 30.\n",
    "- Once you've selected a final number of clusters to use, re-fit a KMeans instance to perform the clustering operation. Make sure that you also obtain the cluster assignments for the general demographics data, since you'll be using them in the final Step 3.3."
   ]
  },
  {
   "cell_type": "code",
   "execution_count": 355,
   "metadata": {},
   "outputs": [],
   "source": [
    "from sklearn.cluster import KMeans\n",
    "def get_kmeans_score(data, center):\n",
    "    '''\n",
    "    returns the kmeans score regarding SSE for points to centers\n",
    "    INPUT:\n",
    "        data - the dataset you want to fit kmeans to\n",
    "        center - the number of centers you want (the k value)\n",
    "    OUTPUT:\n",
    "        score - the SSE score for the kmeans model fit to the data\n",
    "    '''\n",
    "    #instantiate kmeans\n",
    "    kmeans = KMeans(n_clusters=center)\n",
    "\n",
    "    # Then fit the model to your data using the fit method\n",
    "    model = kmeans.fit(data)\n",
    "    \n",
    "    # Finally predict the labels on the same data to show the category that point belongs to\n",
    "    labels = model.predict(data)   \n",
    "    \n",
    "    # compute the average within-cluster distances.\n",
    "    score = np.abs(model.score(data))\n",
    "    print(score)\n",
    "    return score"
   ]
  },
  {
   "cell_type": "code",
   "execution_count": 361,
   "metadata": {},
   "outputs": [
    {
     "name": "stdout",
     "output_type": "stream",
     "text": [
      "115187696.3730114\n",
      "102504724.11282009\n",
      "97587660.1020745\n",
      "94289332.39680426\n",
      "91130341.85086155\n",
      "89509996.58710074\n"
     ]
    },
    {
     "ename": "NameError",
     "evalue": "name 'durantion' is not defined",
     "output_type": "error",
     "traceback": [
      "\u001b[0;31m---------------------------------------------------------------------------\u001b[0m",
      "\u001b[0;31mNameError\u001b[0m                                 Traceback (most recent call last)",
      "\u001b[0;32m<ipython-input-361-0e8282827da4>\u001b[0m in \u001b[0;36m<module>\u001b[0;34m\u001b[0m\n\u001b[1;32m      9\u001b[0m     \u001b[0mscores\u001b[0m\u001b[0;34m.\u001b[0m\u001b[0mappend\u001b[0m\u001b[0;34m(\u001b[0m\u001b[0mget_kmeans_score\u001b[0m\u001b[0;34m(\u001b[0m\u001b[0mdata_pca\u001b[0m\u001b[0;34m,\u001b[0m \u001b[0mcenter\u001b[0m\u001b[0;34m)\u001b[0m\u001b[0;34m)\u001b[0m\u001b[0;34m\u001b[0m\u001b[0m\n\u001b[1;32m     10\u001b[0m \u001b[0mduration\u001b[0m \u001b[0;34m=\u001b[0m \u001b[0mtime\u001b[0m\u001b[0;34m(\u001b[0m\u001b[0;34m)\u001b[0m\u001b[0;34m-\u001b[0m\u001b[0mstart\u001b[0m\u001b[0;34m\u001b[0m\u001b[0m\n\u001b[0;32m---> 11\u001b[0;31m \u001b[0mprint\u001b[0m\u001b[0;34m(\u001b[0m\u001b[0mdurantion\u001b[0m\u001b[0;34m)\u001b[0m\u001b[0;34m\u001b[0m\u001b[0m\n\u001b[0m",
      "\u001b[0;31mNameError\u001b[0m: name 'durantion' is not defined"
     ]
    }
   ],
   "source": [
    "# Investigate the change in within-cluster distance across number of clusters.\n",
    "# HINT: Use matplotlib's plot function to visualize this relationship.\n",
    "\n",
    "scores = []\n",
    "centers = np.arange(2,30,5)\n",
    "\n",
    "start = time()\n",
    "for center in centers:\n",
    "    scores.append(get_kmeans_score(data_pca, center))\n",
    "duration = time()-start\n",
    "print(duration) # very very long : 15 minutes"
   ]
  },
  {
   "cell_type": "code",
   "execution_count": 362,
   "metadata": {},
   "outputs": [
    {
     "data": {
      "text/plain": [
       "Text(0.5, 1.0, 'SSE vs. K')"
      ]
     },
     "execution_count": 362,
     "metadata": {},
     "output_type": "execute_result"
    },
    {
     "data": {
      "image/png": "[encoded data removed]",
      "text/plain": [
       "<Figure size 432x288 with 1 Axes>"
      ]
     },
     "metadata": {
      "needs_background": "light"
     },
     "output_type": "display_data"
    }
   ],
   "source": [
    "plt.plot(centers, scores, linestyle='--', marker='o', color='b');\n",
    "plt.xlabel('K');\n",
    "plt.ylabel('SSE');\n",
    "plt.title('SSE vs. K')"
   ]
  },
  {
   "cell_type": "code",
   "execution_count": 363,
   "metadata": {},
   "outputs": [],
   "source": [
    "# Re-fit the k-means model with the selected number of clusters and obtain\n",
    "# cluster predictions for the general population demographics data.\n",
    "\n",
    "center = 30\n",
    "kmeans = KMeans(n_clusters=center)\n",
    "\n",
    "# Then fit the model to your data using the fit method\n",
    "model = kmeans.fit(data_pca)\n",
    "    \n",
    "# Finally predict the labels on the same data to show the category that point belongs to\n",
    "labels = model.predict(data_pca) "
   ]
  },
  {
   "cell_type": "code",
   "execution_count": 484,
   "metadata": {},
   "outputs": [],
   "source": [
    "# Save K-Means Model to disk:\n",
    "# save the model to disk\n",
    "import pickle\n",
    "filename = 'finalized_kMeans.sav'\n",
    "pickle.dump(model, open(filename, 'wb'))"
   ]
  },
  {
   "cell_type": "code",
   "execution_count": null,
   "metadata": {},
   "outputs": [],
   "source": [
    "# load the model from disk\n",
    "filename = 'finalized_kMeans.sav'\n",
    "model = pickle.load(open(filename, 'rb'))"
   ]
  },
  {
   "cell_type": "code",
   "execution_count": 364,
   "metadata": {},
   "outputs": [
    {
     "data": {
      "text/plain": [
       "(797077,)"
      ]
     },
     "execution_count": 364,
     "metadata": {},
     "output_type": "execute_result"
    }
   ],
   "source": [
    "labels.shape"
   ]
  },
  {
   "cell_type": "code",
   "execution_count": 367,
   "metadata": {},
   "outputs": [
    {
     "data": {
      "text/plain": [
       "array([27,  8, 11, ...,  2, 14, 15], dtype=int32)"
      ]
     },
     "execution_count": 367,
     "metadata": {},
     "output_type": "execute_result"
    }
   ],
   "source": [
    "labels"
   ]
  },
  {
   "cell_type": "markdown",
   "metadata": {},
   "source": [
    "### Discussion 3.1: Apply Clustering to General Population\n",
    "\n",
    "(Double-click this cell and replace this text with your own text, reporting your findings and decisions regarding clustering. Into how many clusters have you decided to segment the population?)\n",
    "\n",
    "[Mini Batch K-Means](https://scikit-learn.org/stable/modules/generated/sklearn.cluster.MiniBatchKMeans.html)"
   ]
  },
  {
   "cell_type": "markdown",
   "metadata": {},
   "source": [
    "### Step 3.2: Apply All Steps to the Customer Data\n",
    "\n",
    "Now that you have clusters and cluster centers for the general population, it's time to see how the customer data maps on to those clusters. Take care to not confuse this for re-fitting all of the models to the customer data. Instead, you're going to use the fits from the general population to clean, transform, and cluster the customer data. In the last step of the project, you will interpret how the general population fits apply to the customer data.\n",
    "\n",
    "- Don't forget when loading in the customers data, that it is semicolon (`;`) delimited.\n",
    "- Apply the same feature wrangling, selection, and engineering steps to the customer demographics using the `clean_data()` function you created earlier. (You can assume that the customer demographics data has similar meaning behind missing data patterns as the general demographics data.)\n",
    "- Use the sklearn objects from the general demographics data, and apply their transformations to the customers data. That is, you should not be using a `.fit()` or `.fit_transform()` method to re-fit the old objects, nor should you be creating new sklearn objects! Carry the data through the feature scaling, PCA, and clustering steps, obtaining cluster assignments for all of the data in the customer demographics data."
   ]
  },
  {
   "cell_type": "code",
   "execution_count": 368,
   "metadata": {},
   "outputs": [],
   "source": [
    "# Load in the customer demographics data.\n",
    "customers = pd.read_csv(\"Udacity_CUSTOMERS_Subset.csv\", sep = \";\")"
   ]
  },
  {
   "cell_type": "code",
   "execution_count": 369,
   "metadata": {},
   "outputs": [
    {
     "data": {
      "text/plain": [
       "(191652, 85)"
      ]
     },
     "execution_count": 369,
     "metadata": {},
     "output_type": "execute_result"
    }
   ],
   "source": [
    "customers.shape"
   ]
  },
  {
   "cell_type": "code",
   "execution_count": 373,
   "metadata": {},
   "outputs": [
    {
     "data": {
      "text/html": [
       "<div>\n",
       "<style scoped>\n",
       "    .dataframe tbody tr th:only-of-type {\n",
       "        vertical-align: middle;\n",
       "    }\n",
       "\n",
       "    .dataframe tbody tr th {\n",
       "        vertical-align: top;\n",
       "    }\n",
       "\n",
       "    .dataframe thead th {\n",
       "        text-align: right;\n",
       "    }\n",
       "</style>\n",
       "<table border=\"1\" class=\"dataframe\">\n",
       "  <thead>\n",
       "    <tr style=\"text-align: right;\">\n",
       "      <th></th>\n",
       "      <th>AGER_TYP</th>\n",
       "      <th>ALTERSKATEGORIE_GROB</th>\n",
       "      <th>ANREDE_KZ</th>\n",
       "      <th>CJT_GESAMTTYP</th>\n",
       "      <th>FINANZ_MINIMALIST</th>\n",
       "      <th>FINANZ_SPARER</th>\n",
       "      <th>FINANZ_VORSORGER</th>\n",
       "      <th>FINANZ_ANLEGER</th>\n",
       "      <th>FINANZ_UNAUFFAELLIGER</th>\n",
       "      <th>FINANZ_HAUSBAUER</th>\n",
       "      <th>...</th>\n",
       "      <th>PLZ8_ANTG1</th>\n",
       "      <th>PLZ8_ANTG2</th>\n",
       "      <th>PLZ8_ANTG3</th>\n",
       "      <th>PLZ8_ANTG4</th>\n",
       "      <th>PLZ8_BAUMAX</th>\n",
       "      <th>PLZ8_HHZ</th>\n",
       "      <th>PLZ8_GBZ</th>\n",
       "      <th>ARBEIT</th>\n",
       "      <th>ORTSGR_KLS9</th>\n",
       "      <th>RELAT_AB</th>\n",
       "    </tr>\n",
       "  </thead>\n",
       "  <tbody>\n",
       "    <tr>\n",
       "      <th>count</th>\n",
       "      <td>191652.000000</td>\n",
       "      <td>191652.000000</td>\n",
       "      <td>191652.000000</td>\n",
       "      <td>188439.000000</td>\n",
       "      <td>191652.000000</td>\n",
       "      <td>191652.000000</td>\n",
       "      <td>191652.000000</td>\n",
       "      <td>191652.000000</td>\n",
       "      <td>191652.000000</td>\n",
       "      <td>191652.000000</td>\n",
       "      <td>...</td>\n",
       "      <td>138888.000000</td>\n",
       "      <td>138888.000000</td>\n",
       "      <td>138888.000000</td>\n",
       "      <td>138888.000000</td>\n",
       "      <td>138888.000000</td>\n",
       "      <td>138888.000000</td>\n",
       "      <td>138888.000000</td>\n",
       "      <td>141176.000000</td>\n",
       "      <td>141176.000000</td>\n",
       "      <td>141176.000000</td>\n",
       "    </tr>\n",
       "    <tr>\n",
       "      <th>mean</th>\n",
       "      <td>0.344359</td>\n",
       "      <td>3.060907</td>\n",
       "      <td>1.376432</td>\n",
       "      <td>3.677928</td>\n",
       "      <td>3.963773</td>\n",
       "      <td>2.057051</td>\n",
       "      <td>4.183317</td>\n",
       "      <td>2.439808</td>\n",
       "      <td>2.646176</td>\n",
       "      <td>2.781176</td>\n",
       "      <td>...</td>\n",
       "      <td>2.537404</td>\n",
       "      <td>2.731510</td>\n",
       "      <td>1.388817</td>\n",
       "      <td>0.539939</td>\n",
       "      <td>1.556607</td>\n",
       "      <td>3.634893</td>\n",
       "      <td>3.622192</td>\n",
       "      <td>2.824850</td>\n",
       "      <td>5.119517</td>\n",
       "      <td>2.898510</td>\n",
       "    </tr>\n",
       "    <tr>\n",
       "      <th>std</th>\n",
       "      <td>1.391672</td>\n",
       "      <td>1.086254</td>\n",
       "      <td>0.484492</td>\n",
       "      <td>1.813975</td>\n",
       "      <td>1.036230</td>\n",
       "      <td>1.319422</td>\n",
       "      <td>0.995365</td>\n",
       "      <td>1.697932</td>\n",
       "      <td>1.586506</td>\n",
       "      <td>1.147353</td>\n",
       "      <td>...</td>\n",
       "      <td>0.904927</td>\n",
       "      <td>0.840922</td>\n",
       "      <td>0.885038</td>\n",
       "      <td>0.637048</td>\n",
       "      <td>1.185736</td>\n",
       "      <td>0.933660</td>\n",
       "      <td>1.008472</td>\n",
       "      <td>1.012415</td>\n",
       "      <td>2.159184</td>\n",
       "      <td>1.422683</td>\n",
       "    </tr>\n",
       "    <tr>\n",
       "      <th>min</th>\n",
       "      <td>-1.000000</td>\n",
       "      <td>1.000000</td>\n",
       "      <td>1.000000</td>\n",
       "      <td>1.000000</td>\n",
       "      <td>1.000000</td>\n",
       "      <td>1.000000</td>\n",
       "      <td>1.000000</td>\n",
       "      <td>1.000000</td>\n",
       "      <td>1.000000</td>\n",
       "      <td>1.000000</td>\n",
       "      <td>...</td>\n",
       "      <td>0.000000</td>\n",
       "      <td>0.000000</td>\n",
       "      <td>0.000000</td>\n",
       "      <td>0.000000</td>\n",
       "      <td>1.000000</td>\n",
       "      <td>1.000000</td>\n",
       "      <td>1.000000</td>\n",
       "      <td>1.000000</td>\n",
       "      <td>1.000000</td>\n",
       "      <td>1.000000</td>\n",
       "    </tr>\n",
       "    <tr>\n",
       "      <th>25%</th>\n",
       "      <td>-1.000000</td>\n",
       "      <td>3.000000</td>\n",
       "      <td>1.000000</td>\n",
       "      <td>2.000000</td>\n",
       "      <td>3.000000</td>\n",
       "      <td>1.000000</td>\n",
       "      <td>3.000000</td>\n",
       "      <td>1.000000</td>\n",
       "      <td>1.000000</td>\n",
       "      <td>2.000000</td>\n",
       "      <td>...</td>\n",
       "      <td>2.000000</td>\n",
       "      <td>2.000000</td>\n",
       "      <td>1.000000</td>\n",
       "      <td>0.000000</td>\n",
       "      <td>1.000000</td>\n",
       "      <td>3.000000</td>\n",
       "      <td>3.000000</td>\n",
       "      <td>2.000000</td>\n",
       "      <td>4.000000</td>\n",
       "      <td>2.000000</td>\n",
       "    </tr>\n",
       "    <tr>\n",
       "      <th>50%</th>\n",
       "      <td>0.000000</td>\n",
       "      <td>3.000000</td>\n",
       "      <td>1.000000</td>\n",
       "      <td>4.000000</td>\n",
       "      <td>4.000000</td>\n",
       "      <td>1.000000</td>\n",
       "      <td>5.000000</td>\n",
       "      <td>2.000000</td>\n",
       "      <td>2.000000</td>\n",
       "      <td>3.000000</td>\n",
       "      <td>...</td>\n",
       "      <td>3.000000</td>\n",
       "      <td>3.000000</td>\n",
       "      <td>1.000000</td>\n",
       "      <td>0.000000</td>\n",
       "      <td>1.000000</td>\n",
       "      <td>3.000000</td>\n",
       "      <td>4.000000</td>\n",
       "      <td>3.000000</td>\n",
       "      <td>5.000000</td>\n",
       "      <td>3.000000</td>\n",
       "    </tr>\n",
       "    <tr>\n",
       "      <th>75%</th>\n",
       "      <td>2.000000</td>\n",
       "      <td>4.000000</td>\n",
       "      <td>2.000000</td>\n",
       "      <td>6.000000</td>\n",
       "      <td>5.000000</td>\n",
       "      <td>4.000000</td>\n",
       "      <td>5.000000</td>\n",
       "      <td>5.000000</td>\n",
       "      <td>5.000000</td>\n",
       "      <td>3.000000</td>\n",
       "      <td>...</td>\n",
       "      <td>3.000000</td>\n",
       "      <td>3.000000</td>\n",
       "      <td>2.000000</td>\n",
       "      <td>1.000000</td>\n",
       "      <td>1.000000</td>\n",
       "      <td>4.000000</td>\n",
       "      <td>4.000000</td>\n",
       "      <td>4.000000</td>\n",
       "      <td>7.000000</td>\n",
       "      <td>4.000000</td>\n",
       "    </tr>\n",
       "    <tr>\n",
       "      <th>max</th>\n",
       "      <td>3.000000</td>\n",
       "      <td>9.000000</td>\n",
       "      <td>2.000000</td>\n",
       "      <td>6.000000</td>\n",
       "      <td>5.000000</td>\n",
       "      <td>5.000000</td>\n",
       "      <td>5.000000</td>\n",
       "      <td>5.000000</td>\n",
       "      <td>5.000000</td>\n",
       "      <td>5.000000</td>\n",
       "      <td>...</td>\n",
       "      <td>4.000000</td>\n",
       "      <td>4.000000</td>\n",
       "      <td>3.000000</td>\n",
       "      <td>2.000000</td>\n",
       "      <td>5.000000</td>\n",
       "      <td>5.000000</td>\n",
       "      <td>5.000000</td>\n",
       "      <td>9.000000</td>\n",
       "      <td>9.000000</td>\n",
       "      <td>9.000000</td>\n",
       "    </tr>\n",
       "  </tbody>\n",
       "</table>\n",
       "<p>8 rows × 81 columns</p>\n",
       "</div>"
      ],
      "text/plain": [
       "            AGER_TYP  ALTERSKATEGORIE_GROB      ANREDE_KZ  CJT_GESAMTTYP  \\\n",
       "count  191652.000000         191652.000000  191652.000000  188439.000000   \n",
       "mean        0.344359              3.060907       1.376432       3.677928   \n",
       "std         1.391672              1.086254       0.484492       1.813975   \n",
       "min        -1.000000              1.000000       1.000000       1.000000   \n",
       "25%        -1.000000              3.000000       1.000000       2.000000   \n",
       "50%         0.000000              3.000000       1.000000       4.000000   \n",
       "75%         2.000000              4.000000       2.000000       6.000000   \n",
       "max         3.000000              9.000000       2.000000       6.000000   \n",
       "\n",
       "       FINANZ_MINIMALIST  FINANZ_SPARER  FINANZ_VORSORGER  FINANZ_ANLEGER  \\\n",
       "count      191652.000000  191652.000000     191652.000000   191652.000000   \n",
       "mean            3.963773       2.057051          4.183317        2.439808   \n",
       "std             1.036230       1.319422          0.995365        1.697932   \n",
       "min             1.000000       1.000000          1.000000        1.000000   \n",
       "25%             3.000000       1.000000          3.000000        1.000000   \n",
       "50%             4.000000       1.000000          5.000000        2.000000   \n",
       "75%             5.000000       4.000000          5.000000        5.000000   \n",
       "max             5.000000       5.000000          5.000000        5.000000   \n",
       "\n",
       "       FINANZ_UNAUFFAELLIGER  FINANZ_HAUSBAUER      ...           PLZ8_ANTG1  \\\n",
       "count          191652.000000     191652.000000      ...        138888.000000   \n",
       "mean                2.646176          2.781176      ...             2.537404   \n",
       "std                 1.586506          1.147353      ...             0.904927   \n",
       "min                 1.000000          1.000000      ...             0.000000   \n",
       "25%                 1.000000          2.000000      ...             2.000000   \n",
       "50%                 2.000000          3.000000      ...             3.000000   \n",
       "75%                 5.000000          3.000000      ...             3.000000   \n",
       "max                 5.000000          5.000000      ...             4.000000   \n",
       "\n",
       "          PLZ8_ANTG2     PLZ8_ANTG3     PLZ8_ANTG4    PLZ8_BAUMAX  \\\n",
       "count  138888.000000  138888.000000  138888.000000  138888.000000   \n",
       "mean        2.731510       1.388817       0.539939       1.556607   \n",
       "std         0.840922       0.885038       0.637048       1.185736   \n",
       "min         0.000000       0.000000       0.000000       1.000000   \n",
       "25%         2.000000       1.000000       0.000000       1.000000   \n",
       "50%         3.000000       1.000000       0.000000       1.000000   \n",
       "75%         3.000000       2.000000       1.000000       1.000000   \n",
       "max         4.000000       3.000000       2.000000       5.000000   \n",
       "\n",
       "            PLZ8_HHZ       PLZ8_GBZ         ARBEIT    ORTSGR_KLS9  \\\n",
       "count  138888.000000  138888.000000  141176.000000  141176.000000   \n",
       "mean        3.634893       3.622192       2.824850       5.119517   \n",
       "std         0.933660       1.008472       1.012415       2.159184   \n",
       "min         1.000000       1.000000       1.000000       1.000000   \n",
       "25%         3.000000       3.000000       2.000000       4.000000   \n",
       "50%         3.000000       4.000000       3.000000       5.000000   \n",
       "75%         4.000000       4.000000       4.000000       7.000000   \n",
       "max         5.000000       5.000000       9.000000       9.000000   \n",
       "\n",
       "            RELAT_AB  \n",
       "count  141176.000000  \n",
       "mean        2.898510  \n",
       "std         1.422683  \n",
       "min         1.000000  \n",
       "25%         2.000000  \n",
       "50%         3.000000  \n",
       "75%         4.000000  \n",
       "max         9.000000  \n",
       "\n",
       "[8 rows x 81 columns]"
      ]
     },
     "execution_count": 373,
     "metadata": {},
     "output_type": "execute_result"
    }
   ],
   "source": [
    "customers.describe()"
   ]
  },
  {
   "cell_type": "code",
   "execution_count": 385,
   "metadata": {},
   "outputs": [
    {
     "name": "stderr",
     "output_type": "stream",
     "text": [
      "/anaconda3/lib/python3.6/site-packages/ipykernel_launcher.py:16: SettingWithCopyWarning: \n",
      "A value is trying to be set on a copy of a slice from a DataFrame.\n",
      "Try using .loc[row_indexer,col_indexer] = value instead\n",
      "\n",
      "See the caveats in the documentation: http://pandas.pydata.org/pandas-docs/stable/indexing.html#indexing-view-versus-copy\n",
      "  app.launch_new_instance()\n",
      "/anaconda3/lib/python3.6/site-packages/pandas/core/indexing.py:189: SettingWithCopyWarning: \n",
      "A value is trying to be set on a copy of a slice from a DataFrame\n",
      "\n",
      "See the caveats in the documentation: http://pandas.pydata.org/pandas-docs/stable/indexing.html#indexing-view-versus-copy\n",
      "  self._setitem_with_indexer(indexer, value)\n"
     ]
    },
    {
     "name": "stdout",
     "output_type": "stream",
     "text": [
      "136.83011984825134\n"
     ]
    }
   ],
   "source": [
    "# Apply preprocessing, feature transformation, and clustering from the general\n",
    "# demographics onto the customer data, obtaining cluster predictions for the\n",
    "# customer demographics data.\n",
    "\n",
    "# Step 1: Apply preprocessing to the customer data\n",
    "start = time()\n",
    "customers_final_clean = clean_data(customers,feat_info,columns_to_drop,20)\n",
    "end = time()\n",
    "duration = end-start\n",
    "print(duration) # 2.5 min"
   ]
  },
  {
   "cell_type": "code",
   "execution_count": 416,
   "metadata": {},
   "outputs": [
    {
     "name": "stdout",
     "output_type": "stream",
     "text": [
      "set()\n"
     ]
    },
    {
     "data": {
      "text/plain": [
       "{1.0, 2.0, 3.0, 4.0, 5.0, 6.0, 8.0}"
      ]
     },
     "execution_count": 416,
     "metadata": {},
     "output_type": "execute_result"
    }
   ],
   "source": [
    "#Checking for coherence between general population variables and customer population data\n",
    "customers_variable = list(customers_final_clean.columns.values) #196\n",
    "azdias_variables = list(azdias_final_clean.columns.values) #197\n",
    "print(set(customers_variable).symmetric_difference(azdias_variables)) \n",
    "\n",
    "# Checking for value of the variable \"GEBAEUDETYP\"\n",
    "set(azdias_final[\"GEBAEUDETYP\"]) # {1.0, 2.0, 3.0, 4.0, 5.0, 6.0, 8.0}\n"
   ]
  },
  {
   "cell_type": "markdown",
   "metadata": {},
   "source": [
    "GEBAEUDETYP_5.0 is missing from customer population data since the variable \"GEBAEUDETYP\" is never equal to 5 in this population. Therefore, when applying pd.get_dummies() to such a population, the variable is not created. Hence we need to create the variable with 0 everywhere"
   ]
  },
  {
   "cell_type": "code",
   "execution_count": 417,
   "metadata": {},
   "outputs": [],
   "source": [
    "customers_final_clean[\"GEBAEUDETYP_5.0\"]=0"
   ]
  },
  {
   "cell_type": "code",
   "execution_count": 419,
   "metadata": {},
   "outputs": [],
   "source": [
    "# Step 2: apply the same feature transformation as the ones applied for the general population\n",
    "\n",
    "customers_final_clean1 = customers_final_clean.copy().fillna(value = customers_final_clean.mean(),axis=0)\n",
    "customers_final_data = customers_final_clean1.copy()\n",
    "\n",
    "features = list(customers_final_data.columns.values)\n",
    "customers_final_data[features] = scaler.transform(customers_final_data[features])"
   ]
  },
  {
   "cell_type": "code",
   "execution_count": 426,
   "metadata": {},
   "outputs": [],
   "source": [
    "# Step 3: use the components determined in the general popultaion to reduce dimensionality\n",
    "customers_data_pca = pca.transform(customers_final_data)"
   ]
  },
  {
   "cell_type": "code",
   "execution_count": 427,
   "metadata": {},
   "outputs": [],
   "source": [
    "# Step 2: Cluster the customer data using \n",
    "customers_labels = model.predict(customers_data_pca) "
   ]
  },
  {
   "cell_type": "code",
   "execution_count": 428,
   "metadata": {},
   "outputs": [
    {
     "data": {
      "text/plain": [
       "array([ 2, 14,  2, ...,  2, 19,  2], dtype=int32)"
      ]
     },
     "execution_count": 428,
     "metadata": {},
     "output_type": "execute_result"
    }
   ],
   "source": [
    "customers_labels"
   ]
  },
  {
   "cell_type": "markdown",
   "metadata": {},
   "source": [
    "### Step 3.3: Compare Customer Data to Demographics Data\n",
    "\n",
    "At this point, you have clustered data based on demographics of the general population of Germany, and seen how the customer data for a mail-order sales company maps onto those demographic clusters. In this final substep, you will compare the two cluster distributions to see where the strongest customer base for the company is.\n",
    "\n",
    "Consider the proportion of persons in each cluster for the general population, and the proportions for the customers. If we think the company's customer base to be universal, then the cluster assignment proportions should be fairly similar between the two. If there are only particular segments of the population that are interested in the company's products, then we should see a mismatch from one to the other. If there is a higher proportion of persons in a cluster for the customer data compared to the general population (e.g. 5% of persons are assigned to a cluster for the general population, but 15% of the customer data is closest to that cluster's centroid) then that suggests the people in that cluster to be a target audience for the company. On the other hand, the proportion of the data in a cluster being larger in the general population than the customer data (e.g. only 2% of customers closest to a population centroid that captures 6% of the data) suggests that group of persons to be outside of the target demographics.\n",
    "\n",
    "Take a look at the following points in this step:\n",
    "\n",
    "- Compute the proportion of data points in each cluster for the general population and the customer data. Visualizations will be useful here: both for the individual dataset proportions, but also to visualize the ratios in cluster representation between groups. Seaborn's [`countplot()`](https://seaborn.pydata.org/generated/seaborn.countplot.html) or [`barplot()`](https://seaborn.pydata.org/generated/seaborn.barplot.html) function could be handy.\n",
    "  - Recall the analysis you performed in step 1.1.3 of the project, where you separated out certain data points from the dataset if they had more than a specified threshold of missing values. If you found that this group was qualitatively different from the main bulk of the data, you should treat this as an additional data cluster in this analysis. Make sure that you account for the number of data points in this subset, for both the general population and customer datasets, when making your computations!\n",
    "- Which cluster or clusters are overrepresented in the customer dataset compared to the general population? Select at least one such cluster and infer what kind of people might be represented by that cluster. Use the principal component interpretations from step 2.3 or look at additional components to help you make this inference. Alternatively, you can use the `.inverse_transform()` method of the PCA and StandardScaler objects to transform centroids back to the original data space and interpret the retrieved values directly.\n",
    "- Perform a similar investigation for the underrepresented clusters. Which cluster or clusters are underrepresented in the customer dataset compared to the general population, and what kinds of people are typified by these clusters?"
   ]
  },
  {
   "cell_type": "code",
   "execution_count": 433,
   "metadata": {},
   "outputs": [
    {
     "data": {
      "text/plain": [
       "797077"
      ]
     },
     "execution_count": 433,
     "metadata": {},
     "output_type": "execute_result"
    }
   ],
   "source": [
    "n_general_pop = len(labels)\n",
    "n_general_pop"
   ]
  },
  {
   "cell_type": "code",
   "execution_count": 438,
   "metadata": {},
   "outputs": [],
   "source": [
    "# Compare the proportion of data in each cluster for the customer data to the\n",
    "# proportion of data in each cluster for the general population.\n",
    "\n",
    "cluster_proportion=[]\n",
    "n_general_pop = len(labels)\n",
    "n_customer_pop=len(customers_labels)\n",
    "\n",
    "for cluster_name in list(set(labels)):\n",
    "    cluster_proportion.append({\n",
    "    \"cluster_name\":cluster_name,\n",
    "    \"perc_general_pop\":round(sum(labels==cluster_name)/n_general_pop*100,2),\n",
    "    \"perc_customer_pop\":round(sum(customers_labels==cluster_name)/n_customer_pop*100,2)\n",
    "    }\n",
    "    )\n",
    "df_cluster_proportion=pd.DataFrame(data=cluster_proportion)"
   ]
  },
  {
   "cell_type": "code",
   "execution_count": 439,
   "metadata": {},
   "outputs": [
    {
     "data": {
      "text/html": [
       "<div>\n",
       "<style scoped>\n",
       "    .dataframe tbody tr th:only-of-type {\n",
       "        vertical-align: middle;\n",
       "    }\n",
       "\n",
       "    .dataframe tbody tr th {\n",
       "        vertical-align: top;\n",
       "    }\n",
       "\n",
       "    .dataframe thead th {\n",
       "        text-align: right;\n",
       "    }\n",
       "</style>\n",
       "<table border=\"1\" class=\"dataframe\">\n",
       "  <thead>\n",
       "    <tr style=\"text-align: right;\">\n",
       "      <th></th>\n",
       "      <th>cluster_name</th>\n",
       "      <th>perc_customer_pop</th>\n",
       "      <th>perc_general_pop</th>\n",
       "    </tr>\n",
       "  </thead>\n",
       "  <tbody>\n",
       "    <tr>\n",
       "      <th>0</th>\n",
       "      <td>0</td>\n",
       "      <td>13.15</td>\n",
       "      <td>2.73</td>\n",
       "    </tr>\n",
       "    <tr>\n",
       "      <th>1</th>\n",
       "      <td>1</td>\n",
       "      <td>0.00</td>\n",
       "      <td>5.16</td>\n",
       "    </tr>\n",
       "    <tr>\n",
       "      <th>2</th>\n",
       "      <td>2</td>\n",
       "      <td>14.49</td>\n",
       "      <td>4.12</td>\n",
       "    </tr>\n",
       "    <tr>\n",
       "      <th>3</th>\n",
       "      <td>3</td>\n",
       "      <td>0.00</td>\n",
       "      <td>1.47</td>\n",
       "    </tr>\n",
       "    <tr>\n",
       "      <th>4</th>\n",
       "      <td>4</td>\n",
       "      <td>0.51</td>\n",
       "      <td>4.17</td>\n",
       "    </tr>\n",
       "    <tr>\n",
       "      <th>5</th>\n",
       "      <td>5</td>\n",
       "      <td>0.15</td>\n",
       "      <td>2.35</td>\n",
       "    </tr>\n",
       "    <tr>\n",
       "      <th>6</th>\n",
       "      <td>6</td>\n",
       "      <td>5.12</td>\n",
       "      <td>4.20</td>\n",
       "    </tr>\n",
       "    <tr>\n",
       "      <th>7</th>\n",
       "      <td>7</td>\n",
       "      <td>12.12</td>\n",
       "      <td>4.16</td>\n",
       "    </tr>\n",
       "    <tr>\n",
       "      <th>8</th>\n",
       "      <td>8</td>\n",
       "      <td>6.43</td>\n",
       "      <td>4.68</td>\n",
       "    </tr>\n",
       "    <tr>\n",
       "      <th>9</th>\n",
       "      <td>9</td>\n",
       "      <td>0.10</td>\n",
       "      <td>3.40</td>\n",
       "    </tr>\n",
       "    <tr>\n",
       "      <th>10</th>\n",
       "      <td>10</td>\n",
       "      <td>0.00</td>\n",
       "      <td>1.11</td>\n",
       "    </tr>\n",
       "    <tr>\n",
       "      <th>11</th>\n",
       "      <td>11</td>\n",
       "      <td>0.00</td>\n",
       "      <td>1.58</td>\n",
       "    </tr>\n",
       "    <tr>\n",
       "      <th>12</th>\n",
       "      <td>12</td>\n",
       "      <td>0.06</td>\n",
       "      <td>3.56</td>\n",
       "    </tr>\n",
       "    <tr>\n",
       "      <th>13</th>\n",
       "      <td>13</td>\n",
       "      <td>0.00</td>\n",
       "      <td>1.54</td>\n",
       "    </tr>\n",
       "    <tr>\n",
       "      <th>14</th>\n",
       "      <td>14</td>\n",
       "      <td>5.97</td>\n",
       "      <td>6.56</td>\n",
       "    </tr>\n",
       "    <tr>\n",
       "      <th>15</th>\n",
       "      <td>15</td>\n",
       "      <td>3.07</td>\n",
       "      <td>5.47</td>\n",
       "    </tr>\n",
       "    <tr>\n",
       "      <th>16</th>\n",
       "      <td>16</td>\n",
       "      <td>5.25</td>\n",
       "      <td>4.79</td>\n",
       "    </tr>\n",
       "    <tr>\n",
       "      <th>17</th>\n",
       "      <td>17</td>\n",
       "      <td>0.96</td>\n",
       "      <td>4.34</td>\n",
       "    </tr>\n",
       "    <tr>\n",
       "      <th>18</th>\n",
       "      <td>18</td>\n",
       "      <td>0.36</td>\n",
       "      <td>2.12</td>\n",
       "    </tr>\n",
       "    <tr>\n",
       "      <th>19</th>\n",
       "      <td>19</td>\n",
       "      <td>24.61</td>\n",
       "      <td>5.71</td>\n",
       "    </tr>\n",
       "    <tr>\n",
       "      <th>20</th>\n",
       "      <td>20</td>\n",
       "      <td>0.47</td>\n",
       "      <td>4.49</td>\n",
       "    </tr>\n",
       "    <tr>\n",
       "      <th>21</th>\n",
       "      <td>21</td>\n",
       "      <td>0.12</td>\n",
       "      <td>2.96</td>\n",
       "    </tr>\n",
       "    <tr>\n",
       "      <th>22</th>\n",
       "      <td>22</td>\n",
       "      <td>0.42</td>\n",
       "      <td>1.94</td>\n",
       "    </tr>\n",
       "    <tr>\n",
       "      <th>23</th>\n",
       "      <td>23</td>\n",
       "      <td>2.76</td>\n",
       "      <td>3.30</td>\n",
       "    </tr>\n",
       "    <tr>\n",
       "      <th>24</th>\n",
       "      <td>24</td>\n",
       "      <td>0.09</td>\n",
       "      <td>1.05</td>\n",
       "    </tr>\n",
       "    <tr>\n",
       "      <th>25</th>\n",
       "      <td>25</td>\n",
       "      <td>0.12</td>\n",
       "      <td>0.80</td>\n",
       "    </tr>\n",
       "    <tr>\n",
       "      <th>26</th>\n",
       "      <td>26</td>\n",
       "      <td>2.04</td>\n",
       "      <td>6.03</td>\n",
       "    </tr>\n",
       "    <tr>\n",
       "      <th>27</th>\n",
       "      <td>27</td>\n",
       "      <td>1.61</td>\n",
       "      <td>2.99</td>\n",
       "    </tr>\n",
       "    <tr>\n",
       "      <th>28</th>\n",
       "      <td>28</td>\n",
       "      <td>0.00</td>\n",
       "      <td>0.51</td>\n",
       "    </tr>\n",
       "    <tr>\n",
       "      <th>29</th>\n",
       "      <td>29</td>\n",
       "      <td>0.01</td>\n",
       "      <td>2.72</td>\n",
       "    </tr>\n",
       "  </tbody>\n",
       "</table>\n",
       "</div>"
      ],
      "text/plain": [
       "    cluster_name  perc_customer_pop  perc_general_pop\n",
       "0              0              13.15              2.73\n",
       "1              1               0.00              5.16\n",
       "2              2              14.49              4.12\n",
       "3              3               0.00              1.47\n",
       "4              4               0.51              4.17\n",
       "5              5               0.15              2.35\n",
       "6              6               5.12              4.20\n",
       "7              7              12.12              4.16\n",
       "8              8               6.43              4.68\n",
       "9              9               0.10              3.40\n",
       "10            10               0.00              1.11\n",
       "11            11               0.00              1.58\n",
       "12            12               0.06              3.56\n",
       "13            13               0.00              1.54\n",
       "14            14               5.97              6.56\n",
       "15            15               3.07              5.47\n",
       "16            16               5.25              4.79\n",
       "17            17               0.96              4.34\n",
       "18            18               0.36              2.12\n",
       "19            19              24.61              5.71\n",
       "20            20               0.47              4.49\n",
       "21            21               0.12              2.96\n",
       "22            22               0.42              1.94\n",
       "23            23               2.76              3.30\n",
       "24            24               0.09              1.05\n",
       "25            25               0.12              0.80\n",
       "26            26               2.04              6.03\n",
       "27            27               1.61              2.99\n",
       "28            28               0.00              0.51\n",
       "29            29               0.01              2.72"
      ]
     },
     "metadata": {},
     "output_type": "display_data"
    }
   ],
   "source": [
    "display(df_cluster_proportion)"
   ]
  },
  {
   "cell_type": "code",
   "execution_count": 451,
   "metadata": {},
   "outputs": [],
   "source": [
    "cluster_proportion1=[]\n",
    "for cluster_name in list(set(labels)):\n",
    "    cluster_proportion1.append({\n",
    "    \"cluster_name\":cluster_name,\n",
    "    \"pop_name\":\"general\",\n",
    "    \"perc_pop\":round(sum(labels==cluster_name)/n_general_pop*100,2)\n",
    "    })\n",
    "    \n",
    "    cluster_proportion1.append({\n",
    "    \"cluster_name\":cluster_name,\n",
    "    \"pop_name\":\"customers\",\n",
    "    \"perc_pop\":round(sum(customers_labels==cluster_name)/n_customer_pop*100,2)\n",
    "    })\n",
    "    \n",
    "df_cluster_proportion1=pd.DataFrame(data=cluster_proportion1)"
   ]
  },
  {
   "cell_type": "code",
   "execution_count": 453,
   "metadata": {},
   "outputs": [
    {
     "data": {
      "image/png": "[encoded data removed]",
      "text/plain": [
       "<Figure size 1440x576 with 1 Axes>"
      ]
     },
     "metadata": {},
     "output_type": "display_data"
    }
   ],
   "source": [
    "import seaborn as sns\n",
    "plt.subplots(figsize = (20,8))\n",
    "sns.set(style=\"whitegrid\")\n",
    "ax = sns.barplot(x=\"cluster_name\", y=\"perc_pop\",hue=\"pop_name\", data=df_cluster_proportion1)"
   ]
  },
  {
   "cell_type": "code",
   "execution_count": 446,
   "metadata": {},
   "outputs": [
    {
     "data": {
      "text/html": [
       "<div>\n",
       "<style scoped>\n",
       "    .dataframe tbody tr th:only-of-type {\n",
       "        vertical-align: middle;\n",
       "    }\n",
       "\n",
       "    .dataframe tbody tr th {\n",
       "        vertical-align: top;\n",
       "    }\n",
       "\n",
       "    .dataframe thead th {\n",
       "        text-align: right;\n",
       "    }\n",
       "</style>\n",
       "<table border=\"1\" class=\"dataframe\">\n",
       "  <thead>\n",
       "    <tr style=\"text-align: right;\">\n",
       "      <th></th>\n",
       "      <th>cluster_name</th>\n",
       "      <th>perc_customer_pop</th>\n",
       "      <th>perc_general_pop</th>\n",
       "    </tr>\n",
       "  </thead>\n",
       "  <tbody>\n",
       "    <tr>\n",
       "      <th>0</th>\n",
       "      <td>0</td>\n",
       "      <td>13.15</td>\n",
       "      <td>2.73</td>\n",
       "    </tr>\n",
       "    <tr>\n",
       "      <th>2</th>\n",
       "      <td>2</td>\n",
       "      <td>14.49</td>\n",
       "      <td>4.12</td>\n",
       "    </tr>\n",
       "    <tr>\n",
       "      <th>7</th>\n",
       "      <td>7</td>\n",
       "      <td>12.12</td>\n",
       "      <td>4.16</td>\n",
       "    </tr>\n",
       "    <tr>\n",
       "      <th>19</th>\n",
       "      <td>19</td>\n",
       "      <td>24.61</td>\n",
       "      <td>5.71</td>\n",
       "    </tr>\n",
       "  </tbody>\n",
       "</table>\n",
       "</div>"
      ],
      "text/plain": [
       "    cluster_name  perc_customer_pop  perc_general_pop\n",
       "0              0              13.15              2.73\n",
       "2              2              14.49              4.12\n",
       "7              7              12.12              4.16\n",
       "19            19              24.61              5.71"
      ]
     },
     "metadata": {},
     "output_type": "display_data"
    }
   ],
   "source": [
    "# What kinds of people are part of a cluster that is overrepresented in the\n",
    "# customer data compared to the general population?\n",
    "\n",
    "# identify overrepresented clusters:\n",
    "overrepresentation_factor=2\n",
    "cluster_name_overrepresented = df_cluster_proportion[df_cluster_proportion[\"perc_customer_pop\"]>overrepresentation_factor*df_cluster_proportion[\"perc_general_pop\"]]\n",
    "display(cluster_name_overrepresented)\n",
    "\n"
   ]
  },
  {
   "cell_type": "code",
   "execution_count": 447,
   "metadata": {},
   "outputs": [
    {
     "data": {
      "text/html": [
       "<div>\n",
       "<style scoped>\n",
       "    .dataframe tbody tr th:only-of-type {\n",
       "        vertical-align: middle;\n",
       "    }\n",
       "\n",
       "    .dataframe tbody tr th {\n",
       "        vertical-align: top;\n",
       "    }\n",
       "\n",
       "    .dataframe thead th {\n",
       "        text-align: right;\n",
       "    }\n",
       "</style>\n",
       "<table border=\"1\" class=\"dataframe\">\n",
       "  <thead>\n",
       "    <tr style=\"text-align: right;\">\n",
       "      <th></th>\n",
       "      <th>cluster_name</th>\n",
       "      <th>perc_customer_pop</th>\n",
       "      <th>perc_general_pop</th>\n",
       "    </tr>\n",
       "  </thead>\n",
       "  <tbody>\n",
       "    <tr>\n",
       "      <th>1</th>\n",
       "      <td>1</td>\n",
       "      <td>0.00</td>\n",
       "      <td>5.16</td>\n",
       "    </tr>\n",
       "    <tr>\n",
       "      <th>3</th>\n",
       "      <td>3</td>\n",
       "      <td>0.00</td>\n",
       "      <td>1.47</td>\n",
       "    </tr>\n",
       "    <tr>\n",
       "      <th>4</th>\n",
       "      <td>4</td>\n",
       "      <td>0.51</td>\n",
       "      <td>4.17</td>\n",
       "    </tr>\n",
       "    <tr>\n",
       "      <th>5</th>\n",
       "      <td>5</td>\n",
       "      <td>0.15</td>\n",
       "      <td>2.35</td>\n",
       "    </tr>\n",
       "    <tr>\n",
       "      <th>9</th>\n",
       "      <td>9</td>\n",
       "      <td>0.10</td>\n",
       "      <td>3.40</td>\n",
       "    </tr>\n",
       "    <tr>\n",
       "      <th>10</th>\n",
       "      <td>10</td>\n",
       "      <td>0.00</td>\n",
       "      <td>1.11</td>\n",
       "    </tr>\n",
       "    <tr>\n",
       "      <th>11</th>\n",
       "      <td>11</td>\n",
       "      <td>0.00</td>\n",
       "      <td>1.58</td>\n",
       "    </tr>\n",
       "    <tr>\n",
       "      <th>12</th>\n",
       "      <td>12</td>\n",
       "      <td>0.06</td>\n",
       "      <td>3.56</td>\n",
       "    </tr>\n",
       "    <tr>\n",
       "      <th>13</th>\n",
       "      <td>13</td>\n",
       "      <td>0.00</td>\n",
       "      <td>1.54</td>\n",
       "    </tr>\n",
       "    <tr>\n",
       "      <th>17</th>\n",
       "      <td>17</td>\n",
       "      <td>0.96</td>\n",
       "      <td>4.34</td>\n",
       "    </tr>\n",
       "    <tr>\n",
       "      <th>18</th>\n",
       "      <td>18</td>\n",
       "      <td>0.36</td>\n",
       "      <td>2.12</td>\n",
       "    </tr>\n",
       "    <tr>\n",
       "      <th>20</th>\n",
       "      <td>20</td>\n",
       "      <td>0.47</td>\n",
       "      <td>4.49</td>\n",
       "    </tr>\n",
       "    <tr>\n",
       "      <th>21</th>\n",
       "      <td>21</td>\n",
       "      <td>0.12</td>\n",
       "      <td>2.96</td>\n",
       "    </tr>\n",
       "    <tr>\n",
       "      <th>22</th>\n",
       "      <td>22</td>\n",
       "      <td>0.42</td>\n",
       "      <td>1.94</td>\n",
       "    </tr>\n",
       "    <tr>\n",
       "      <th>24</th>\n",
       "      <td>24</td>\n",
       "      <td>0.09</td>\n",
       "      <td>1.05</td>\n",
       "    </tr>\n",
       "    <tr>\n",
       "      <th>25</th>\n",
       "      <td>25</td>\n",
       "      <td>0.12</td>\n",
       "      <td>0.80</td>\n",
       "    </tr>\n",
       "    <tr>\n",
       "      <th>26</th>\n",
       "      <td>26</td>\n",
       "      <td>2.04</td>\n",
       "      <td>6.03</td>\n",
       "    </tr>\n",
       "    <tr>\n",
       "      <th>28</th>\n",
       "      <td>28</td>\n",
       "      <td>0.00</td>\n",
       "      <td>0.51</td>\n",
       "    </tr>\n",
       "    <tr>\n",
       "      <th>29</th>\n",
       "      <td>29</td>\n",
       "      <td>0.01</td>\n",
       "      <td>2.72</td>\n",
       "    </tr>\n",
       "  </tbody>\n",
       "</table>\n",
       "</div>"
      ],
      "text/plain": [
       "    cluster_name  perc_customer_pop  perc_general_pop\n",
       "1              1               0.00              5.16\n",
       "3              3               0.00              1.47\n",
       "4              4               0.51              4.17\n",
       "5              5               0.15              2.35\n",
       "9              9               0.10              3.40\n",
       "10            10               0.00              1.11\n",
       "11            11               0.00              1.58\n",
       "12            12               0.06              3.56\n",
       "13            13               0.00              1.54\n",
       "17            17               0.96              4.34\n",
       "18            18               0.36              2.12\n",
       "20            20               0.47              4.49\n",
       "21            21               0.12              2.96\n",
       "22            22               0.42              1.94\n",
       "24            24               0.09              1.05\n",
       "25            25               0.12              0.80\n",
       "26            26               2.04              6.03\n",
       "28            28               0.00              0.51\n",
       "29            29               0.01              2.72"
      ]
     },
     "metadata": {},
     "output_type": "display_data"
    }
   ],
   "source": [
    "# What kinds of people are part of a cluster that is underrepresented in the\n",
    "# customer data compared to the general population?\n",
    "\n",
    "underrepresentation_factor=2\n",
    "cluster_name_underrepresented = df_cluster_proportion[underrepresentation_factor*df_cluster_proportion[\"perc_customer_pop\"]<df_cluster_proportion[\"perc_general_pop\"]]\n",
    "display(cluster_name_underrepresented)\n"
   ]
  },
  {
   "cell_type": "markdown",
   "metadata": {},
   "source": [
    "### Discussion 3.3: Compare Customer Data to Demographics Data\n",
    "\n",
    "(Double-click this cell and replace this text with your own text, reporting findings and conclusions from the clustering analysis. Can we describe segments of the population that are relatively popular with the mail-order company, or relatively unpopular with the company?)"
   ]
  },
  {
   "cell_type": "code",
   "execution_count": 481,
   "metadata": {},
   "outputs": [],
   "source": [
    "# Step 1: describe one of the overrepresented clusters\n",
    "\n",
    "selected_cluster=19\n",
    "\n",
    "# Get the centroids of this cluster\n",
    "centroids_selected_pca =model.cluster_centers_[selected_cluster]\n",
    "\n",
    "# Transform centroids coordinates back to the original data space \n",
    "centroids_selected_scaled=pca.inverse_transform(centroids_selected_pca) \n",
    "centroids_selected=scaler.inverse_transform(centroids_selected_scaled) "
   ]
  },
  {
   "cell_type": "code",
   "execution_count": 482,
   "metadata": {},
   "outputs": [
    {
     "data": {
      "text/html": [
       "<div>\n",
       "<style scoped>\n",
       "    .dataframe tbody tr th:only-of-type {\n",
       "        vertical-align: middle;\n",
       "    }\n",
       "\n",
       "    .dataframe tbody tr th {\n",
       "        vertical-align: top;\n",
       "    }\n",
       "\n",
       "    .dataframe thead th {\n",
       "        text-align: right;\n",
       "    }\n",
       "</style>\n",
       "<table border=\"1\" class=\"dataframe\">\n",
       "  <thead>\n",
       "    <tr style=\"text-align: right;\">\n",
       "      <th></th>\n",
       "      <th>0</th>\n",
       "    </tr>\n",
       "  </thead>\n",
       "  <tbody>\n",
       "    <tr>\n",
       "      <th>ALTERSKATEGORIE_GROB</th>\n",
       "      <td>3.370704</td>\n",
       "    </tr>\n",
       "    <tr>\n",
       "      <th>ANREDE_KZ</th>\n",
       "      <td>1.383339</td>\n",
       "    </tr>\n",
       "    <tr>\n",
       "      <th>FINANZ_MINIMALIST</th>\n",
       "      <td>4.294875</td>\n",
       "    </tr>\n",
       "    <tr>\n",
       "      <th>FINANZ_SPARER</th>\n",
       "      <td>1.605162</td>\n",
       "    </tr>\n",
       "    <tr>\n",
       "      <th>FINANZ_VORSORGER</th>\n",
       "      <td>4.388149</td>\n",
       "    </tr>\n",
       "    <tr>\n",
       "      <th>FINANZ_ANLEGER</th>\n",
       "      <td>1.751200</td>\n",
       "    </tr>\n",
       "    <tr>\n",
       "      <th>FINANZ_UNAUFFAELLIGER</th>\n",
       "      <td>2.104484</td>\n",
       "    </tr>\n",
       "    <tr>\n",
       "      <th>FINANZ_HAUSBAUER</th>\n",
       "      <td>2.486127</td>\n",
       "    </tr>\n",
       "    <tr>\n",
       "      <th>GREEN_AVANTGARDE</th>\n",
       "      <td>0.596406</td>\n",
       "    </tr>\n",
       "    <tr>\n",
       "      <th>HEALTH_TYP</th>\n",
       "      <td>2.013153</td>\n",
       "    </tr>\n",
       "    <tr>\n",
       "      <th>LP_LEBENSPHASE_FEIN</th>\n",
       "      <td>24.238328</td>\n",
       "    </tr>\n",
       "    <tr>\n",
       "      <th>LP_LEBENSPHASE_GROB</th>\n",
       "      <td>7.076619</td>\n",
       "    </tr>\n",
       "    <tr>\n",
       "      <th>RETOURTYP_BK_S</th>\n",
       "      <td>3.779974</td>\n",
       "    </tr>\n",
       "    <tr>\n",
       "      <th>SEMIO_SOZ</th>\n",
       "      <td>4.146455</td>\n",
       "    </tr>\n",
       "    <tr>\n",
       "      <th>SEMIO_FAM</th>\n",
       "      <td>3.792422</td>\n",
       "    </tr>\n",
       "    <tr>\n",
       "      <th>SEMIO_REL</th>\n",
       "      <td>3.246611</td>\n",
       "    </tr>\n",
       "    <tr>\n",
       "      <th>SEMIO_MAT</th>\n",
       "      <td>3.732943</td>\n",
       "    </tr>\n",
       "    <tr>\n",
       "      <th>SEMIO_VERT</th>\n",
       "      <td>4.984690</td>\n",
       "    </tr>\n",
       "    <tr>\n",
       "      <th>SEMIO_LUST</th>\n",
       "      <td>5.316101</td>\n",
       "    </tr>\n",
       "    <tr>\n",
       "      <th>SEMIO_ERL</th>\n",
       "      <td>4.912064</td>\n",
       "    </tr>\n",
       "  </tbody>\n",
       "</table>\n",
       "</div>"
      ],
      "text/plain": [
       "                               0\n",
       "ALTERSKATEGORIE_GROB    3.370704\n",
       "ANREDE_KZ               1.383339\n",
       "FINANZ_MINIMALIST       4.294875\n",
       "FINANZ_SPARER           1.605162\n",
       "FINANZ_VORSORGER        4.388149\n",
       "FINANZ_ANLEGER          1.751200\n",
       "FINANZ_UNAUFFAELLIGER   2.104484\n",
       "FINANZ_HAUSBAUER        2.486127\n",
       "GREEN_AVANTGARDE        0.596406\n",
       "HEALTH_TYP              2.013153\n",
       "LP_LEBENSPHASE_FEIN    24.238328\n",
       "LP_LEBENSPHASE_GROB     7.076619\n",
       "RETOURTYP_BK_S          3.779974\n",
       "SEMIO_SOZ               4.146455\n",
       "SEMIO_FAM               3.792422\n",
       "SEMIO_REL               3.246611\n",
       "SEMIO_MAT               3.732943\n",
       "SEMIO_VERT              4.984690\n",
       "SEMIO_LUST              5.316101\n",
       "SEMIO_ERL               4.912064"
      ]
     },
     "execution_count": 482,
     "metadata": {},
     "output_type": "execute_result"
    }
   ],
   "source": [
    "df_centroids_selected = pd.DataFrame(centroids_selected)\n",
    "df_centroids_selected.index =final_data.keys()\n",
    "df_centroids_selected.head(20)"
   ]
  },
  {
   "cell_type": "markdown",
   "metadata": {},
   "source": [
    "#"
   ]
  },
  {
   "cell_type": "code",
   "execution_count": null,
   "metadata": {},
   "outputs": [],
   "source": [
    "# Step 1 - alernative approach using components interpretations from step 2.3\n",
    "selected_cluster=19\n",
    "\n",
    "# Get the centroids of this cluster\n",
    "centroids_selected_pca =model.cluster_centers_[selected_cluster]"
   ]
  },
  {
   "cell_type": "markdown",
   "metadata": {},
   "source": [
    "> Congratulations on making it this far in the project! Before you finish, make sure to check through the entire notebook from top to bottom to make sure that your analysis follows a logical flow and all of your findings are documented in **Discussion** cells. Once you've checked over all of your work, you should export the notebook as an HTML document to submit for evaluation. You can do this from the menu, navigating to **File -> Download as -> HTML (.html)**. You will submit both that document and this notebook for your project submission."
   ]
  }
 ],
 "metadata": {
  "kernelspec": {
   "display_name": "Python 3",
   "language": "python",
   "name": "python3"
  },
  "language_info": {
   "codemirror_mode": {
    "name": "ipython",
    "version": 3
   },
   "file_extension": ".py",
   "mimetype": "text/x-python",
   "name": "python",
   "nbconvert_exporter": "python",
   "pygments_lexer": "ipython3",
   "version": "3.5.5"
  },
  "widgets": {
   "state": {},
   "version": "1.1.2"
  }
 },
 "nbformat": 4,
 "nbformat_minor": 2
}
